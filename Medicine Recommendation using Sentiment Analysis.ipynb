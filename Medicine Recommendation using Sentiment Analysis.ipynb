{
 "cells": [
  {
   "cell_type": "markdown",
   "metadata": {
    "_uuid": "65ba9ff8df72fdc475b6492fbde535b27ef75a54"
   },
   "source": [
    "Worked on the project for *Medicine Recommendation from the Reviews* that fit the patient's condition. The process proceeds in the order of **data exploration  - data preprocessing - model - conclusion**. In the data exploration part, had a look at data types with visualization techniques and statistical techniques. Through this process, set the topic, preprocess the data to fit the objective, and create various variables to fit model.  At the model part, used sentiment emotional analysis using word dictionary, n-gram applying deep learning, etc. In order to compensate the limitation of natural language processing,  used Lightgbm machine learning model and reliability was further secured through usefulcount. Finally, introduced the limitations and weak points of conclusion and analysis of the project.\n",
    "\n",
    "---\n",
    "\n"
   ]
  },
  {
   "cell_type": "code",
   "execution_count": 1,
   "metadata": {
    "_cell_guid": "b1076dfc-b9ad-4769-8c92-a6c4dae69d19",
    "_kg_hide-input": true,
    "_uuid": "8f2839f25d086af736a60e9eeb907d3b93b6e0e5"
   },
   "outputs": [
    {
     "data": {
      "text/html": [
       "        <script type=\"text/javascript\">\n",
       "        window.PlotlyConfig = {MathJaxConfig: 'local'};\n",
       "        if (window.MathJax) {MathJax.Hub.Config({SVG: {font: \"STIX-Web\"}});}\n",
       "        if (typeof require !== 'undefined') {\n",
       "        require.undef(\"plotly\");\n",
       "        requirejs.config({\n",
       "            paths: {\n",
       "                'plotly': ['https://cdn.plot.ly/plotly-latest.min']\n",
       "            }\n",
       "        });\n",
       "        require(['plotly'], function(Plotly) {\n",
       "            window._Plotly = Plotly;\n",
       "        });\n",
       "        }\n",
       "        </script>\n",
       "        "
      ]
     },
     "metadata": {},
     "output_type": "display_data"
    }
   ],
   "source": [
    "import pandas as pd \n",
    "import matplotlib.pyplot as plt \n",
    "import seaborn as sns \n",
    "import numpy as np  \n",
    "from scipy.stats import norm \n",
    "from sklearn.preprocessing import StandardScaler \n",
    "from scipy import stats  \n",
    "import warnings \n",
    "warnings.filterwarnings('ignore')\n",
    "%matplotlib inline\n",
    "import gc\n",
    "import re\n",
    "import random\n",
    "\n",
    "import os\n",
    "import string\n",
    "color = sns.color_palette()\n",
    "\n",
    "from plotly import tools\n",
    "import plotly.offline as py\n",
    "import plotly.graph_objs as go\n",
    "from collections import defaultdict\n",
    "\n",
    "from sklearn import model_selection, preprocessing, metrics, ensemble, naive_bayes, linear_model\n",
    "from sklearn.feature_extraction.text import TfidfVectorizer, CountVectorizer\n",
    "from sklearn.decomposition import TruncatedSVD\n",
    "import lightgbm as lgb\n",
    "\n",
    "from wordcloud import WordCloud, STOPWORDS\n",
    "\n",
    "from bs4 import BeautifulSoup\n",
    "import nltk\n",
    "from nltk.corpus import stopwords\n",
    "from nltk.stem.snowball import SnowballStemmer\n",
    "\n",
    "from sklearn import model_selection, preprocessing, metrics, ensemble, naive_bayes, linear_model\n",
    "from sklearn.feature_extraction.text import TfidfVectorizer, CountVectorizer\n",
    "from sklearn.decomposition import TruncatedSVD\n",
    "import lightgbm as lgb\n",
    "\n",
    "from bs4 import BeautifulSoup\n",
    "\n",
    "from sklearn.feature_extraction.text import CountVectorizer\n",
    "from sklearn.pipeline import Pipeline\n",
    "\n",
    "from sklearn.model_selection import train_test_split\n",
    "from sklearn import metrics\n",
    "\n",
    "import keras\n",
    "from keras.models import Sequential\n",
    "from keras.layers import Dense\n",
    "from keras.preprocessing.text import Tokenizer\n",
    "from keras.preprocessing.sequence import pad_sequences\n",
    "from keras.layers import Dense, Input, LSTM, Embedding, Dropout, Activation, Conv1D\n",
    "from keras.layers import Bidirectional, GlobalMaxPool1D\n",
    "from keras.models import Model\n",
    "from keras import initializers, regularizers, constraints, optimizers, layers\n",
    "\n",
    "from sklearn.feature_extraction.text import CountVectorizer\n",
    "from sklearn.pipeline import Pipeline\n",
    "from sklearn.metrics import roc_auc_score, precision_recall_curve, roc_curve, average_precision_score\n",
    "from sklearn.model_selection import KFold\n",
    "\n",
    "from tensorflow.python.keras.models import Sequential\n",
    "from tensorflow.python.keras.layers import Dense, Bidirectional, LSTM, BatchNormalization, Dropout\n",
    "from tensorflow.python.keras.preprocessing.sequence import pad_sequences\n",
    "\n",
    "from lightgbm import LGBMClassifier\n",
    "from sklearn.metrics import confusion_matrix\n",
    "\n",
    "from textblob import TextBlob\n",
    "from tqdm import tqdm"
   ]
  },
  {
   "cell_type": "markdown",
   "metadata": {
    "_uuid": "6ba47a95deb9764565521d373d3de8bbd24c6bd7"
   },
   "source": [
    "## 1. Exploration Data Analysis\n",
    "\n",
    "### 1.1. Data understanding\n",
    "\n",
    "\n",
    "First we will import Train data and Test data. The sizes of the two data are as follows:\n",
    "\n",
    "It was data from https://archive.ics.uci.edu/ml/datasets/Drug+Review+Dataset+%28Drugs.com%29 and crawled reviews from online pharmaceutical review sites."
   ]
  },
  {
   "cell_type": "code",
   "execution_count": 2,
   "metadata": {
    "_cell_guid": "79c7e3d0-c299-4dcb-8224-4455121ee9b0",
    "_uuid": "d629ff2d2480ee46fbb7e2d37f6b5fab8052498a"
   },
   "outputs": [],
   "source": [
    "column_names = ['ID', 'drugName', 'condition', 'review', 'rating', 'date', 'usefulCount']\n",
    "df_train = pd.read_csv(\"Datasets/drugsComTrain_raw.tsv\", parse_dates=[\"date\"], sep='\\t', names = column_names, header=1)\n",
    "df_test = pd.read_csv(\"Datasets/drugsComTest_raw.tsv\", parse_dates=[\"date\"], sep='\\t', names = column_names, header=1)"
   ]
  },
  {
   "cell_type": "code",
   "execution_count": 3,
   "metadata": {},
   "outputs": [
    {
     "data": {
      "text/html": [
       "<div>\n",
       "<style scoped>\n",
       "    .dataframe tbody tr th:only-of-type {\n",
       "        vertical-align: middle;\n",
       "    }\n",
       "\n",
       "    .dataframe tbody tr th {\n",
       "        vertical-align: top;\n",
       "    }\n",
       "\n",
       "    .dataframe thead th {\n",
       "        text-align: right;\n",
       "    }\n",
       "</style>\n",
       "<table border=\"1\" class=\"dataframe\">\n",
       "  <thead>\n",
       "    <tr style=\"text-align: right;\">\n",
       "      <th></th>\n",
       "      <th>ID</th>\n",
       "      <th>drugName</th>\n",
       "      <th>condition</th>\n",
       "      <th>review</th>\n",
       "      <th>rating</th>\n",
       "      <th>date</th>\n",
       "      <th>usefulCount</th>\n",
       "    </tr>\n",
       "  </thead>\n",
       "  <tbody>\n",
       "    <tr>\n",
       "      <th>71688</th>\n",
       "      <td>63046</td>\n",
       "      <td>Tranexamic acid</td>\n",
       "      <td>Menstrual Disorders</td>\n",
       "      <td>\"My doctor just prescribed this medication for...</td>\n",
       "      <td>10.0</td>\n",
       "      <td>2015-09-23</td>\n",
       "      <td>39</td>\n",
       "    </tr>\n",
       "    <tr>\n",
       "      <th>60826</th>\n",
       "      <td>53160</td>\n",
       "      <td>Ceftriaxone</td>\n",
       "      <td>Bacterial Infection</td>\n",
       "      <td>\"I just got the shot of rocephin in the doctor...</td>\n",
       "      <td>10.0</td>\n",
       "      <td>2017-06-24</td>\n",
       "      <td>1</td>\n",
       "    </tr>\n",
       "    <tr>\n",
       "      <th>33087</th>\n",
       "      <td>35621</td>\n",
       "      <td>Ciclopirox</td>\n",
       "      <td>Onychomycosis, Toenail</td>\n",
       "      <td>\"I used this every single day for a year. In b...</td>\n",
       "      <td>9.0</td>\n",
       "      <td>2010-02-13</td>\n",
       "      <td>83</td>\n",
       "    </tr>\n",
       "    <tr>\n",
       "      <th>4640</th>\n",
       "      <td>3710</td>\n",
       "      <td>Casodex</td>\n",
       "      <td>Prostate Cance</td>\n",
       "      <td>\"Had to take Casodex as part of treatment for ...</td>\n",
       "      <td>10.0</td>\n",
       "      <td>2010-03-03</td>\n",
       "      <td>76</td>\n",
       "    </tr>\n",
       "    <tr>\n",
       "      <th>39053</th>\n",
       "      <td>68556</td>\n",
       "      <td>Medroxyprogesterone</td>\n",
       "      <td>Birth Control</td>\n",
       "      <td>\"I took the shot June 7 2017. Thats 2 days aft...</td>\n",
       "      <td>1.0</td>\n",
       "      <td>2017-07-09</td>\n",
       "      <td>2</td>\n",
       "    </tr>\n",
       "  </tbody>\n",
       "</table>\n",
       "</div>"
      ],
      "text/plain": [
       "          ID             drugName               condition  \\\n",
       "71688  63046      Tranexamic acid     Menstrual Disorders   \n",
       "60826  53160          Ceftriaxone     Bacterial Infection   \n",
       "33087  35621           Ciclopirox  Onychomycosis, Toenail   \n",
       "4640    3710              Casodex          Prostate Cance   \n",
       "39053  68556  Medroxyprogesterone           Birth Control   \n",
       "\n",
       "                                                  review  rating       date  \\\n",
       "71688  \"My doctor just prescribed this medication for...    10.0 2015-09-23   \n",
       "60826  \"I just got the shot of rocephin in the doctor...    10.0 2017-06-24   \n",
       "33087  \"I used this every single day for a year. In b...     9.0 2010-02-13   \n",
       "4640   \"Had to take Casodex as part of treatment for ...    10.0 2010-03-03   \n",
       "39053  \"I took the shot June 7 2017. Thats 2 days aft...     1.0 2017-07-09   \n",
       "\n",
       "       usefulCount  \n",
       "71688           39  \n",
       "60826            1  \n",
       "33087           83  \n",
       "4640            76  \n",
       "39053            2  "
      ]
     },
     "execution_count": 3,
     "metadata": {},
     "output_type": "execute_result"
    }
   ],
   "source": [
    "df_train.sample(5)"
   ]
  },
  {
   "cell_type": "code",
   "execution_count": 4,
   "metadata": {
    "scrolled": true
   },
   "outputs": [
    {
     "data": {
      "text/html": [
       "<div>\n",
       "<style scoped>\n",
       "    .dataframe tbody tr th:only-of-type {\n",
       "        vertical-align: middle;\n",
       "    }\n",
       "\n",
       "    .dataframe tbody tr th {\n",
       "        vertical-align: top;\n",
       "    }\n",
       "\n",
       "    .dataframe thead th {\n",
       "        text-align: right;\n",
       "    }\n",
       "</style>\n",
       "<table border=\"1\" class=\"dataframe\">\n",
       "  <thead>\n",
       "    <tr style=\"text-align: right;\">\n",
       "      <th></th>\n",
       "      <th>ID</th>\n",
       "      <th>drugName</th>\n",
       "      <th>condition</th>\n",
       "      <th>review</th>\n",
       "      <th>rating</th>\n",
       "      <th>date</th>\n",
       "      <th>usefulCount</th>\n",
       "    </tr>\n",
       "  </thead>\n",
       "  <tbody>\n",
       "    <tr>\n",
       "      <th>34101</th>\n",
       "      <td>189395</td>\n",
       "      <td>Oxycodone</td>\n",
       "      <td>Chronic Pain</td>\n",
       "      <td>\"I would just like to say that I have been tak...</td>\n",
       "      <td>9.0</td>\n",
       "      <td>2012-09-12</td>\n",
       "      <td>104</td>\n",
       "    </tr>\n",
       "    <tr>\n",
       "      <th>46469</th>\n",
       "      <td>20692</td>\n",
       "      <td>Nucynta</td>\n",
       "      <td>Pain</td>\n",
       "      <td>\"My Pain mgt. doctor switched me from Demerol ...</td>\n",
       "      <td>9.0</td>\n",
       "      <td>2013-10-24</td>\n",
       "      <td>75</td>\n",
       "    </tr>\n",
       "    <tr>\n",
       "      <th>22565</th>\n",
       "      <td>181714</td>\n",
       "      <td>Prozac</td>\n",
       "      <td>Depression</td>\n",
       "      <td>\"I have been on Prozac since 1991. It has help...</td>\n",
       "      <td>10.0</td>\n",
       "      <td>2011-04-06</td>\n",
       "      <td>30</td>\n",
       "    </tr>\n",
       "    <tr>\n",
       "      <th>5807</th>\n",
       "      <td>198675</td>\n",
       "      <td>Depo-Provera</td>\n",
       "      <td>Abnormal Uterine Bleeding</td>\n",
       "      <td>\"I have been on depo for about 7 years and am ...</td>\n",
       "      <td>8.0</td>\n",
       "      <td>2017-05-12</td>\n",
       "      <td>7</td>\n",
       "    </tr>\n",
       "    <tr>\n",
       "      <th>49171</th>\n",
       "      <td>121457</td>\n",
       "      <td>Venlafaxine</td>\n",
       "      <td>Generalized Anxiety Disorde</td>\n",
       "      <td>\"I went thru a horrible domestic violence issu...</td>\n",
       "      <td>10.0</td>\n",
       "      <td>2015-11-17</td>\n",
       "      <td>49</td>\n",
       "    </tr>\n",
       "  </tbody>\n",
       "</table>\n",
       "</div>"
      ],
      "text/plain": [
       "           ID      drugName                    condition  \\\n",
       "34101  189395     Oxycodone                 Chronic Pain   \n",
       "46469   20692       Nucynta                         Pain   \n",
       "22565  181714        Prozac                   Depression   \n",
       "5807   198675  Depo-Provera    Abnormal Uterine Bleeding   \n",
       "49171  121457   Venlafaxine  Generalized Anxiety Disorde   \n",
       "\n",
       "                                                  review  rating       date  \\\n",
       "34101  \"I would just like to say that I have been tak...     9.0 2012-09-12   \n",
       "46469  \"My Pain mgt. doctor switched me from Demerol ...     9.0 2013-10-24   \n",
       "22565  \"I have been on Prozac since 1991. It has help...    10.0 2011-04-06   \n",
       "5807   \"I have been on depo for about 7 years and am ...     8.0 2017-05-12   \n",
       "49171  \"I went thru a horrible domestic violence issu...    10.0 2015-11-17   \n",
       "\n",
       "       usefulCount  \n",
       "34101          104  \n",
       "46469           75  \n",
       "22565           30  \n",
       "5807             7  \n",
       "49171           49  "
      ]
     },
     "execution_count": 4,
     "metadata": {},
     "output_type": "execute_result"
    }
   ],
   "source": [
    "df_test.sample(5)"
   ]
  },
  {
   "cell_type": "code",
   "execution_count": 5,
   "metadata": {
    "_uuid": "3ab95e3f3ad6f51426d9732fabb29398c50223b8"
   },
   "outputs": [
    {
     "name": "stdout",
     "output_type": "stream",
     "text": [
      "Train shape : (161296, 7)\n",
      "Test shape : (53765, 7)\n"
     ]
    }
   ],
   "source": [
    "print(\"Train shape :\" ,df_train.shape)\n",
    "print(\"Test shape :\", df_test.shape)"
   ]
  },
  {
   "cell_type": "markdown",
   "metadata": {
    "_uuid": "99dad5eb1affeacf030fae4f4a15661c9848979e"
   },
   "source": [
    "This is the result of looking at the data through the sample() command. There are six variables except for the unique ID that identifies the individual, and review is the key variable."
   ]
  },
  {
   "cell_type": "markdown",
   "metadata": {
    "_uuid": "5531c6797f0f890bd3b8c7d4328d25c11d375386"
   },
   "source": [
    "These are additional explanations for variables.\n",
    "\n",
    "- drugName (categorical): name of drug \n",
    "- condition (categorical): name of condition\n",
    "- review (text): patient review \n",
    "- rating (numerical): 10 star patient rating \n",
    "- date (date): date of review entry \n",
    "- usefulCount (numerical): number of users who found review useful\n",
    "\n",
    "The structure of the data is that a patient with a unique ID purchases a drug that meets his condition and writes a review and rating for the drug he/she purchased on the date. Afterwards, if the others read that review and find it helpful, they will click usefulCount, which will add 1 for the variable."
   ]
  },
  {
   "cell_type": "markdown",
   "metadata": {
    "_uuid": "1180500f856ae3f1b772e3b8e2faa393809fdf23"
   },
   "source": [
    "### 1.2. Data understanding\n",
    "\n",
    "First, started exploring variables, starting from uniqueID. Compared the unique number of unique IDs and the length of the train data to see if the same customer has written multiple reviews, and there weren't more than one reviews for one customer."
   ]
  },
  {
   "cell_type": "code",
   "execution_count": 6,
   "metadata": {
    "_uuid": "8bf7685ab8278b0709c391aed2560386536552a4"
   },
   "outputs": [
    {
     "name": "stdout",
     "output_type": "stream",
     "text": [
      "unique values count of train :  161296\n",
      "length of train :  161296\n"
     ]
    }
   ],
   "source": [
    "print(\"unique values count of train : \" ,len(set(df_train['ID'].values)))\n",
    "print(\"length of train : \" ,df_train.shape[0])"
   ]
  },
  {
   "cell_type": "markdown",
   "metadata": {
    "_uuid": "5f5f13d517dd6de104f3303ce7ab9c7da5eacd11"
   },
   "source": [
    "DrugName is closely related to condition, so have analyzed them together."
   ]
  },
  {
   "cell_type": "code",
   "execution_count": 7,
   "metadata": {
    "_kg_hide-input": true,
    "_uuid": "1ce8f6dad73bddd2bf2c2a3a9cab10f2595679c2"
   },
   "outputs": [],
   "source": [
    "df_all = pd.concat([df_train,df_test])"
   ]
  },
  {
   "cell_type": "code",
   "execution_count": 8,
   "metadata": {
    "_uuid": "bb2b7aac9798cb96aa4cd032aee6fca2ddb74b4a"
   },
   "outputs": [
    {
     "data": {
      "text/plain": [
       "Text(0.5,1,'Top20: The number of drugs per condition.')"
      ]
     },
     "execution_count": 8,
     "metadata": {},
     "output_type": "execute_result"
    },
    {
     "data": {
      "image/png": "[encoded data removed]",
      "text/plain": [
       "<Figure size 1008x432 with 1 Axes>"
      ]
     },
     "metadata": {
      "needs_background": "light"
     },
     "output_type": "display_data"
    }
   ],
   "source": [
    "condition_dn = df_all.groupby(['condition'])['drugName'].nunique().sort_values(ascending=False)\n",
    "condition_dn[0:20].plot(kind=\"bar\", figsize = (14,6), fontsize = 12)\n",
    "plt.xlabel(\"\", fontsize = 20)\n",
    "plt.ylabel(\"Count\", fontsize = 20)\n",
    "plt.title(\"Top20: The number of drugs per condition.\", fontsize = 16)"
   ]
  },
  {
   "cell_type": "markdown",
   "metadata": {
    "_uuid": "b1b2d517b68e747298b5a17fdb3e6e60aaa1cdaf"
   },
   "source": [
    "We can observe from the graph above, the number of drugs for top eight conditions is about 100 for each condition. On the other hand, we noticed that the phrase \"3</span> users found this comment helpful\" appears in the condition, which seems like an error in the crawling process. We have looked into it to see in more details."
   ]
  },
  {
   "cell_type": "code",
   "execution_count": 9,
   "metadata": {
    "_uuid": "d0a89c7ebae84c817b3f2e6aab294088c18b261f"
   },
   "outputs": [
    {
     "data": {
      "text/html": [
       "<div>\n",
       "<style scoped>\n",
       "    .dataframe tbody tr th:only-of-type {\n",
       "        vertical-align: middle;\n",
       "    }\n",
       "\n",
       "    .dataframe tbody tr th {\n",
       "        vertical-align: top;\n",
       "    }\n",
       "\n",
       "    .dataframe thead th {\n",
       "        text-align: right;\n",
       "    }\n",
       "</style>\n",
       "<table border=\"1\" class=\"dataframe\">\n",
       "  <thead>\n",
       "    <tr style=\"text-align: right;\">\n",
       "      <th></th>\n",
       "      <th>ID</th>\n",
       "      <th>drugName</th>\n",
       "      <th>condition</th>\n",
       "      <th>review</th>\n",
       "      <th>rating</th>\n",
       "      <th>date</th>\n",
       "      <th>usefulCount</th>\n",
       "    </tr>\n",
       "  </thead>\n",
       "  <tbody>\n",
       "    <tr>\n",
       "      <th>242</th>\n",
       "      <td>81588</td>\n",
       "      <td>Yaz</td>\n",
       "      <td>3&lt;/span&gt; users found this comment helpful.</td>\n",
       "      <td>\"I took Yaz for a little over 2 years.  From a...</td>\n",
       "      <td>3.0</td>\n",
       "      <td>2010-06-01</td>\n",
       "      <td>3</td>\n",
       "    </tr>\n",
       "    <tr>\n",
       "      <th>1863</th>\n",
       "      <td>124318</td>\n",
       "      <td>Skyla</td>\n",
       "      <td>3&lt;/span&gt; users found this comment helpful.</td>\n",
       "      <td>\"Never pregnant,28,retroverted small (6cm) ute...</td>\n",
       "      <td>1.0</td>\n",
       "      <td>2015-12-16</td>\n",
       "      <td>3</td>\n",
       "    </tr>\n",
       "    <tr>\n",
       "      <th>3321</th>\n",
       "      <td>202848</td>\n",
       "      <td>ProAir HFA</td>\n",
       "      <td>3&lt;/span&gt; users found this comment helpful.</td>\n",
       "      <td>\"I get chest colds and asthmatic symptoms in t...</td>\n",
       "      <td>9.0</td>\n",
       "      <td>2015-12-12</td>\n",
       "      <td>3</td>\n",
       "    </tr>\n",
       "  </tbody>\n",
       "</table>\n",
       "</div>"
      ],
      "text/plain": [
       "          ID    drugName                                   condition  \\\n",
       "242    81588         Yaz  3</span> users found this comment helpful.   \n",
       "1863  124318       Skyla  3</span> users found this comment helpful.   \n",
       "3321  202848  ProAir HFA  3</span> users found this comment helpful.   \n",
       "\n",
       "                                                 review  rating       date  \\\n",
       "242   \"I took Yaz for a little over 2 years.  From a...     3.0 2010-06-01   \n",
       "1863  \"Never pregnant,28,retroverted small (6cm) ute...     1.0 2015-12-16   \n",
       "3321  \"I get chest colds and asthmatic symptoms in t...     9.0 2015-12-12   \n",
       "\n",
       "      usefulCount  \n",
       "242             3  \n",
       "1863            3  \n",
       "3321            3  "
      ]
     },
     "execution_count": 9,
     "metadata": {},
     "output_type": "execute_result"
    }
   ],
   "source": [
    "df_all[df_all['condition']=='3</span> users found this comment helpful.'].head(3)"
   ]
  },
  {
   "cell_type": "markdown",
   "metadata": {
    "_uuid": "5585d77c9e6c06707fae1e82aea83abc49d75acb"
   },
   "source": [
    "It is expected that for structure of '</ span> users found this comment helpful.' phrase, there will be not only 3, but also 4 as shown above, and other numbers as well. Hence, we removed these data in the future preprocessing.\n",
    "\n",
    "The following are the low 20 conditions of 'drugs per condition'. As we can see, the number is all 1. Considering the recommendation system, it is not feasible to recommend with that when there is only one product. Therefore, we analysed only the conditions that have at least 2 drugs per condition."
   ]
  },
  {
   "cell_type": "code",
   "execution_count": 10,
   "metadata": {
    "_uuid": "f46bf457b8c4b0a7b4ac2d476f42e38323ca483a"
   },
   "outputs": [
    {
     "data": {
      "text/plain": [
       "Text(0.5,1,'Bottom20 : The number of drugs per condition.')"
      ]
     },
     "execution_count": 10,
     "metadata": {},
     "output_type": "execute_result"
    },
    {
     "data": {
      "image/png": "[encoded data removed]",
      "text/plain": [
       "<Figure size 1008x432 with 1 Axes>"
      ]
     },
     "metadata": {
      "needs_background": "light"
     },
     "output_type": "display_data"
    }
   ],
   "source": [
    "condition_dn = df_all.groupby(['condition'])['drugName'].nunique().sort_values(ascending=False)\n",
    "\n",
    "condition_dn[condition_dn.shape[0]-20:condition_dn.shape[0]].plot(kind=\"bar\", figsize = (14,6))\n",
    "plt.xlabel(\"\", fontsize = 20)\n",
    "plt.ylabel(\"\", fontsize = 20)\n",
    "plt.title(\"Bottom20 : The number of drugs per condition.\", fontsize = 16)"
   ]
  },
  {
   "cell_type": "markdown",
   "metadata": {
    "_uuid": "fd9d70cb99c89d6def5496da845533aa682e68be"
   },
   "source": [
    "As we look at the first review. First, noticeable parts are the html strings like \\ r \\ n, and the parts that express emotions in parentheses such as (very unusual for him) and (a good thing) and words in capital letters like MUCH."
   ]
  },
  {
   "cell_type": "code",
   "execution_count": 11,
   "metadata": {
    "_uuid": "1c283d11b69ada1b9defd9f5c9fab9d69022b631"
   },
   "outputs": [
    {
     "data": {
      "text/plain": [
       "'\"I used to take another oral contraceptive, which had 21 pill cycle, and was very happy- very light periods, max 5 days, no other side effects. But it contained hormone gestodene, which is not available in US, so I switched to Lybrel, because the ingredients are similar. When my other pills ended, I started Lybrel immediately, on my first day of period, as the instructions said. And the period lasted for two weeks. When taking the second pack- same two weeks. And now, with third pack things got even worse- my third period lasted for two weeks and now it&#039;s the end of the third week- I still have daily brown discharge.\\r\\nThe positive side is that I didn&#039;t have any other side effects. The idea of being period free was so tempting... Alas.\"'"
      ]
     },
     "execution_count": 11,
     "metadata": {},
     "output_type": "execute_result"
    }
   ],
   "source": [
    "df_train['review'][1]"
   ]
  },
  {
   "cell_type": "markdown",
   "metadata": {
    "_uuid": "89a40ddaee7f0c89ca9d0ad8d14c9e56c0f47b0b"
   },
   "source": [
    "In addition, there were some words with errors like didn&# 039;t for didn't, and also characters like ..."
   ]
  },
  {
   "cell_type": "code",
   "execution_count": 12,
   "metadata": {
    "_uuid": "c7d59b1d8ab8cd481ef1d99b91862fbcd34032d4"
   },
   "outputs": [
    {
     "data": {
      "text/plain": [
       "'\"This is my first time using any form of birth control. I&#039;m glad I went with the patch, I have been on it for 8 months. At first It decreased my libido but that subsided. The only downside is that it made my periods longer (5-6 days to be exact) I used to only have periods for 3-4 days max also made my cramps intense for the first two days of my period, I never had cramps before using birth control. Other than that in happy with the patch\"'"
      ]
     },
     "execution_count": 12,
     "metadata": {},
     "output_type": "execute_result"
    }
   ],
   "source": [
    "df_train['review'][2]"
   ]
  },
  {
   "cell_type": "markdown",
   "metadata": {
    "_uuid": "253b7284fb0685ddff06c1328d2e52a54c1ee884"
   },
   "source": [
    "We eliminated these parts in preprocessing as well.\n",
    "\n",
    "We have classified 1 ~ 5 as negative, and 6 ~ 10 as positive, and checked through 1 ~ 4 grams which corpus best classifies emotions."
   ]
  },
  {
   "cell_type": "code",
   "execution_count": 14,
   "metadata": {
    "_kg_hide-input": true,
    "_uuid": "72569a2d173760ec20f1893ee67c74e42773f186"
   },
   "outputs": [],
   "source": [
    "df_all_6_10 = df_all[df_all[\"rating\"]>5]\n",
    "df_all_1_5 = df_all[df_all[\"rating\"]<6]"
   ]
  },
  {
   "cell_type": "code",
   "execution_count": 15,
   "metadata": {
    "_kg_hide-input": true,
    "_uuid": "2d28e3c380acba0078318c33063d51ee86943555"
   },
   "outputs": [
    {
     "name": "stderr",
     "output_type": "stream",
     "text": [
      "F:\\Anaconda\\lib\\site-packages\\plotly\\tools.py:465: DeprecationWarning:\n",
      "\n",
      "plotly.tools.make_subplots is deprecated, please use plotly.subplots.make_subplots instead\n",
      "\n"
     ]
    },
    {
     "data": {
      "application/vnd.plotly.v1+json": {
       "config": {
        "linkText": "Export to plot.ly",
        "plotlyServerURL": "https://plot.ly",
        "showLink": false
       },
       "data": [
        {
         "marker": {
          "color": "blue"
         },
         "orientation": "h",
         "showlegend": false,
         "type": "bar",
         "x": [
          7041,
          7333,
          7410,
          7753,
          7789,
          7834,
          7839,
          7977,
          8126,
          8176,
          8330,
          8486,
          8557,
          8590,
          8609,
          8703,
          8748,
          8832,
          8911,
          9001,
          9203,
          9858,
          9891,
          10100,
          10322,
          10339,
          10457,
          10581,
          10611,
          10759,
          10840,
          12111,
          12113,
          12147,
          12171,
          12341,
          12510,
          12678,
          12703,
          13431,
          13758,
          14298,
          14413,
          14563,
          15353,
          16795,
          17008,
          20804,
          21329,
          26189
         ],
         "xaxis": "x",
         "y": [
          "control",
          "go",
          "every",
          "medication",
          "really",
          "weight",
          "going",
          "years",
          "two",
          "it.",
          "made",
          "birth",
          "week",
          "month",
          "didn&#039;t",
          "don&#039;t",
          "bad",
          "even",
          "went",
          "weeks",
          "period",
          "effects",
          "felt",
          "time",
          "it&#039;s",
          "one",
          "pill",
          "doctor",
          "will",
          "still",
          "back",
          "3",
          "never",
          "pain",
          "days",
          "took",
          "got",
          "feel",
          "2",
          "take",
          "months",
          "day",
          "i&#039;ve",
          "now",
          "first",
          "started",
          "side",
          "taking",
          "i&#039;m",
          "\"i"
         ],
         "yaxis": "y"
        },
        {
         "marker": {
          "color": "blue"
         },
         "orientation": "h",
         "showlegend": false,
         "type": "bar",
         "x": [
          15884,
          16095,
          16260,
          16345,
          16463,
          16466,
          17005,
          17068,
          17080,
          17343,
          18785,
          18806,
          18849,
          19028,
          19071,
          19401,
          19642,
          19664,
          20629,
          20720,
          20729,
          20879,
          22874,
          22930,
          23073,
          23083,
          23182,
          23240,
          24655,
          24716,
          25567,
          26004,
          26083,
          26561,
          27169,
          27904,
          29502,
          30410,
          31773,
          33697,
          33921,
          35318,
          36350,
          38293,
          40461,
          42518,
          43694,
          46237,
          51584,
          65806
         ],
         "xaxis": "x2",
         "y": [
          "life",
          "even",
          "month",
          "medicine",
          "didn&#039;t",
          "little",
          "tried",
          "felt",
          "never",
          "bad",
          "medication",
          "week",
          "two",
          "period",
          "pill",
          "every",
          "weeks",
          "went",
          "much",
          "it.",
          "still",
          "weight",
          "doctor",
          "got",
          "don&#039;t",
          "back",
          "really",
          "took",
          "will",
          "time",
          "one",
          "days",
          "3",
          "months",
          "it&#039;s",
          "effects",
          "2",
          "pain",
          "i&#039;ve",
          "years",
          "feel",
          "day",
          "started",
          "now",
          "first",
          "i&#039;m",
          "take",
          "taking",
          "side",
          "\"i"
         ],
         "yaxis": "y2"
        }
       ],
       "layout": {
        "annotations": [
         {
          "font": {
           "size": 16
          },
          "showarrow": false,
          "text": "Frequent words of rating 1 to 5",
          "x": 0.225,
          "xanchor": "center",
          "xref": "paper",
          "y": 1,
          "yanchor": "bottom",
          "yref": "paper"
         },
         {
          "font": {
           "size": 16
          },
          "showarrow": false,
          "text": "Frequent words of rating 6 to 10",
          "x": 0.775,
          "xanchor": "center",
          "xref": "paper",
          "y": 1,
          "yanchor": "bottom",
          "yref": "paper"
         }
        ],
        "height": 1200,
        "paper_bgcolor": "rgb(233,233,233)",
        "template": {
         "data": {
          "bar": [
           {
            "error_x": {
             "color": "#2a3f5f"
            },
            "error_y": {
             "color": "#2a3f5f"
            },
            "marker": {
             "line": {
              "color": "#E5ECF6",
              "width": 0.5
             }
            },
            "type": "bar"
           }
          ],
          "barpolar": [
           {
            "marker": {
             "line": {
              "color": "#E5ECF6",
              "width": 0.5
             }
            },
            "type": "barpolar"
           }
          ],
          "carpet": [
           {
            "aaxis": {
             "endlinecolor": "#2a3f5f",
             "gridcolor": "white",
             "linecolor": "white",
             "minorgridcolor": "white",
             "startlinecolor": "#2a3f5f"
            },
            "baxis": {
             "endlinecolor": "#2a3f5f",
             "gridcolor": "white",
             "linecolor": "white",
             "minorgridcolor": "white",
             "startlinecolor": "#2a3f5f"
            },
            "type": "carpet"
           }
          ],
          "choropleth": [
           {
            "colorbar": {
             "outlinewidth": 0,
             "ticks": ""
            },
            "type": "choropleth"
           }
          ],
          "contour": [
           {
            "colorbar": {
             "outlinewidth": 0,
             "ticks": ""
            },
            "colorscale": [
             [
              0,
              "#0d0887"
             ],
             [
              0.1111111111111111,
              "#46039f"
             ],
             [
              0.2222222222222222,
              "#7201a8"
             ],
             [
              0.3333333333333333,
              "#9c179e"
             ],
             [
              0.4444444444444444,
              "#bd3786"
             ],
             [
              0.5555555555555556,
              "#d8576b"
             ],
             [
              0.6666666666666666,
              "#ed7953"
             ],
             [
              0.7777777777777778,
              "#fb9f3a"
             ],
             [
              0.8888888888888888,
              "#fdca26"
             ],
             [
              1,
              "#f0f921"
             ]
            ],
            "type": "contour"
           }
          ],
          "contourcarpet": [
           {
            "colorbar": {
             "outlinewidth": 0,
             "ticks": ""
            },
            "type": "contourcarpet"
           }
          ],
          "heatmap": [
           {
            "colorbar": {
             "outlinewidth": 0,
             "ticks": ""
            },
            "colorscale": [
             [
              0,
              "#0d0887"
             ],
             [
              0.1111111111111111,
              "#46039f"
             ],
             [
              0.2222222222222222,
              "#7201a8"
             ],
             [
              0.3333333333333333,
              "#9c179e"
             ],
             [
              0.4444444444444444,
              "#bd3786"
             ],
             [
              0.5555555555555556,
              "#d8576b"
             ],
             [
              0.6666666666666666,
              "#ed7953"
             ],
             [
              0.7777777777777778,
              "#fb9f3a"
             ],
             [
              0.8888888888888888,
              "#fdca26"
             ],
             [
              1,
              "#f0f921"
             ]
            ],
            "type": "heatmap"
           }
          ],
          "heatmapgl": [
           {
            "colorbar": {
             "outlinewidth": 0,
             "ticks": ""
            },
            "colorscale": [
             [
              0,
              "#0d0887"
             ],
             [
              0.1111111111111111,
              "#46039f"
             ],
             [
              0.2222222222222222,
              "#7201a8"
             ],
             [
              0.3333333333333333,
              "#9c179e"
             ],
             [
              0.4444444444444444,
              "#bd3786"
             ],
             [
              0.5555555555555556,
              "#d8576b"
             ],
             [
              0.6666666666666666,
              "#ed7953"
             ],
             [
              0.7777777777777778,
              "#fb9f3a"
             ],
             [
              0.8888888888888888,
              "#fdca26"
             ],
             [
              1,
              "#f0f921"
             ]
            ],
            "type": "heatmapgl"
           }
          ],
          "histogram": [
           {
            "marker": {
             "colorbar": {
              "outlinewidth": 0,
              "ticks": ""
             }
            },
            "type": "histogram"
           }
          ],
          "histogram2d": [
           {
            "colorbar": {
             "outlinewidth": 0,
             "ticks": ""
            },
            "colorscale": [
             [
              0,
              "#0d0887"
             ],
             [
              0.1111111111111111,
              "#46039f"
             ],
             [
              0.2222222222222222,
              "#7201a8"
             ],
             [
              0.3333333333333333,
              "#9c179e"
             ],
             [
              0.4444444444444444,
              "#bd3786"
             ],
             [
              0.5555555555555556,
              "#d8576b"
             ],
             [
              0.6666666666666666,
              "#ed7953"
             ],
             [
              0.7777777777777778,
              "#fb9f3a"
             ],
             [
              0.8888888888888888,
              "#fdca26"
             ],
             [
              1,
              "#f0f921"
             ]
            ],
            "type": "histogram2d"
           }
          ],
          "histogram2dcontour": [
           {
            "colorbar": {
             "outlinewidth": 0,
             "ticks": ""
            },
            "colorscale": [
             [
              0,
              "#0d0887"
             ],
             [
              0.1111111111111111,
              "#46039f"
             ],
             [
              0.2222222222222222,
              "#7201a8"
             ],
             [
              0.3333333333333333,
              "#9c179e"
             ],
             [
              0.4444444444444444,
              "#bd3786"
             ],
             [
              0.5555555555555556,
              "#d8576b"
             ],
             [
              0.6666666666666666,
              "#ed7953"
             ],
             [
              0.7777777777777778,
              "#fb9f3a"
             ],
             [
              0.8888888888888888,
              "#fdca26"
             ],
             [
              1,
              "#f0f921"
             ]
            ],
            "type": "histogram2dcontour"
           }
          ],
          "mesh3d": [
           {
            "colorbar": {
             "outlinewidth": 0,
             "ticks": ""
            },
            "type": "mesh3d"
           }
          ],
          "parcoords": [
           {
            "line": {
             "colorbar": {
              "outlinewidth": 0,
              "ticks": ""
             }
            },
            "type": "parcoords"
           }
          ],
          "pie": [
           {
            "automargin": true,
            "type": "pie"
           }
          ],
          "scatter": [
           {
            "marker": {
             "colorbar": {
              "outlinewidth": 0,
              "ticks": ""
             }
            },
            "type": "scatter"
           }
          ],
          "scatter3d": [
           {
            "line": {
             "colorbar": {
              "outlinewidth": 0,
              "ticks": ""
             }
            },
            "marker": {
             "colorbar": {
              "outlinewidth": 0,
              "ticks": ""
             }
            },
            "type": "scatter3d"
           }
          ],
          "scattercarpet": [
           {
            "marker": {
             "colorbar": {
              "outlinewidth": 0,
              "ticks": ""
             }
            },
            "type": "scattercarpet"
           }
          ],
          "scattergeo": [
           {
            "marker": {
             "colorbar": {
              "outlinewidth": 0,
              "ticks": ""
             }
            },
            "type": "scattergeo"
           }
          ],
          "scattergl": [
           {
            "marker": {
             "colorbar": {
              "outlinewidth": 0,
              "ticks": ""
             }
            },
            "type": "scattergl"
           }
          ],
          "scattermapbox": [
           {
            "marker": {
             "colorbar": {
              "outlinewidth": 0,
              "ticks": ""
             }
            },
            "type": "scattermapbox"
           }
          ],
          "scatterpolar": [
           {
            "marker": {
             "colorbar": {
              "outlinewidth": 0,
              "ticks": ""
             }
            },
            "type": "scatterpolar"
           }
          ],
          "scatterpolargl": [
           {
            "marker": {
             "colorbar": {
              "outlinewidth": 0,
              "ticks": ""
             }
            },
            "type": "scatterpolargl"
           }
          ],
          "scatterternary": [
           {
            "marker": {
             "colorbar": {
              "outlinewidth": 0,
              "ticks": ""
             }
            },
            "type": "scatterternary"
           }
          ],
          "surface": [
           {
            "colorbar": {
             "outlinewidth": 0,
             "ticks": ""
            },
            "colorscale": [
             [
              0,
              "#0d0887"
             ],
             [
              0.1111111111111111,
              "#46039f"
             ],
             [
              0.2222222222222222,
              "#7201a8"
             ],
             [
              0.3333333333333333,
              "#9c179e"
             ],
             [
              0.4444444444444444,
              "#bd3786"
             ],
             [
              0.5555555555555556,
              "#d8576b"
             ],
             [
              0.6666666666666666,
              "#ed7953"
             ],
             [
              0.7777777777777778,
              "#fb9f3a"
             ],
             [
              0.8888888888888888,
              "#fdca26"
             ],
             [
              1,
              "#f0f921"
             ]
            ],
            "type": "surface"
           }
          ],
          "table": [
           {
            "cells": {
             "fill": {
              "color": "#EBF0F8"
             },
             "line": {
              "color": "white"
             }
            },
            "header": {
             "fill": {
              "color": "#C8D4E3"
             },
             "line": {
              "color": "white"
             }
            },
            "type": "table"
           }
          ]
         },
         "layout": {
          "annotationdefaults": {
           "arrowcolor": "#2a3f5f",
           "arrowhead": 0,
           "arrowwidth": 1
          },
          "coloraxis": {
           "colorbar": {
            "outlinewidth": 0,
            "ticks": ""
           }
          },
          "colorscale": {
           "diverging": [
            [
             0,
             "#8e0152"
            ],
            [
             0.1,
             "#c51b7d"
            ],
            [
             0.2,
             "#de77ae"
            ],
            [
             0.3,
             "#f1b6da"
            ],
            [
             0.4,
             "#fde0ef"
            ],
            [
             0.5,
             "#f7f7f7"
            ],
            [
             0.6,
             "#e6f5d0"
            ],
            [
             0.7,
             "#b8e186"
            ],
            [
             0.8,
             "#7fbc41"
            ],
            [
             0.9,
             "#4d9221"
            ],
            [
             1,
             "#276419"
            ]
           ],
           "sequential": [
            [
             0,
             "#0d0887"
            ],
            [
             0.1111111111111111,
             "#46039f"
            ],
            [
             0.2222222222222222,
             "#7201a8"
            ],
            [
             0.3333333333333333,
             "#9c179e"
            ],
            [
             0.4444444444444444,
             "#bd3786"
            ],
            [
             0.5555555555555556,
             "#d8576b"
            ],
            [
             0.6666666666666666,
             "#ed7953"
            ],
            [
             0.7777777777777778,
             "#fb9f3a"
            ],
            [
             0.8888888888888888,
             "#fdca26"
            ],
            [
             1,
             "#f0f921"
            ]
           ],
           "sequentialminus": [
            [
             0,
             "#0d0887"
            ],
            [
             0.1111111111111111,
             "#46039f"
            ],
            [
             0.2222222222222222,
             "#7201a8"
            ],
            [
             0.3333333333333333,
             "#9c179e"
            ],
            [
             0.4444444444444444,
             "#bd3786"
            ],
            [
             0.5555555555555556,
             "#d8576b"
            ],
            [
             0.6666666666666666,
             "#ed7953"
            ],
            [
             0.7777777777777778,
             "#fb9f3a"
            ],
            [
             0.8888888888888888,
             "#fdca26"
            ],
            [
             1,
             "#f0f921"
            ]
           ]
          },
          "colorway": [
           "#636efa",
           "#EF553B",
           "#00cc96",
           "#ab63fa",
           "#FFA15A",
           "#19d3f3",
           "#FF6692",
           "#B6E880",
           "#FF97FF",
           "#FECB52"
          ],
          "font": {
           "color": "#2a3f5f"
          },
          "geo": {
           "bgcolor": "white",
           "lakecolor": "white",
           "landcolor": "#E5ECF6",
           "showlakes": true,
           "showland": true,
           "subunitcolor": "white"
          },
          "hoverlabel": {
           "align": "left"
          },
          "hovermode": "closest",
          "mapbox": {
           "style": "light"
          },
          "paper_bgcolor": "white",
          "plot_bgcolor": "#E5ECF6",
          "polar": {
           "angularaxis": {
            "gridcolor": "white",
            "linecolor": "white",
            "ticks": ""
           },
           "bgcolor": "#E5ECF6",
           "radialaxis": {
            "gridcolor": "white",
            "linecolor": "white",
            "ticks": ""
           }
          },
          "scene": {
           "xaxis": {
            "backgroundcolor": "#E5ECF6",
            "gridcolor": "white",
            "gridwidth": 2,
            "linecolor": "white",
            "showbackground": true,
            "ticks": "",
            "zerolinecolor": "white"
           },
           "yaxis": {
            "backgroundcolor": "#E5ECF6",
            "gridcolor": "white",
            "gridwidth": 2,
            "linecolor": "white",
            "showbackground": true,
            "ticks": "",
            "zerolinecolor": "white"
           },
           "zaxis": {
            "backgroundcolor": "#E5ECF6",
            "gridcolor": "white",
            "gridwidth": 2,
            "linecolor": "white",
            "showbackground": true,
            "ticks": "",
            "zerolinecolor": "white"
           }
          },
          "shapedefaults": {
           "line": {
            "color": "#2a3f5f"
           }
          },
          "ternary": {
           "aaxis": {
            "gridcolor": "white",
            "linecolor": "white",
            "ticks": ""
           },
           "baxis": {
            "gridcolor": "white",
            "linecolor": "white",
            "ticks": ""
           },
           "bgcolor": "#E5ECF6",
           "caxis": {
            "gridcolor": "white",
            "linecolor": "white",
            "ticks": ""
           }
          },
          "title": {
           "x": 0.05
          },
          "xaxis": {
           "automargin": true,
           "gridcolor": "white",
           "linecolor": "white",
           "ticks": "",
           "title": {
            "standoff": 15
           },
           "zerolinecolor": "white",
           "zerolinewidth": 2
          },
          "yaxis": {
           "automargin": true,
           "gridcolor": "white",
           "linecolor": "white",
           "ticks": "",
           "title": {
            "standoff": 15
           },
           "zerolinecolor": "white",
           "zerolinewidth": 2
          }
         }
        },
        "title": {
         "text": "Word Count Plots"
        },
        "width": 900,
        "xaxis": {
         "anchor": "y",
         "domain": [
          0,
          0.45
         ]
        },
        "xaxis2": {
         "anchor": "y2",
         "domain": [
          0.55,
          1
         ]
        },
        "yaxis": {
         "anchor": "x",
         "domain": [
          0,
          1
         ]
        },
        "yaxis2": {
         "anchor": "x2",
         "domain": [
          0,
          1
         ]
        }
       }
      },
      "text/html": [
       "<div>                            <div id=\"52d9162b-9395-493a-acec-387d1f403a67\" class=\"plotly-graph-div\" style=\"height:1200px; width:900px;\"></div>            <script type=\"text/javascript\">                require([\"plotly\"], function(Plotly) {                    window.PLOTLYENV=window.PLOTLYENV || {};                                    if (document.getElementById(\"52d9162b-9395-493a-acec-387d1f403a67\")) {                    Plotly.newPlot(                        \"52d9162b-9395-493a-acec-387d1f403a67\",                        [{\"marker\": {\"color\": \"blue\"}, \"orientation\": \"h\", \"showlegend\": false, \"type\": \"bar\", \"x\": [7041, 7333, 7410, 7753, 7789, 7834, 7839, 7977, 8126, 8176, 8330, 8486, 8557, 8590, 8609, 8703, 8748, 8832, 8911, 9001, 9203, 9858, 9891, 10100, 10322, 10339, 10457, 10581, 10611, 10759, 10840, 12111, 12113, 12147, 12171, 12341, 12510, 12678, 12703, 13431, 13758, 14298, 14413, 14563, 15353, 16795, 17008, 20804, 21329, 26189], \"xaxis\": \"x\", \"y\": [\"control\", \"go\", \"every\", \"medication\", \"really\", \"weight\", \"going\", \"years\", \"two\", \"it.\", \"made\", \"birth\", \"week\", \"month\", \"didn&#039;t\", \"don&#039;t\", \"bad\", \"even\", \"went\", \"weeks\", \"period\", \"effects\", \"felt\", \"time\", \"it&#039;s\", \"one\", \"pill\", \"doctor\", \"will\", \"still\", \"back\", \"3\", \"never\", \"pain\", \"days\", \"took\", \"got\", \"feel\", \"2\", \"take\", \"months\", \"day\", \"i&#039;ve\", \"now\", \"first\", \"started\", \"side\", \"taking\", \"i&#039;m\", \"\\\"i\"], \"yaxis\": \"y\"}, {\"marker\": {\"color\": \"blue\"}, \"orientation\": \"h\", \"showlegend\": false, \"type\": \"bar\", \"x\": [15884, 16095, 16260, 16345, 16463, 16466, 17005, 17068, 17080, 17343, 18785, 18806, 18849, 19028, 19071, 19401, 19642, 19664, 20629, 20720, 20729, 20879, 22874, 22930, 23073, 23083, 23182, 23240, 24655, 24716, 25567, 26004, 26083, 26561, 27169, 27904, 29502, 30410, 31773, 33697, 33921, 35318, 36350, 38293, 40461, 42518, 43694, 46237, 51584, 65806], \"xaxis\": \"x2\", \"y\": [\"life\", \"even\", \"month\", \"medicine\", \"didn&#039;t\", \"little\", \"tried\", \"felt\", \"never\", \"bad\", \"medication\", \"week\", \"two\", \"period\", \"pill\", \"every\", \"weeks\", \"went\", \"much\", \"it.\", \"still\", \"weight\", \"doctor\", \"got\", \"don&#039;t\", \"back\", \"really\", \"took\", \"will\", \"time\", \"one\", \"days\", \"3\", \"months\", \"it&#039;s\", \"effects\", \"2\", \"pain\", \"i&#039;ve\", \"years\", \"feel\", \"day\", \"started\", \"now\", \"first\", \"i&#039;m\", \"take\", \"taking\", \"side\", \"\\\"i\"], \"yaxis\": \"y2\"}],                        {\"annotations\": [{\"font\": {\"size\": 16}, \"showarrow\": false, \"text\": \"Frequent words of rating 1 to 5\", \"x\": 0.225, \"xanchor\": \"center\", \"xref\": \"paper\", \"y\": 1.0, \"yanchor\": \"bottom\", \"yref\": \"paper\"}, {\"font\": {\"size\": 16}, \"showarrow\": false, \"text\": \"Frequent words of rating 6 to 10\", \"x\": 0.775, \"xanchor\": \"center\", \"xref\": \"paper\", \"y\": 1.0, \"yanchor\": \"bottom\", \"yref\": \"paper\"}], \"height\": 1200, \"paper_bgcolor\": \"rgb(233,233,233)\", \"template\": {\"data\": {\"bar\": [{\"error_x\": {\"color\": \"#2a3f5f\"}, \"error_y\": {\"color\": \"#2a3f5f\"}, \"marker\": {\"line\": {\"color\": \"#E5ECF6\", \"width\": 0.5}}, \"type\": \"bar\"}], \"barpolar\": [{\"marker\": {\"line\": {\"color\": \"#E5ECF6\", \"width\": 0.5}}, \"type\": \"barpolar\"}], \"carpet\": [{\"aaxis\": {\"endlinecolor\": \"#2a3f5f\", \"gridcolor\": \"white\", \"linecolor\": \"white\", \"minorgridcolor\": \"white\", \"startlinecolor\": \"#2a3f5f\"}, \"baxis\": {\"endlinecolor\": \"#2a3f5f\", \"gridcolor\": \"white\", \"linecolor\": \"white\", \"minorgridcolor\": \"white\", \"startlinecolor\": \"#2a3f5f\"}, \"type\": \"carpet\"}], \"choropleth\": [{\"colorbar\": {\"outlinewidth\": 0, \"ticks\": \"\"}, \"type\": \"choropleth\"}], \"contour\": [{\"colorbar\": {\"outlinewidth\": 0, \"ticks\": \"\"}, \"colorscale\": [[0.0, \"#0d0887\"], [0.1111111111111111, \"#46039f\"], [0.2222222222222222, \"#7201a8\"], [0.3333333333333333, \"#9c179e\"], [0.4444444444444444, \"#bd3786\"], [0.5555555555555556, \"#d8576b\"], [0.6666666666666666, \"#ed7953\"], [0.7777777777777778, \"#fb9f3a\"], [0.8888888888888888, \"#fdca26\"], [1.0, \"#f0f921\"]], \"type\": \"contour\"}], \"contourcarpet\": [{\"colorbar\": {\"outlinewidth\": 0, \"ticks\": \"\"}, \"type\": \"contourcarpet\"}], \"heatmap\": [{\"colorbar\": {\"outlinewidth\": 0, \"ticks\": \"\"}, \"colorscale\": [[0.0, \"#0d0887\"], [0.1111111111111111, \"#46039f\"], [0.2222222222222222, \"#7201a8\"], [0.3333333333333333, \"#9c179e\"], [0.4444444444444444, \"#bd3786\"], [0.5555555555555556, \"#d8576b\"], [0.6666666666666666, \"#ed7953\"], [0.7777777777777778, \"#fb9f3a\"], [0.8888888888888888, \"#fdca26\"], [1.0, \"#f0f921\"]], \"type\": \"heatmap\"}], \"heatmapgl\": [{\"colorbar\": {\"outlinewidth\": 0, \"ticks\": \"\"}, \"colorscale\": [[0.0, \"#0d0887\"], [0.1111111111111111, \"#46039f\"], [0.2222222222222222, \"#7201a8\"], [0.3333333333333333, \"#9c179e\"], [0.4444444444444444, \"#bd3786\"], [0.5555555555555556, \"#d8576b\"], [0.6666666666666666, \"#ed7953\"], [0.7777777777777778, \"#fb9f3a\"], [0.8888888888888888, \"#fdca26\"], [1.0, \"#f0f921\"]], \"type\": \"heatmapgl\"}], \"histogram\": [{\"marker\": {\"colorbar\": {\"outlinewidth\": 0, \"ticks\": \"\"}}, \"type\": \"histogram\"}], \"histogram2d\": [{\"colorbar\": {\"outlinewidth\": 0, \"ticks\": \"\"}, \"colorscale\": [[0.0, \"#0d0887\"], [0.1111111111111111, \"#46039f\"], [0.2222222222222222, \"#7201a8\"], [0.3333333333333333, \"#9c179e\"], [0.4444444444444444, \"#bd3786\"], [0.5555555555555556, \"#d8576b\"], [0.6666666666666666, \"#ed7953\"], [0.7777777777777778, \"#fb9f3a\"], [0.8888888888888888, \"#fdca26\"], [1.0, \"#f0f921\"]], \"type\": \"histogram2d\"}], \"histogram2dcontour\": [{\"colorbar\": {\"outlinewidth\": 0, \"ticks\": \"\"}, \"colorscale\": [[0.0, \"#0d0887\"], [0.1111111111111111, \"#46039f\"], [0.2222222222222222, \"#7201a8\"], [0.3333333333333333, \"#9c179e\"], [0.4444444444444444, \"#bd3786\"], [0.5555555555555556, \"#d8576b\"], [0.6666666666666666, \"#ed7953\"], [0.7777777777777778, \"#fb9f3a\"], [0.8888888888888888, \"#fdca26\"], [1.0, \"#f0f921\"]], \"type\": \"histogram2dcontour\"}], \"mesh3d\": [{\"colorbar\": {\"outlinewidth\": 0, \"ticks\": \"\"}, \"type\": \"mesh3d\"}], \"parcoords\": [{\"line\": {\"colorbar\": {\"outlinewidth\": 0, \"ticks\": \"\"}}, \"type\": \"parcoords\"}], \"pie\": [{\"automargin\": true, \"type\": \"pie\"}], \"scatter\": [{\"marker\": {\"colorbar\": {\"outlinewidth\": 0, \"ticks\": \"\"}}, \"type\": \"scatter\"}], \"scatter3d\": [{\"line\": {\"colorbar\": {\"outlinewidth\": 0, \"ticks\": \"\"}}, \"marker\": {\"colorbar\": {\"outlinewidth\": 0, \"ticks\": \"\"}}, \"type\": \"scatter3d\"}], \"scattercarpet\": [{\"marker\": {\"colorbar\": {\"outlinewidth\": 0, \"ticks\": \"\"}}, \"type\": \"scattercarpet\"}], \"scattergeo\": [{\"marker\": {\"colorbar\": {\"outlinewidth\": 0, \"ticks\": \"\"}}, \"type\": \"scattergeo\"}], \"scattergl\": [{\"marker\": {\"colorbar\": {\"outlinewidth\": 0, \"ticks\": \"\"}}, \"type\": \"scattergl\"}], \"scattermapbox\": [{\"marker\": {\"colorbar\": {\"outlinewidth\": 0, \"ticks\": \"\"}}, \"type\": \"scattermapbox\"}], \"scatterpolar\": [{\"marker\": {\"colorbar\": {\"outlinewidth\": 0, \"ticks\": \"\"}}, \"type\": \"scatterpolar\"}], \"scatterpolargl\": [{\"marker\": {\"colorbar\": {\"outlinewidth\": 0, \"ticks\": \"\"}}, \"type\": \"scatterpolargl\"}], \"scatterternary\": [{\"marker\": {\"colorbar\": {\"outlinewidth\": 0, \"ticks\": \"\"}}, \"type\": \"scatterternary\"}], \"surface\": [{\"colorbar\": {\"outlinewidth\": 0, \"ticks\": \"\"}, \"colorscale\": [[0.0, \"#0d0887\"], [0.1111111111111111, \"#46039f\"], [0.2222222222222222, \"#7201a8\"], [0.3333333333333333, \"#9c179e\"], [0.4444444444444444, \"#bd3786\"], [0.5555555555555556, \"#d8576b\"], [0.6666666666666666, \"#ed7953\"], [0.7777777777777778, \"#fb9f3a\"], [0.8888888888888888, \"#fdca26\"], [1.0, \"#f0f921\"]], \"type\": \"surface\"}], \"table\": [{\"cells\": {\"fill\": {\"color\": \"#EBF0F8\"}, \"line\": {\"color\": \"white\"}}, \"header\": {\"fill\": {\"color\": \"#C8D4E3\"}, \"line\": {\"color\": \"white\"}}, \"type\": \"table\"}]}, \"layout\": {\"annotationdefaults\": {\"arrowcolor\": \"#2a3f5f\", \"arrowhead\": 0, \"arrowwidth\": 1}, \"coloraxis\": {\"colorbar\": {\"outlinewidth\": 0, \"ticks\": \"\"}}, \"colorscale\": {\"diverging\": [[0, \"#8e0152\"], [0.1, \"#c51b7d\"], [0.2, \"#de77ae\"], [0.3, \"#f1b6da\"], [0.4, \"#fde0ef\"], [0.5, \"#f7f7f7\"], [0.6, \"#e6f5d0\"], [0.7, \"#b8e186\"], [0.8, \"#7fbc41\"], [0.9, \"#4d9221\"], [1, \"#276419\"]], \"sequential\": [[0.0, \"#0d0887\"], [0.1111111111111111, \"#46039f\"], [0.2222222222222222, \"#7201a8\"], [0.3333333333333333, \"#9c179e\"], [0.4444444444444444, \"#bd3786\"], [0.5555555555555556, \"#d8576b\"], [0.6666666666666666, \"#ed7953\"], [0.7777777777777778, \"#fb9f3a\"], [0.8888888888888888, \"#fdca26\"], [1.0, \"#f0f921\"]], \"sequentialminus\": [[0.0, \"#0d0887\"], [0.1111111111111111, \"#46039f\"], [0.2222222222222222, \"#7201a8\"], [0.3333333333333333, \"#9c179e\"], [0.4444444444444444, \"#bd3786\"], [0.5555555555555556, \"#d8576b\"], [0.6666666666666666, \"#ed7953\"], [0.7777777777777778, \"#fb9f3a\"], [0.8888888888888888, \"#fdca26\"], [1.0, \"#f0f921\"]]}, \"colorway\": [\"#636efa\", \"#EF553B\", \"#00cc96\", \"#ab63fa\", \"#FFA15A\", \"#19d3f3\", \"#FF6692\", \"#B6E880\", \"#FF97FF\", \"#FECB52\"], \"font\": {\"color\": \"#2a3f5f\"}, \"geo\": {\"bgcolor\": \"white\", \"lakecolor\": \"white\", \"landcolor\": \"#E5ECF6\", \"showlakes\": true, \"showland\": true, \"subunitcolor\": \"white\"}, \"hoverlabel\": {\"align\": \"left\"}, \"hovermode\": \"closest\", \"mapbox\": {\"style\": \"light\"}, \"paper_bgcolor\": \"white\", \"plot_bgcolor\": \"#E5ECF6\", \"polar\": {\"angularaxis\": {\"gridcolor\": \"white\", \"linecolor\": \"white\", \"ticks\": \"\"}, \"bgcolor\": \"#E5ECF6\", \"radialaxis\": {\"gridcolor\": \"white\", \"linecolor\": \"white\", \"ticks\": \"\"}}, \"scene\": {\"xaxis\": {\"backgroundcolor\": \"#E5ECF6\", \"gridcolor\": \"white\", \"gridwidth\": 2, \"linecolor\": \"white\", \"showbackground\": true, \"ticks\": \"\", \"zerolinecolor\": \"white\"}, \"yaxis\": {\"backgroundcolor\": \"#E5ECF6\", \"gridcolor\": \"white\", \"gridwidth\": 2, \"linecolor\": \"white\", \"showbackground\": true, \"ticks\": \"\", \"zerolinecolor\": \"white\"}, \"zaxis\": {\"backgroundcolor\": \"#E5ECF6\", \"gridcolor\": \"white\", \"gridwidth\": 2, \"linecolor\": \"white\", \"showbackground\": true, \"ticks\": \"\", \"zerolinecolor\": \"white\"}}, \"shapedefaults\": {\"line\": {\"color\": \"#2a3f5f\"}}, \"ternary\": {\"aaxis\": {\"gridcolor\": \"white\", \"linecolor\": \"white\", \"ticks\": \"\"}, \"baxis\": {\"gridcolor\": \"white\", \"linecolor\": \"white\", \"ticks\": \"\"}, \"bgcolor\": \"#E5ECF6\", \"caxis\": {\"gridcolor\": \"white\", \"linecolor\": \"white\", \"ticks\": \"\"}}, \"title\": {\"x\": 0.05}, \"xaxis\": {\"automargin\": true, \"gridcolor\": \"white\", \"linecolor\": \"white\", \"ticks\": \"\", \"title\": {\"standoff\": 15}, \"zerolinecolor\": \"white\", \"zerolinewidth\": 2}, \"yaxis\": {\"automargin\": true, \"gridcolor\": \"white\", \"linecolor\": \"white\", \"ticks\": \"\", \"title\": {\"standoff\": 15}, \"zerolinecolor\": \"white\", \"zerolinewidth\": 2}}}, \"title\": {\"text\": \"Word Count Plots\"}, \"width\": 900, \"xaxis\": {\"anchor\": \"y\", \"domain\": [0.0, 0.45]}, \"xaxis2\": {\"anchor\": \"y2\", \"domain\": [0.55, 1.0]}, \"yaxis\": {\"anchor\": \"x\", \"domain\": [0.0, 1.0]}, \"yaxis2\": {\"anchor\": \"x2\", \"domain\": [0.0, 1.0]}},                        {\"responsive\": true}                    ).then(function(){\n",
       "                            \n",
       "var gd = document.getElementById('52d9162b-9395-493a-acec-387d1f403a67');\n",
       "var x = new MutationObserver(function (mutations, observer) {{\n",
       "        var display = window.getComputedStyle(gd).display;\n",
       "        if (!display || display === 'none') {{\n",
       "            console.log([gd, 'removed!']);\n",
       "            Plotly.purge(gd);\n",
       "            observer.disconnect();\n",
       "        }}\n",
       "}});\n",
       "\n",
       "// Listen for the removal of the full notebook cells\n",
       "var notebookContainer = gd.closest('#notebook-container');\n",
       "if (notebookContainer) {{\n",
       "    x.observe(notebookContainer, {childList: true});\n",
       "}}\n",
       "\n",
       "// Listen for the clearing of the current output cell\n",
       "var outputEl = gd.closest('.output');\n",
       "if (outputEl) {{\n",
       "    x.observe(outputEl, {childList: true});\n",
       "}}\n",
       "\n",
       "                        })                };                });            </script>        </div>"
      ]
     },
     "metadata": {},
     "output_type": "display_data"
    }
   ],
   "source": [
    "def generate_ngrams(text, n_gram=1):\n",
    "    token = [token for token in text.lower().split(\" \") if token != \"\" if token not in STOPWORDS]\n",
    "    ngrams = zip(*[token[i:] for i in range(n_gram)])\n",
    "    return [\" \".join(ngram) for ngram in ngrams]\n",
    "\n",
    "def horizontal_bar_chart(df, color):\n",
    "    trace = go.Bar(y=df[\"word\"].values[::-1], x=df[\"wordcount\"].values[::-1],\n",
    "                   showlegend=False, orientation = 'h', marker=dict(color=color,))\n",
    "    return trace\n",
    "\n",
    "freq_dict = defaultdict(int)\n",
    "\n",
    "for sent in df_all_1_5[\"review\"]:\n",
    "    for word in generate_ngrams(sent):\n",
    "        freq_dict[word] += 1\n",
    "\n",
    "fd_sorted = pd.DataFrame(sorted(freq_dict.items(), key=lambda x: x[1])[::-1])\n",
    "fd_sorted.columns = [\"word\", \"wordcount\"]\n",
    "trace0 = horizontal_bar_chart(fd_sorted.head(50), 'blue')\n",
    "\n",
    "freq_dict = defaultdict(int)\n",
    "for sent in df_all_6_10[\"review\"]:\n",
    "    for word in generate_ngrams(sent):\n",
    "        freq_dict[word] += 1\n",
    "\n",
    "fd_sorted = pd.DataFrame(sorted(freq_dict.items(), key=lambda x: x[1])[::-1])\n",
    "fd_sorted.columns = [\"word\", \"wordcount\"]\n",
    "trace1 = horizontal_bar_chart(fd_sorted.head(50), 'blue')\n",
    "\n",
    "fig = tools.make_subplots(rows=1, cols=2, vertical_spacing=0.04,\n",
    "                          subplot_titles=[\"Frequent words of rating 1 to 5\", \n",
    "                                          \"Frequent words of rating 6 to 10\"])\n",
    "fig.append_trace(trace0, 1, 1)\n",
    "fig.append_trace(trace1, 1, 2)\n",
    "fig['layout'].update(height=1200, width=900, paper_bgcolor='rgb(233,233,233)', title=\"Word Count Plots\")\n",
    "py.iplot(fig, filename='word-plots')"
   ]
  },
  {
   "cell_type": "markdown",
   "metadata": {
    "_uuid": "2d12cc47d486b171f127de48d6dbe640bfbdc4ad"
   },
   "source": [
    "When we used 1-gram, we observed that the top 5 words have the same contents, although the order of left (negative) and right (positive) are different. This means when we analyzed the text with a single corpus, it does not classify the emotion well. So, we expanded the corpus."
   ]
  },
  {
   "cell_type": "code",
   "execution_count": 16,
   "metadata": {
    "_kg_hide-input": true,
    "_uuid": "03e56f5eb12b5d2e738191a2ebfb61a85a2b963a"
   },
   "outputs": [
    {
     "name": "stderr",
     "output_type": "stream",
     "text": [
      "F:\\Anaconda\\lib\\site-packages\\plotly\\tools.py:465: DeprecationWarning:\n",
      "\n",
      "plotly.tools.make_subplots is deprecated, please use plotly.subplots.make_subplots instead\n",
      "\n"
     ]
    },
    {
     "data": {
      "application/vnd.plotly.v1+json": {
       "config": {
        "linkText": "Export to plot.ly",
        "plotlyServerURL": "https://plot.ly",
        "showLink": false
       },
       "data": [
        {
         "marker": {
          "color": "orange"
         },
         "orientation": "h",
         "showlegend": false,
         "type": "bar",
         "x": [
          829,
          830,
          838,
          849,
          850,
          865,
          883,
          888,
          891,
          892,
          900,
          908,
          908,
          910,
          976,
          979,
          993,
          995,
          1031,
          1040,
          1047,
          1048,
          1055,
          1060,
          1189,
          1199,
          1283,
          1316,
          1328,
          1336,
          1348,
          1350,
          1363,
          1371,
          1433,
          1493,
          1542,
          1552,
          1672,
          1749,
          1906,
          1909,
          2020,
          2055,
          2065,
          2149,
          2486,
          2501,
          5812,
          8774
         ],
         "xaxis": "x",
         "y": [
          "two days",
          "first day",
          "doctor prescribed",
          "mood swings.",
          "even though",
          "side effects,",
          "taking pill",
          "weight gain,",
          "5 days",
          "two months",
          "made feel",
          "really bad",
          "first month",
          "2 years",
          "will never",
          "go back",
          "4 months",
          "i&#039;m still",
          "\"i prescribed",
          "2 days",
          "i&#039;ve never",
          "taking it.",
          "now i&#039;m",
          "\"i taking",
          "first time",
          "birth control.",
          "\"i got",
          "mood swings,",
          "3 weeks",
          "3 days",
          "don&#039;t know",
          "stop taking",
          "blood pressure",
          "two weeks",
          "i&#039;m going",
          "2 months",
          "weight gain",
          "side effect",
          "6 months",
          "sex drive",
          "2 weeks",
          "\"i took",
          "stopped taking",
          "3 months",
          "mood swings",
          "\"i started",
          "side effects.",
          "started taking",
          "birth control",
          "side effects"
         ],
         "yaxis": "y"
        },
        {
         "marker": {
          "color": "orange"
         },
         "orientation": "h",
         "showlegend": false,
         "type": "bar",
         "x": [
          1707,
          1717,
          1718,
          1741,
          1768,
          1781,
          1805,
          1849,
          1850,
          1850,
          1875,
          1886,
          1918,
          1929,
          2022,
          2026,
          2090,
          2103,
          2121,
          2194,
          2224,
          2225,
          2289,
          2488,
          2517,
          2544,
          2578,
          2579,
          2656,
          2665,
          2725,
          2744,
          2824,
          2836,
          2880,
          2897,
          2942,
          3189,
          3391,
          3631,
          3720,
          3817,
          3984,
          4142,
          5573,
          5932,
          6810,
          8111,
          8813,
          25376
         ],
         "xaxis": "x2",
         "y": [
          "weight loss",
          "\"i&#039;ve taking",
          "really bad",
          "5 years",
          "\"i took",
          "every day",
          "months ago",
          "4 months",
          "birth control.",
          "i&#039;ve tried",
          "plan b",
          "\"i got",
          "months now",
          "first day",
          "side effects.\"",
          "first month",
          "weight gain,",
          "don&#039;t know",
          "2 days",
          "panic attacks",
          "now i&#039;m",
          "3 years",
          "first week",
          "highly recommend",
          "much better",
          "years old",
          "doctor prescribed",
          "3 weeks",
          "blood pressure",
          "year old",
          "years ago",
          "3 days",
          "2 years",
          "two weeks",
          "mood swings",
          "sex drive",
          "2 months",
          "6 months",
          "side effects,",
          "weight gain",
          "\"i taking",
          "3 months",
          "2 weeks",
          "first time",
          "\"i started",
          "side effect",
          "started taking",
          "side effects.",
          "birth control",
          "side effects"
         ],
         "yaxis": "y2"
        }
       ],
       "layout": {
        "annotations": [
         {
          "font": {
           "size": 16
          },
          "showarrow": false,
          "text": "Frequent biagrams of rating 1 to 5",
          "x": 0.2125,
          "xanchor": "center",
          "xref": "paper",
          "y": 1,
          "yanchor": "bottom",
          "yref": "paper"
         },
         {
          "font": {
           "size": 16
          },
          "showarrow": false,
          "text": "Frequent biagrams of rating 6 to 10",
          "x": 0.7875,
          "xanchor": "center",
          "xref": "paper",
          "y": 1,
          "yanchor": "bottom",
          "yref": "paper"
         }
        ],
        "height": 1200,
        "paper_bgcolor": "rgb(233,233,233)",
        "template": {
         "data": {
          "bar": [
           {
            "error_x": {
             "color": "#2a3f5f"
            },
            "error_y": {
             "color": "#2a3f5f"
            },
            "marker": {
             "line": {
              "color": "#E5ECF6",
              "width": 0.5
             }
            },
            "type": "bar"
           }
          ],
          "barpolar": [
           {
            "marker": {
             "line": {
              "color": "#E5ECF6",
              "width": 0.5
             }
            },
            "type": "barpolar"
           }
          ],
          "carpet": [
           {
            "aaxis": {
             "endlinecolor": "#2a3f5f",
             "gridcolor": "white",
             "linecolor": "white",
             "minorgridcolor": "white",
             "startlinecolor": "#2a3f5f"
            },
            "baxis": {
             "endlinecolor": "#2a3f5f",
             "gridcolor": "white",
             "linecolor": "white",
             "minorgridcolor": "white",
             "startlinecolor": "#2a3f5f"
            },
            "type": "carpet"
           }
          ],
          "choropleth": [
           {
            "colorbar": {
             "outlinewidth": 0,
             "ticks": ""
            },
            "type": "choropleth"
           }
          ],
          "contour": [
           {
            "colorbar": {
             "outlinewidth": 0,
             "ticks": ""
            },
            "colorscale": [
             [
              0,
              "#0d0887"
             ],
             [
              0.1111111111111111,
              "#46039f"
             ],
             [
              0.2222222222222222,
              "#7201a8"
             ],
             [
              0.3333333333333333,
              "#9c179e"
             ],
             [
              0.4444444444444444,
              "#bd3786"
             ],
             [
              0.5555555555555556,
              "#d8576b"
             ],
             [
              0.6666666666666666,
              "#ed7953"
             ],
             [
              0.7777777777777778,
              "#fb9f3a"
             ],
             [
              0.8888888888888888,
              "#fdca26"
             ],
             [
              1,
              "#f0f921"
             ]
            ],
            "type": "contour"
           }
          ],
          "contourcarpet": [
           {
            "colorbar": {
             "outlinewidth": 0,
             "ticks": ""
            },
            "type": "contourcarpet"
           }
          ],
          "heatmap": [
           {
            "colorbar": {
             "outlinewidth": 0,
             "ticks": ""
            },
            "colorscale": [
             [
              0,
              "#0d0887"
             ],
             [
              0.1111111111111111,
              "#46039f"
             ],
             [
              0.2222222222222222,
              "#7201a8"
             ],
             [
              0.3333333333333333,
              "#9c179e"
             ],
             [
              0.4444444444444444,
              "#bd3786"
             ],
             [
              0.5555555555555556,
              "#d8576b"
             ],
             [
              0.6666666666666666,
              "#ed7953"
             ],
             [
              0.7777777777777778,
              "#fb9f3a"
             ],
             [
              0.8888888888888888,
              "#fdca26"
             ],
             [
              1,
              "#f0f921"
             ]
            ],
            "type": "heatmap"
           }
          ],
          "heatmapgl": [
           {
            "colorbar": {
             "outlinewidth": 0,
             "ticks": ""
            },
            "colorscale": [
             [
              0,
              "#0d0887"
             ],
             [
              0.1111111111111111,
              "#46039f"
             ],
             [
              0.2222222222222222,
              "#7201a8"
             ],
             [
              0.3333333333333333,
              "#9c179e"
             ],
             [
              0.4444444444444444,
              "#bd3786"
             ],
             [
              0.5555555555555556,
              "#d8576b"
             ],
             [
              0.6666666666666666,
              "#ed7953"
             ],
             [
              0.7777777777777778,
              "#fb9f3a"
             ],
             [
              0.8888888888888888,
              "#fdca26"
             ],
             [
              1,
              "#f0f921"
             ]
            ],
            "type": "heatmapgl"
           }
          ],
          "histogram": [
           {
            "marker": {
             "colorbar": {
              "outlinewidth": 0,
              "ticks": ""
             }
            },
            "type": "histogram"
           }
          ],
          "histogram2d": [
           {
            "colorbar": {
             "outlinewidth": 0,
             "ticks": ""
            },
            "colorscale": [
             [
              0,
              "#0d0887"
             ],
             [
              0.1111111111111111,
              "#46039f"
             ],
             [
              0.2222222222222222,
              "#7201a8"
             ],
             [
              0.3333333333333333,
              "#9c179e"
             ],
             [
              0.4444444444444444,
              "#bd3786"
             ],
             [
              0.5555555555555556,
              "#d8576b"
             ],
             [
              0.6666666666666666,
              "#ed7953"
             ],
             [
              0.7777777777777778,
              "#fb9f3a"
             ],
             [
              0.8888888888888888,
              "#fdca26"
             ],
             [
              1,
              "#f0f921"
             ]
            ],
            "type": "histogram2d"
           }
          ],
          "histogram2dcontour": [
           {
            "colorbar": {
             "outlinewidth": 0,
             "ticks": ""
            },
            "colorscale": [
             [
              0,
              "#0d0887"
             ],
             [
              0.1111111111111111,
              "#46039f"
             ],
             [
              0.2222222222222222,
              "#7201a8"
             ],
             [
              0.3333333333333333,
              "#9c179e"
             ],
             [
              0.4444444444444444,
              "#bd3786"
             ],
             [
              0.5555555555555556,
              "#d8576b"
             ],
             [
              0.6666666666666666,
              "#ed7953"
             ],
             [
              0.7777777777777778,
              "#fb9f3a"
             ],
             [
              0.8888888888888888,
              "#fdca26"
             ],
             [
              1,
              "#f0f921"
             ]
            ],
            "type": "histogram2dcontour"
           }
          ],
          "mesh3d": [
           {
            "colorbar": {
             "outlinewidth": 0,
             "ticks": ""
            },
            "type": "mesh3d"
           }
          ],
          "parcoords": [
           {
            "line": {
             "colorbar": {
              "outlinewidth": 0,
              "ticks": ""
             }
            },
            "type": "parcoords"
           }
          ],
          "pie": [
           {
            "automargin": true,
            "type": "pie"
           }
          ],
          "scatter": [
           {
            "marker": {
             "colorbar": {
              "outlinewidth": 0,
              "ticks": ""
             }
            },
            "type": "scatter"
           }
          ],
          "scatter3d": [
           {
            "line": {
             "colorbar": {
              "outlinewidth": 0,
              "ticks": ""
             }
            },
            "marker": {
             "colorbar": {
              "outlinewidth": 0,
              "ticks": ""
             }
            },
            "type": "scatter3d"
           }
          ],
          "scattercarpet": [
           {
            "marker": {
             "colorbar": {
              "outlinewidth": 0,
              "ticks": ""
             }
            },
            "type": "scattercarpet"
           }
          ],
          "scattergeo": [
           {
            "marker": {
             "colorbar": {
              "outlinewidth": 0,
              "ticks": ""
             }
            },
            "type": "scattergeo"
           }
          ],
          "scattergl": [
           {
            "marker": {
             "colorbar": {
              "outlinewidth": 0,
              "ticks": ""
             }
            },
            "type": "scattergl"
           }
          ],
          "scattermapbox": [
           {
            "marker": {
             "colorbar": {
              "outlinewidth": 0,
              "ticks": ""
             }
            },
            "type": "scattermapbox"
           }
          ],
          "scatterpolar": [
           {
            "marker": {
             "colorbar": {
              "outlinewidth": 0,
              "ticks": ""
             }
            },
            "type": "scatterpolar"
           }
          ],
          "scatterpolargl": [
           {
            "marker": {
             "colorbar": {
              "outlinewidth": 0,
              "ticks": ""
             }
            },
            "type": "scatterpolargl"
           }
          ],
          "scatterternary": [
           {
            "marker": {
             "colorbar": {
              "outlinewidth": 0,
              "ticks": ""
             }
            },
            "type": "scatterternary"
           }
          ],
          "surface": [
           {
            "colorbar": {
             "outlinewidth": 0,
             "ticks": ""
            },
            "colorscale": [
             [
              0,
              "#0d0887"
             ],
             [
              0.1111111111111111,
              "#46039f"
             ],
             [
              0.2222222222222222,
              "#7201a8"
             ],
             [
              0.3333333333333333,
              "#9c179e"
             ],
             [
              0.4444444444444444,
              "#bd3786"
             ],
             [
              0.5555555555555556,
              "#d8576b"
             ],
             [
              0.6666666666666666,
              "#ed7953"
             ],
             [
              0.7777777777777778,
              "#fb9f3a"
             ],
             [
              0.8888888888888888,
              "#fdca26"
             ],
             [
              1,
              "#f0f921"
             ]
            ],
            "type": "surface"
           }
          ],
          "table": [
           {
            "cells": {
             "fill": {
              "color": "#EBF0F8"
             },
             "line": {
              "color": "white"
             }
            },
            "header": {
             "fill": {
              "color": "#C8D4E3"
             },
             "line": {
              "color": "white"
             }
            },
            "type": "table"
           }
          ]
         },
         "layout": {
          "annotationdefaults": {
           "arrowcolor": "#2a3f5f",
           "arrowhead": 0,
           "arrowwidth": 1
          },
          "coloraxis": {
           "colorbar": {
            "outlinewidth": 0,
            "ticks": ""
           }
          },
          "colorscale": {
           "diverging": [
            [
             0,
             "#8e0152"
            ],
            [
             0.1,
             "#c51b7d"
            ],
            [
             0.2,
             "#de77ae"
            ],
            [
             0.3,
             "#f1b6da"
            ],
            [
             0.4,
             "#fde0ef"
            ],
            [
             0.5,
             "#f7f7f7"
            ],
            [
             0.6,
             "#e6f5d0"
            ],
            [
             0.7,
             "#b8e186"
            ],
            [
             0.8,
             "#7fbc41"
            ],
            [
             0.9,
             "#4d9221"
            ],
            [
             1,
             "#276419"
            ]
           ],
           "sequential": [
            [
             0,
             "#0d0887"
            ],
            [
             0.1111111111111111,
             "#46039f"
            ],
            [
             0.2222222222222222,
             "#7201a8"
            ],
            [
             0.3333333333333333,
             "#9c179e"
            ],
            [
             0.4444444444444444,
             "#bd3786"
            ],
            [
             0.5555555555555556,
             "#d8576b"
            ],
            [
             0.6666666666666666,
             "#ed7953"
            ],
            [
             0.7777777777777778,
             "#fb9f3a"
            ],
            [
             0.8888888888888888,
             "#fdca26"
            ],
            [
             1,
             "#f0f921"
            ]
           ],
           "sequentialminus": [
            [
             0,
             "#0d0887"
            ],
            [
             0.1111111111111111,
             "#46039f"
            ],
            [
             0.2222222222222222,
             "#7201a8"
            ],
            [
             0.3333333333333333,
             "#9c179e"
            ],
            [
             0.4444444444444444,
             "#bd3786"
            ],
            [
             0.5555555555555556,
             "#d8576b"
            ],
            [
             0.6666666666666666,
             "#ed7953"
            ],
            [
             0.7777777777777778,
             "#fb9f3a"
            ],
            [
             0.8888888888888888,
             "#fdca26"
            ],
            [
             1,
             "#f0f921"
            ]
           ]
          },
          "colorway": [
           "#636efa",
           "#EF553B",
           "#00cc96",
           "#ab63fa",
           "#FFA15A",
           "#19d3f3",
           "#FF6692",
           "#B6E880",
           "#FF97FF",
           "#FECB52"
          ],
          "font": {
           "color": "#2a3f5f"
          },
          "geo": {
           "bgcolor": "white",
           "lakecolor": "white",
           "landcolor": "#E5ECF6",
           "showlakes": true,
           "showland": true,
           "subunitcolor": "white"
          },
          "hoverlabel": {
           "align": "left"
          },
          "hovermode": "closest",
          "mapbox": {
           "style": "light"
          },
          "paper_bgcolor": "white",
          "plot_bgcolor": "#E5ECF6",
          "polar": {
           "angularaxis": {
            "gridcolor": "white",
            "linecolor": "white",
            "ticks": ""
           },
           "bgcolor": "#E5ECF6",
           "radialaxis": {
            "gridcolor": "white",
            "linecolor": "white",
            "ticks": ""
           }
          },
          "scene": {
           "xaxis": {
            "backgroundcolor": "#E5ECF6",
            "gridcolor": "white",
            "gridwidth": 2,
            "linecolor": "white",
            "showbackground": true,
            "ticks": "",
            "zerolinecolor": "white"
           },
           "yaxis": {
            "backgroundcolor": "#E5ECF6",
            "gridcolor": "white",
            "gridwidth": 2,
            "linecolor": "white",
            "showbackground": true,
            "ticks": "",
            "zerolinecolor": "white"
           },
           "zaxis": {
            "backgroundcolor": "#E5ECF6",
            "gridcolor": "white",
            "gridwidth": 2,
            "linecolor": "white",
            "showbackground": true,
            "ticks": "",
            "zerolinecolor": "white"
           }
          },
          "shapedefaults": {
           "line": {
            "color": "#2a3f5f"
           }
          },
          "ternary": {
           "aaxis": {
            "gridcolor": "white",
            "linecolor": "white",
            "ticks": ""
           },
           "baxis": {
            "gridcolor": "white",
            "linecolor": "white",
            "ticks": ""
           },
           "bgcolor": "#E5ECF6",
           "caxis": {
            "gridcolor": "white",
            "linecolor": "white",
            "ticks": ""
           }
          },
          "title": {
           "x": 0.05
          },
          "xaxis": {
           "automargin": true,
           "gridcolor": "white",
           "linecolor": "white",
           "ticks": "",
           "title": {
            "standoff": 15
           },
           "zerolinecolor": "white",
           "zerolinewidth": 2
          },
          "yaxis": {
           "automargin": true,
           "gridcolor": "white",
           "linecolor": "white",
           "ticks": "",
           "title": {
            "standoff": 15
           },
           "zerolinecolor": "white",
           "zerolinewidth": 2
          }
         }
        },
        "title": {
         "text": "Bigram Count Plots"
        },
        "width": 1000,
        "xaxis": {
         "anchor": "y",
         "domain": [
          0,
          0.425
         ]
        },
        "xaxis2": {
         "anchor": "y2",
         "domain": [
          0.575,
          1
         ]
        },
        "yaxis": {
         "anchor": "x",
         "domain": [
          0,
          1
         ]
        },
        "yaxis2": {
         "anchor": "x2",
         "domain": [
          0,
          1
         ]
        }
       }
      },
      "text/html": [
       "<div>                            <div id=\"8c27c31b-1b99-46e9-9113-53d074af191a\" class=\"plotly-graph-div\" style=\"height:1200px; width:1000px;\"></div>            <script type=\"text/javascript\">                require([\"plotly\"], function(Plotly) {                    window.PLOTLYENV=window.PLOTLYENV || {};                                    if (document.getElementById(\"8c27c31b-1b99-46e9-9113-53d074af191a\")) {                    Plotly.newPlot(                        \"8c27c31b-1b99-46e9-9113-53d074af191a\",                        [{\"marker\": {\"color\": \"orange\"}, \"orientation\": \"h\", \"showlegend\": false, \"type\": \"bar\", \"x\": [829, 830, 838, 849, 850, 865, 883, 888, 891, 892, 900, 908, 908, 910, 976, 979, 993, 995, 1031, 1040, 1047, 1048, 1055, 1060, 1189, 1199, 1283, 1316, 1328, 1336, 1348, 1350, 1363, 1371, 1433, 1493, 1542, 1552, 1672, 1749, 1906, 1909, 2020, 2055, 2065, 2149, 2486, 2501, 5812, 8774], \"xaxis\": \"x\", \"y\": [\"two days\", \"first day\", \"doctor prescribed\", \"mood swings.\", \"even though\", \"side effects,\", \"taking pill\", \"weight gain,\", \"5 days\", \"two months\", \"made feel\", \"really bad\", \"first month\", \"2 years\", \"will never\", \"go back\", \"4 months\", \"i&#039;m still\", \"\\\"i prescribed\", \"2 days\", \"i&#039;ve never\", \"taking it.\", \"now i&#039;m\", \"\\\"i taking\", \"first time\", \"birth control.\", \"\\\"i got\", \"mood swings,\", \"3 weeks\", \"3 days\", \"don&#039;t know\", \"stop taking\", \"blood pressure\", \"two weeks\", \"i&#039;m going\", \"2 months\", \"weight gain\", \"side effect\", \"6 months\", \"sex drive\", \"2 weeks\", \"\\\"i took\", \"stopped taking\", \"3 months\", \"mood swings\", \"\\\"i started\", \"side effects.\", \"started taking\", \"birth control\", \"side effects\"], \"yaxis\": \"y\"}, {\"marker\": {\"color\": \"orange\"}, \"orientation\": \"h\", \"showlegend\": false, \"type\": \"bar\", \"x\": [1707, 1717, 1718, 1741, 1768, 1781, 1805, 1849, 1850, 1850, 1875, 1886, 1918, 1929, 2022, 2026, 2090, 2103, 2121, 2194, 2224, 2225, 2289, 2488, 2517, 2544, 2578, 2579, 2656, 2665, 2725, 2744, 2824, 2836, 2880, 2897, 2942, 3189, 3391, 3631, 3720, 3817, 3984, 4142, 5573, 5932, 6810, 8111, 8813, 25376], \"xaxis\": \"x2\", \"y\": [\"weight loss\", \"\\\"i&#039;ve taking\", \"really bad\", \"5 years\", \"\\\"i took\", \"every day\", \"months ago\", \"4 months\", \"birth control.\", \"i&#039;ve tried\", \"plan b\", \"\\\"i got\", \"months now\", \"first day\", \"side effects.\\\"\", \"first month\", \"weight gain,\", \"don&#039;t know\", \"2 days\", \"panic attacks\", \"now i&#039;m\", \"3 years\", \"first week\", \"highly recommend\", \"much better\", \"years old\", \"doctor prescribed\", \"3 weeks\", \"blood pressure\", \"year old\", \"years ago\", \"3 days\", \"2 years\", \"two weeks\", \"mood swings\", \"sex drive\", \"2 months\", \"6 months\", \"side effects,\", \"weight gain\", \"\\\"i taking\", \"3 months\", \"2 weeks\", \"first time\", \"\\\"i started\", \"side effect\", \"started taking\", \"side effects.\", \"birth control\", \"side effects\"], \"yaxis\": \"y2\"}],                        {\"annotations\": [{\"font\": {\"size\": 16}, \"showarrow\": false, \"text\": \"Frequent biagrams of rating 1 to 5\", \"x\": 0.2125, \"xanchor\": \"center\", \"xref\": \"paper\", \"y\": 1.0, \"yanchor\": \"bottom\", \"yref\": \"paper\"}, {\"font\": {\"size\": 16}, \"showarrow\": false, \"text\": \"Frequent biagrams of rating 6 to 10\", \"x\": 0.7875, \"xanchor\": \"center\", \"xref\": \"paper\", \"y\": 1.0, \"yanchor\": \"bottom\", \"yref\": \"paper\"}], \"height\": 1200, \"paper_bgcolor\": \"rgb(233,233,233)\", \"template\": {\"data\": {\"bar\": [{\"error_x\": {\"color\": \"#2a3f5f\"}, \"error_y\": {\"color\": \"#2a3f5f\"}, \"marker\": {\"line\": {\"color\": \"#E5ECF6\", \"width\": 0.5}}, \"type\": \"bar\"}], \"barpolar\": [{\"marker\": {\"line\": {\"color\": \"#E5ECF6\", \"width\": 0.5}}, \"type\": \"barpolar\"}], \"carpet\": [{\"aaxis\": {\"endlinecolor\": \"#2a3f5f\", \"gridcolor\": \"white\", \"linecolor\": \"white\", \"minorgridcolor\": \"white\", \"startlinecolor\": \"#2a3f5f\"}, \"baxis\": {\"endlinecolor\": \"#2a3f5f\", \"gridcolor\": \"white\", \"linecolor\": \"white\", \"minorgridcolor\": \"white\", \"startlinecolor\": \"#2a3f5f\"}, \"type\": \"carpet\"}], \"choropleth\": [{\"colorbar\": {\"outlinewidth\": 0, \"ticks\": \"\"}, \"type\": \"choropleth\"}], \"contour\": [{\"colorbar\": {\"outlinewidth\": 0, \"ticks\": \"\"}, \"colorscale\": [[0.0, \"#0d0887\"], [0.1111111111111111, \"#46039f\"], [0.2222222222222222, \"#7201a8\"], [0.3333333333333333, \"#9c179e\"], [0.4444444444444444, \"#bd3786\"], [0.5555555555555556, \"#d8576b\"], [0.6666666666666666, \"#ed7953\"], [0.7777777777777778, \"#fb9f3a\"], [0.8888888888888888, \"#fdca26\"], [1.0, \"#f0f921\"]], \"type\": \"contour\"}], \"contourcarpet\": [{\"colorbar\": {\"outlinewidth\": 0, \"ticks\": \"\"}, \"type\": \"contourcarpet\"}], \"heatmap\": [{\"colorbar\": {\"outlinewidth\": 0, \"ticks\": \"\"}, \"colorscale\": [[0.0, \"#0d0887\"], [0.1111111111111111, \"#46039f\"], [0.2222222222222222, \"#7201a8\"], [0.3333333333333333, \"#9c179e\"], [0.4444444444444444, \"#bd3786\"], [0.5555555555555556, \"#d8576b\"], [0.6666666666666666, \"#ed7953\"], [0.7777777777777778, \"#fb9f3a\"], [0.8888888888888888, \"#fdca26\"], [1.0, \"#f0f921\"]], \"type\": \"heatmap\"}], \"heatmapgl\": [{\"colorbar\": {\"outlinewidth\": 0, \"ticks\": \"\"}, \"colorscale\": [[0.0, \"#0d0887\"], [0.1111111111111111, \"#46039f\"], [0.2222222222222222, \"#7201a8\"], [0.3333333333333333, \"#9c179e\"], [0.4444444444444444, \"#bd3786\"], [0.5555555555555556, \"#d8576b\"], [0.6666666666666666, \"#ed7953\"], [0.7777777777777778, \"#fb9f3a\"], [0.8888888888888888, \"#fdca26\"], [1.0, \"#f0f921\"]], \"type\": \"heatmapgl\"}], \"histogram\": [{\"marker\": {\"colorbar\": {\"outlinewidth\": 0, \"ticks\": \"\"}}, \"type\": \"histogram\"}], \"histogram2d\": [{\"colorbar\": {\"outlinewidth\": 0, \"ticks\": \"\"}, \"colorscale\": [[0.0, \"#0d0887\"], [0.1111111111111111, \"#46039f\"], [0.2222222222222222, \"#7201a8\"], [0.3333333333333333, \"#9c179e\"], [0.4444444444444444, \"#bd3786\"], [0.5555555555555556, \"#d8576b\"], [0.6666666666666666, \"#ed7953\"], [0.7777777777777778, \"#fb9f3a\"], [0.8888888888888888, \"#fdca26\"], [1.0, \"#f0f921\"]], \"type\": \"histogram2d\"}], \"histogram2dcontour\": [{\"colorbar\": {\"outlinewidth\": 0, \"ticks\": \"\"}, \"colorscale\": [[0.0, \"#0d0887\"], [0.1111111111111111, \"#46039f\"], [0.2222222222222222, \"#7201a8\"], [0.3333333333333333, \"#9c179e\"], [0.4444444444444444, \"#bd3786\"], [0.5555555555555556, \"#d8576b\"], [0.6666666666666666, \"#ed7953\"], [0.7777777777777778, \"#fb9f3a\"], [0.8888888888888888, \"#fdca26\"], [1.0, \"#f0f921\"]], \"type\": \"histogram2dcontour\"}], \"mesh3d\": [{\"colorbar\": {\"outlinewidth\": 0, \"ticks\": \"\"}, \"type\": \"mesh3d\"}], \"parcoords\": [{\"line\": {\"colorbar\": {\"outlinewidth\": 0, \"ticks\": \"\"}}, \"type\": \"parcoords\"}], \"pie\": [{\"automargin\": true, \"type\": \"pie\"}], \"scatter\": [{\"marker\": {\"colorbar\": {\"outlinewidth\": 0, \"ticks\": \"\"}}, \"type\": \"scatter\"}], \"scatter3d\": [{\"line\": {\"colorbar\": {\"outlinewidth\": 0, \"ticks\": \"\"}}, \"marker\": {\"colorbar\": {\"outlinewidth\": 0, \"ticks\": \"\"}}, \"type\": \"scatter3d\"}], \"scattercarpet\": [{\"marker\": {\"colorbar\": {\"outlinewidth\": 0, \"ticks\": \"\"}}, \"type\": \"scattercarpet\"}], \"scattergeo\": [{\"marker\": {\"colorbar\": {\"outlinewidth\": 0, \"ticks\": \"\"}}, \"type\": \"scattergeo\"}], \"scattergl\": [{\"marker\": {\"colorbar\": {\"outlinewidth\": 0, \"ticks\": \"\"}}, \"type\": \"scattergl\"}], \"scattermapbox\": [{\"marker\": {\"colorbar\": {\"outlinewidth\": 0, \"ticks\": \"\"}}, \"type\": \"scattermapbox\"}], \"scatterpolar\": [{\"marker\": {\"colorbar\": {\"outlinewidth\": 0, \"ticks\": \"\"}}, \"type\": \"scatterpolar\"}], \"scatterpolargl\": [{\"marker\": {\"colorbar\": {\"outlinewidth\": 0, \"ticks\": \"\"}}, \"type\": \"scatterpolargl\"}], \"scatterternary\": [{\"marker\": {\"colorbar\": {\"outlinewidth\": 0, \"ticks\": \"\"}}, \"type\": \"scatterternary\"}], \"surface\": [{\"colorbar\": {\"outlinewidth\": 0, \"ticks\": \"\"}, \"colorscale\": [[0.0, \"#0d0887\"], [0.1111111111111111, \"#46039f\"], [0.2222222222222222, \"#7201a8\"], [0.3333333333333333, \"#9c179e\"], [0.4444444444444444, \"#bd3786\"], [0.5555555555555556, \"#d8576b\"], [0.6666666666666666, \"#ed7953\"], [0.7777777777777778, \"#fb9f3a\"], [0.8888888888888888, \"#fdca26\"], [1.0, \"#f0f921\"]], \"type\": \"surface\"}], \"table\": [{\"cells\": {\"fill\": {\"color\": \"#EBF0F8\"}, \"line\": {\"color\": \"white\"}}, \"header\": {\"fill\": {\"color\": \"#C8D4E3\"}, \"line\": {\"color\": \"white\"}}, \"type\": \"table\"}]}, \"layout\": {\"annotationdefaults\": {\"arrowcolor\": \"#2a3f5f\", \"arrowhead\": 0, \"arrowwidth\": 1}, \"coloraxis\": {\"colorbar\": {\"outlinewidth\": 0, \"ticks\": \"\"}}, \"colorscale\": {\"diverging\": [[0, \"#8e0152\"], [0.1, \"#c51b7d\"], [0.2, \"#de77ae\"], [0.3, \"#f1b6da\"], [0.4, \"#fde0ef\"], [0.5, \"#f7f7f7\"], [0.6, \"#e6f5d0\"], [0.7, \"#b8e186\"], [0.8, \"#7fbc41\"], [0.9, \"#4d9221\"], [1, \"#276419\"]], \"sequential\": [[0.0, \"#0d0887\"], [0.1111111111111111, \"#46039f\"], [0.2222222222222222, \"#7201a8\"], [0.3333333333333333, \"#9c179e\"], [0.4444444444444444, \"#bd3786\"], [0.5555555555555556, \"#d8576b\"], [0.6666666666666666, \"#ed7953\"], [0.7777777777777778, \"#fb9f3a\"], [0.8888888888888888, \"#fdca26\"], [1.0, \"#f0f921\"]], \"sequentialminus\": [[0.0, \"#0d0887\"], [0.1111111111111111, \"#46039f\"], [0.2222222222222222, \"#7201a8\"], [0.3333333333333333, \"#9c179e\"], [0.4444444444444444, \"#bd3786\"], [0.5555555555555556, \"#d8576b\"], [0.6666666666666666, \"#ed7953\"], [0.7777777777777778, \"#fb9f3a\"], [0.8888888888888888, \"#fdca26\"], [1.0, \"#f0f921\"]]}, \"colorway\": [\"#636efa\", \"#EF553B\", \"#00cc96\", \"#ab63fa\", \"#FFA15A\", \"#19d3f3\", \"#FF6692\", \"#B6E880\", \"#FF97FF\", \"#FECB52\"], \"font\": {\"color\": \"#2a3f5f\"}, \"geo\": {\"bgcolor\": \"white\", \"lakecolor\": \"white\", \"landcolor\": \"#E5ECF6\", \"showlakes\": true, \"showland\": true, \"subunitcolor\": \"white\"}, \"hoverlabel\": {\"align\": \"left\"}, \"hovermode\": \"closest\", \"mapbox\": {\"style\": \"light\"}, \"paper_bgcolor\": \"white\", \"plot_bgcolor\": \"#E5ECF6\", \"polar\": {\"angularaxis\": {\"gridcolor\": \"white\", \"linecolor\": \"white\", \"ticks\": \"\"}, \"bgcolor\": \"#E5ECF6\", \"radialaxis\": {\"gridcolor\": \"white\", \"linecolor\": \"white\", \"ticks\": \"\"}}, \"scene\": {\"xaxis\": {\"backgroundcolor\": \"#E5ECF6\", \"gridcolor\": \"white\", \"gridwidth\": 2, \"linecolor\": \"white\", \"showbackground\": true, \"ticks\": \"\", \"zerolinecolor\": \"white\"}, \"yaxis\": {\"backgroundcolor\": \"#E5ECF6\", \"gridcolor\": \"white\", \"gridwidth\": 2, \"linecolor\": \"white\", \"showbackground\": true, \"ticks\": \"\", \"zerolinecolor\": \"white\"}, \"zaxis\": {\"backgroundcolor\": \"#E5ECF6\", \"gridcolor\": \"white\", \"gridwidth\": 2, \"linecolor\": \"white\", \"showbackground\": true, \"ticks\": \"\", \"zerolinecolor\": \"white\"}}, \"shapedefaults\": {\"line\": {\"color\": \"#2a3f5f\"}}, \"ternary\": {\"aaxis\": {\"gridcolor\": \"white\", \"linecolor\": \"white\", \"ticks\": \"\"}, \"baxis\": {\"gridcolor\": \"white\", \"linecolor\": \"white\", \"ticks\": \"\"}, \"bgcolor\": \"#E5ECF6\", \"caxis\": {\"gridcolor\": \"white\", \"linecolor\": \"white\", \"ticks\": \"\"}}, \"title\": {\"x\": 0.05}, \"xaxis\": {\"automargin\": true, \"gridcolor\": \"white\", \"linecolor\": \"white\", \"ticks\": \"\", \"title\": {\"standoff\": 15}, \"zerolinecolor\": \"white\", \"zerolinewidth\": 2}, \"yaxis\": {\"automargin\": true, \"gridcolor\": \"white\", \"linecolor\": \"white\", \"ticks\": \"\", \"title\": {\"standoff\": 15}, \"zerolinecolor\": \"white\", \"zerolinewidth\": 2}}}, \"title\": {\"text\": \"Bigram Count Plots\"}, \"width\": 1000, \"xaxis\": {\"anchor\": \"y\", \"domain\": [0.0, 0.425]}, \"xaxis2\": {\"anchor\": \"y2\", \"domain\": [0.575, 1.0]}, \"yaxis\": {\"anchor\": \"x\", \"domain\": [0.0, 1.0]}, \"yaxis2\": {\"anchor\": \"x2\", \"domain\": [0.0, 1.0]}},                        {\"responsive\": true}                    ).then(function(){\n",
       "                            \n",
       "var gd = document.getElementById('8c27c31b-1b99-46e9-9113-53d074af191a');\n",
       "var x = new MutationObserver(function (mutations, observer) {{\n",
       "        var display = window.getComputedStyle(gd).display;\n",
       "        if (!display || display === 'none') {{\n",
       "            console.log([gd, 'removed!']);\n",
       "            Plotly.purge(gd);\n",
       "            observer.disconnect();\n",
       "        }}\n",
       "}});\n",
       "\n",
       "// Listen for the removal of the full notebook cells\n",
       "var notebookContainer = gd.closest('#notebook-container');\n",
       "if (notebookContainer) {{\n",
       "    x.observe(notebookContainer, {childList: true});\n",
       "}}\n",
       "\n",
       "// Listen for the clearing of the current output cell\n",
       "var outputEl = gd.closest('.output');\n",
       "if (outputEl) {{\n",
       "    x.observe(outputEl, {childList: true});\n",
       "}}\n",
       "\n",
       "                        })                };                });            </script>        </div>"
      ]
     },
     "metadata": {},
     "output_type": "display_data"
    }
   ],
   "source": [
    "freq_dict = defaultdict(int)\n",
    "for sent in df_all_1_5[\"review\"]:\n",
    "    for word in generate_ngrams(sent,2):\n",
    "        freq_dict[word] += 1\n",
    "fd_sorted = pd.DataFrame(sorted(freq_dict.items(), key=lambda x: x[1])[::-1])\n",
    "fd_sorted.columns = [\"word\", \"wordcount\"]\n",
    "trace1 = horizontal_bar_chart(fd_sorted.head(50), 'orange')\n",
    "\n",
    "freq_dict = defaultdict(int)\n",
    "for sent in df_all_6_10[\"review\"]:\n",
    "    for word in generate_ngrams(sent,2):\n",
    "        freq_dict[word] += 1\n",
    "fd_sorted = pd.DataFrame(sorted(freq_dict.items(), key=lambda x: x[1])[::-1])\n",
    "fd_sorted.columns = [\"word\", \"wordcount\"]\n",
    "trace2 = horizontal_bar_chart(fd_sorted.head(50), 'orange')\n",
    "\n",
    "fig = tools.make_subplots(rows=1, cols=2, vertical_spacing=0.04,horizontal_spacing=0.15,\n",
    "                          subplot_titles=[\"Frequent biagrams of rating 1 to 5\", \n",
    "                                          \"Frequent biagrams of rating 6 to 10\"])\n",
    "fig.append_trace(trace1, 1, 1)\n",
    "fig.append_trace(trace2, 1, 2)\n",
    "fig['layout'].update(height=1200, width=1000, paper_bgcolor='rgb(233,233,233)', title=\"Bigram Count Plots\")\n",
    "py.iplot(fig, filename='word-plots')"
   ]
  },
  {
   "cell_type": "markdown",
   "metadata": {
    "_uuid": "faa15e62d9bd51b7e538a84f89ad6061efc4c48b"
   },
   "source": [
    "Likewise, in 2-gram, the contents of the top five corpus are similar, and it will be hard to classify positive and negative. In addition, 'side effects' and 'side effects.' are interpreted differently, which means preprocessing of review data was necessary. However, we saw that it is better to classify emotions rather than previous 1-grams, like side effects, weight gain, and highly recommend."
   ]
  },
  {
   "cell_type": "code",
   "execution_count": 17,
   "metadata": {
    "_kg_hide-input": true,
    "_uuid": "cae502a170fe1665fd9aff62a257c04d111887b8"
   },
   "outputs": [
    {
     "name": "stderr",
     "output_type": "stream",
     "text": [
      "F:\\Anaconda\\lib\\site-packages\\plotly\\tools.py:465: DeprecationWarning:\n",
      "\n",
      "plotly.tools.make_subplots is deprecated, please use plotly.subplots.make_subplots instead\n",
      "\n"
     ]
    },
    {
     "data": {
      "application/vnd.plotly.v1+json": {
       "config": {
        "linkText": "Export to plot.ly",
        "plotlyServerURL": "https://plot.ly",
        "showLink": false
       },
       "data": [
        {
         "marker": {
          "color": "green"
         },
         "orientation": "h",
         "showlegend": false,
         "type": "bar",
         "x": [
          106,
          107,
          109,
          110,
          110,
          111,
          114,
          115,
          116,
          116,
          118,
          118,
          121,
          121,
          121,
          122,
          123,
          123,
          124,
          125,
          127,
          127,
          130,
          131,
          132,
          136,
          140,
          141,
          141,
          144,
          152,
          153,
          158,
          160,
          163,
          167,
          178,
          180,
          180,
          193,
          194,
          194,
          197,
          207,
          227,
          249,
          276,
          295,
          452,
          807
         ],
         "xaxis": "x",
         "y": [
          "\"i took pill",
          "severe side effects",
          "horrible side effects.",
          "bad side effects.",
          "didn&#039;t work me.",
          "2 weeks ago",
          "3 months now",
          "gained 10 pounds",
          "\"i took medicine",
          "first time took",
          "horrible side effects",
          "\"i got implant",
          "recommend birth control",
          "first started taking",
          "lo loestrin fe",
          "\"i took one",
          "first two weeks",
          "took one pill",
          "first 3 months",
          "i&#039;m going try",
          "gained 15 pounds",
          "ortho tri cyclen",
          "\"my doctor prescribed",
          "took first dose",
          "many side effects",
          "birth control i&#039;ve",
          "started birth control",
          "gained 20 pounds",
          "negative side effects",
          "will never use",
          "form birth control",
          "decided stop taking",
          "every single day",
          "i&#039;m going back",
          "started taking pill",
          "first birth control",
          "\"this birth control",
          "worst birth control",
          "stopped taking it.",
          "stop taking it.",
          "high blood pressure",
          "\"i got nexplanon",
          "\"i birth control",
          "side effects worth",
          "birth control pill",
          "bad side effects",
          "birth control pills",
          "taking birth control",
          "will never take",
          "\"i started taking"
         ],
         "yaxis": "y"
        },
        {
         "marker": {
          "color": "green"
         },
         "orientation": "h",
         "showlegend": false,
         "type": "bar",
         "x": [
          245,
          248,
          248,
          250,
          253,
          254,
          255,
          256,
          257,
          261,
          261,
          264,
          264,
          264,
          266,
          270,
          271,
          278,
          294,
          294,
          296,
          296,
          306,
          308,
          309,
          320,
          332,
          353,
          370,
          377,
          378,
          382,
          386,
          386,
          389,
          391,
          398,
          434,
          435,
          437,
          464,
          485,
          522,
          535,
          544,
          587,
          630,
          634,
          719,
          1947
         ],
         "xaxis": "x2",
         "y": [
          "2 months ago",
          "first day took",
          "2 years now.",
          "side effects dry",
          "side effects -",
          "first 3 months",
          "experience side effects",
          "side effects experienced",
          "first couple days",
          "tried many different",
          "took first dose",
          "many side effects",
          "lower back pain",
          "small price pay",
          "haven&#039;t gained weight",
          "2 years now",
          "post traumatic stress",
          "sexual side effects",
          "best birth control",
          "\"i got nexplanon",
          "2 years ago",
          "form birth control",
          "3 months now",
          "year old male",
          "negative side effects.",
          "bad side effects.",
          "side effect i&#039;ve",
          "side effects first",
          "\"i started using",
          "year old female",
          "birth control i&#039;ve",
          "3 times day",
          "feel much better.",
          "first 2 weeks",
          "birth control pill",
          "first two weeks",
          "first started taking",
          "side effects i&#039;ve",
          "taking birth control",
          "first birth control",
          "high blood pressure",
          "experienced side effects",
          "feel much better",
          "negative side effects",
          "side effects all.",
          "side effects except",
          "birth control pills",
          "bad side effects",
          "took plan b",
          "\"i started taking"
         ],
         "yaxis": "y2"
        }
       ],
       "layout": {
        "annotations": [
         {
          "font": {
           "size": 16
          },
          "showarrow": false,
          "text": "Frequent trigrams of rating 1 to 5",
          "x": 0.2125,
          "xanchor": "center",
          "xref": "paper",
          "y": 1,
          "yanchor": "bottom",
          "yref": "paper"
         },
         {
          "font": {
           "size": 16
          },
          "showarrow": false,
          "text": "Frequent trigrams of rating 6 to 10",
          "x": 0.7875,
          "xanchor": "center",
          "xref": "paper",
          "y": 1,
          "yanchor": "bottom",
          "yref": "paper"
         }
        ],
        "height": 1200,
        "paper_bgcolor": "rgb(233,233,233)",
        "template": {
         "data": {
          "bar": [
           {
            "error_x": {
             "color": "#2a3f5f"
            },
            "error_y": {
             "color": "#2a3f5f"
            },
            "marker": {
             "line": {
              "color": "#E5ECF6",
              "width": 0.5
             }
            },
            "type": "bar"
           }
          ],
          "barpolar": [
           {
            "marker": {
             "line": {
              "color": "#E5ECF6",
              "width": 0.5
             }
            },
            "type": "barpolar"
           }
          ],
          "carpet": [
           {
            "aaxis": {
             "endlinecolor": "#2a3f5f",
             "gridcolor": "white",
             "linecolor": "white",
             "minorgridcolor": "white",
             "startlinecolor": "#2a3f5f"
            },
            "baxis": {
             "endlinecolor": "#2a3f5f",
             "gridcolor": "white",
             "linecolor": "white",
             "minorgridcolor": "white",
             "startlinecolor": "#2a3f5f"
            },
            "type": "carpet"
           }
          ],
          "choropleth": [
           {
            "colorbar": {
             "outlinewidth": 0,
             "ticks": ""
            },
            "type": "choropleth"
           }
          ],
          "contour": [
           {
            "colorbar": {
             "outlinewidth": 0,
             "ticks": ""
            },
            "colorscale": [
             [
              0,
              "#0d0887"
             ],
             [
              0.1111111111111111,
              "#46039f"
             ],
             [
              0.2222222222222222,
              "#7201a8"
             ],
             [
              0.3333333333333333,
              "#9c179e"
             ],
             [
              0.4444444444444444,
              "#bd3786"
             ],
             [
              0.5555555555555556,
              "#d8576b"
             ],
             [
              0.6666666666666666,
              "#ed7953"
             ],
             [
              0.7777777777777778,
              "#fb9f3a"
             ],
             [
              0.8888888888888888,
              "#fdca26"
             ],
             [
              1,
              "#f0f921"
             ]
            ],
            "type": "contour"
           }
          ],
          "contourcarpet": [
           {
            "colorbar": {
             "outlinewidth": 0,
             "ticks": ""
            },
            "type": "contourcarpet"
           }
          ],
          "heatmap": [
           {
            "colorbar": {
             "outlinewidth": 0,
             "ticks": ""
            },
            "colorscale": [
             [
              0,
              "#0d0887"
             ],
             [
              0.1111111111111111,
              "#46039f"
             ],
             [
              0.2222222222222222,
              "#7201a8"
             ],
             [
              0.3333333333333333,
              "#9c179e"
             ],
             [
              0.4444444444444444,
              "#bd3786"
             ],
             [
              0.5555555555555556,
              "#d8576b"
             ],
             [
              0.6666666666666666,
              "#ed7953"
             ],
             [
              0.7777777777777778,
              "#fb9f3a"
             ],
             [
              0.8888888888888888,
              "#fdca26"
             ],
             [
              1,
              "#f0f921"
             ]
            ],
            "type": "heatmap"
           }
          ],
          "heatmapgl": [
           {
            "colorbar": {
             "outlinewidth": 0,
             "ticks": ""
            },
            "colorscale": [
             [
              0,
              "#0d0887"
             ],
             [
              0.1111111111111111,
              "#46039f"
             ],
             [
              0.2222222222222222,
              "#7201a8"
             ],
             [
              0.3333333333333333,
              "#9c179e"
             ],
             [
              0.4444444444444444,
              "#bd3786"
             ],
             [
              0.5555555555555556,
              "#d8576b"
             ],
             [
              0.6666666666666666,
              "#ed7953"
             ],
             [
              0.7777777777777778,
              "#fb9f3a"
             ],
             [
              0.8888888888888888,
              "#fdca26"
             ],
             [
              1,
              "#f0f921"
             ]
            ],
            "type": "heatmapgl"
           }
          ],
          "histogram": [
           {
            "marker": {
             "colorbar": {
              "outlinewidth": 0,
              "ticks": ""
             }
            },
            "type": "histogram"
           }
          ],
          "histogram2d": [
           {
            "colorbar": {
             "outlinewidth": 0,
             "ticks": ""
            },
            "colorscale": [
             [
              0,
              "#0d0887"
             ],
             [
              0.1111111111111111,
              "#46039f"
             ],
             [
              0.2222222222222222,
              "#7201a8"
             ],
             [
              0.3333333333333333,
              "#9c179e"
             ],
             [
              0.4444444444444444,
              "#bd3786"
             ],
             [
              0.5555555555555556,
              "#d8576b"
             ],
             [
              0.6666666666666666,
              "#ed7953"
             ],
             [
              0.7777777777777778,
              "#fb9f3a"
             ],
             [
              0.8888888888888888,
              "#fdca26"
             ],
             [
              1,
              "#f0f921"
             ]
            ],
            "type": "histogram2d"
           }
          ],
          "histogram2dcontour": [
           {
            "colorbar": {
             "outlinewidth": 0,
             "ticks": ""
            },
            "colorscale": [
             [
              0,
              "#0d0887"
             ],
             [
              0.1111111111111111,
              "#46039f"
             ],
             [
              0.2222222222222222,
              "#7201a8"
             ],
             [
              0.3333333333333333,
              "#9c179e"
             ],
             [
              0.4444444444444444,
              "#bd3786"
             ],
             [
              0.5555555555555556,
              "#d8576b"
             ],
             [
              0.6666666666666666,
              "#ed7953"
             ],
             [
              0.7777777777777778,
              "#fb9f3a"
             ],
             [
              0.8888888888888888,
              "#fdca26"
             ],
             [
              1,
              "#f0f921"
             ]
            ],
            "type": "histogram2dcontour"
           }
          ],
          "mesh3d": [
           {
            "colorbar": {
             "outlinewidth": 0,
             "ticks": ""
            },
            "type": "mesh3d"
           }
          ],
          "parcoords": [
           {
            "line": {
             "colorbar": {
              "outlinewidth": 0,
              "ticks": ""
             }
            },
            "type": "parcoords"
           }
          ],
          "pie": [
           {
            "automargin": true,
            "type": "pie"
           }
          ],
          "scatter": [
           {
            "marker": {
             "colorbar": {
              "outlinewidth": 0,
              "ticks": ""
             }
            },
            "type": "scatter"
           }
          ],
          "scatter3d": [
           {
            "line": {
             "colorbar": {
              "outlinewidth": 0,
              "ticks": ""
             }
            },
            "marker": {
             "colorbar": {
              "outlinewidth": 0,
              "ticks": ""
             }
            },
            "type": "scatter3d"
           }
          ],
          "scattercarpet": [
           {
            "marker": {
             "colorbar": {
              "outlinewidth": 0,
              "ticks": ""
             }
            },
            "type": "scattercarpet"
           }
          ],
          "scattergeo": [
           {
            "marker": {
             "colorbar": {
              "outlinewidth": 0,
              "ticks": ""
             }
            },
            "type": "scattergeo"
           }
          ],
          "scattergl": [
           {
            "marker": {
             "colorbar": {
              "outlinewidth": 0,
              "ticks": ""
             }
            },
            "type": "scattergl"
           }
          ],
          "scattermapbox": [
           {
            "marker": {
             "colorbar": {
              "outlinewidth": 0,
              "ticks": ""
             }
            },
            "type": "scattermapbox"
           }
          ],
          "scatterpolar": [
           {
            "marker": {
             "colorbar": {
              "outlinewidth": 0,
              "ticks": ""
             }
            },
            "type": "scatterpolar"
           }
          ],
          "scatterpolargl": [
           {
            "marker": {
             "colorbar": {
              "outlinewidth": 0,
              "ticks": ""
             }
            },
            "type": "scatterpolargl"
           }
          ],
          "scatterternary": [
           {
            "marker": {
             "colorbar": {
              "outlinewidth": 0,
              "ticks": ""
             }
            },
            "type": "scatterternary"
           }
          ],
          "surface": [
           {
            "colorbar": {
             "outlinewidth": 0,
             "ticks": ""
            },
            "colorscale": [
             [
              0,
              "#0d0887"
             ],
             [
              0.1111111111111111,
              "#46039f"
             ],
             [
              0.2222222222222222,
              "#7201a8"
             ],
             [
              0.3333333333333333,
              "#9c179e"
             ],
             [
              0.4444444444444444,
              "#bd3786"
             ],
             [
              0.5555555555555556,
              "#d8576b"
             ],
             [
              0.6666666666666666,
              "#ed7953"
             ],
             [
              0.7777777777777778,
              "#fb9f3a"
             ],
             [
              0.8888888888888888,
              "#fdca26"
             ],
             [
              1,
              "#f0f921"
             ]
            ],
            "type": "surface"
           }
          ],
          "table": [
           {
            "cells": {
             "fill": {
              "color": "#EBF0F8"
             },
             "line": {
              "color": "white"
             }
            },
            "header": {
             "fill": {
              "color": "#C8D4E3"
             },
             "line": {
              "color": "white"
             }
            },
            "type": "table"
           }
          ]
         },
         "layout": {
          "annotationdefaults": {
           "arrowcolor": "#2a3f5f",
           "arrowhead": 0,
           "arrowwidth": 1
          },
          "coloraxis": {
           "colorbar": {
            "outlinewidth": 0,
            "ticks": ""
           }
          },
          "colorscale": {
           "diverging": [
            [
             0,
             "#8e0152"
            ],
            [
             0.1,
             "#c51b7d"
            ],
            [
             0.2,
             "#de77ae"
            ],
            [
             0.3,
             "#f1b6da"
            ],
            [
             0.4,
             "#fde0ef"
            ],
            [
             0.5,
             "#f7f7f7"
            ],
            [
             0.6,
             "#e6f5d0"
            ],
            [
             0.7,
             "#b8e186"
            ],
            [
             0.8,
             "#7fbc41"
            ],
            [
             0.9,
             "#4d9221"
            ],
            [
             1,
             "#276419"
            ]
           ],
           "sequential": [
            [
             0,
             "#0d0887"
            ],
            [
             0.1111111111111111,
             "#46039f"
            ],
            [
             0.2222222222222222,
             "#7201a8"
            ],
            [
             0.3333333333333333,
             "#9c179e"
            ],
            [
             0.4444444444444444,
             "#bd3786"
            ],
            [
             0.5555555555555556,
             "#d8576b"
            ],
            [
             0.6666666666666666,
             "#ed7953"
            ],
            [
             0.7777777777777778,
             "#fb9f3a"
            ],
            [
             0.8888888888888888,
             "#fdca26"
            ],
            [
             1,
             "#f0f921"
            ]
           ],
           "sequentialminus": [
            [
             0,
             "#0d0887"
            ],
            [
             0.1111111111111111,
             "#46039f"
            ],
            [
             0.2222222222222222,
             "#7201a8"
            ],
            [
             0.3333333333333333,
             "#9c179e"
            ],
            [
             0.4444444444444444,
             "#bd3786"
            ],
            [
             0.5555555555555556,
             "#d8576b"
            ],
            [
             0.6666666666666666,
             "#ed7953"
            ],
            [
             0.7777777777777778,
             "#fb9f3a"
            ],
            [
             0.8888888888888888,
             "#fdca26"
            ],
            [
             1,
             "#f0f921"
            ]
           ]
          },
          "colorway": [
           "#636efa",
           "#EF553B",
           "#00cc96",
           "#ab63fa",
           "#FFA15A",
           "#19d3f3",
           "#FF6692",
           "#B6E880",
           "#FF97FF",
           "#FECB52"
          ],
          "font": {
           "color": "#2a3f5f"
          },
          "geo": {
           "bgcolor": "white",
           "lakecolor": "white",
           "landcolor": "#E5ECF6",
           "showlakes": true,
           "showland": true,
           "subunitcolor": "white"
          },
          "hoverlabel": {
           "align": "left"
          },
          "hovermode": "closest",
          "mapbox": {
           "style": "light"
          },
          "paper_bgcolor": "white",
          "plot_bgcolor": "#E5ECF6",
          "polar": {
           "angularaxis": {
            "gridcolor": "white",
            "linecolor": "white",
            "ticks": ""
           },
           "bgcolor": "#E5ECF6",
           "radialaxis": {
            "gridcolor": "white",
            "linecolor": "white",
            "ticks": ""
           }
          },
          "scene": {
           "xaxis": {
            "backgroundcolor": "#E5ECF6",
            "gridcolor": "white",
            "gridwidth": 2,
            "linecolor": "white",
            "showbackground": true,
            "ticks": "",
            "zerolinecolor": "white"
           },
           "yaxis": {
            "backgroundcolor": "#E5ECF6",
            "gridcolor": "white",
            "gridwidth": 2,
            "linecolor": "white",
            "showbackground": true,
            "ticks": "",
            "zerolinecolor": "white"
           },
           "zaxis": {
            "backgroundcolor": "#E5ECF6",
            "gridcolor": "white",
            "gridwidth": 2,
            "linecolor": "white",
            "showbackground": true,
            "ticks": "",
            "zerolinecolor": "white"
           }
          },
          "shapedefaults": {
           "line": {
            "color": "#2a3f5f"
           }
          },
          "ternary": {
           "aaxis": {
            "gridcolor": "white",
            "linecolor": "white",
            "ticks": ""
           },
           "baxis": {
            "gridcolor": "white",
            "linecolor": "white",
            "ticks": ""
           },
           "bgcolor": "#E5ECF6",
           "caxis": {
            "gridcolor": "white",
            "linecolor": "white",
            "ticks": ""
           }
          },
          "title": {
           "x": 0.05
          },
          "xaxis": {
           "automargin": true,
           "gridcolor": "white",
           "linecolor": "white",
           "ticks": "",
           "title": {
            "standoff": 15
           },
           "zerolinecolor": "white",
           "zerolinewidth": 2
          },
          "yaxis": {
           "automargin": true,
           "gridcolor": "white",
           "linecolor": "white",
           "ticks": "",
           "title": {
            "standoff": 15
           },
           "zerolinecolor": "white",
           "zerolinewidth": 2
          }
         }
        },
        "title": {
         "text": "Trigram Count Plots"
        },
        "width": 1600,
        "xaxis": {
         "anchor": "y",
         "domain": [
          0,
          0.425
         ]
        },
        "xaxis2": {
         "anchor": "y2",
         "domain": [
          0.575,
          1
         ]
        },
        "yaxis": {
         "anchor": "x",
         "domain": [
          0,
          1
         ]
        },
        "yaxis2": {
         "anchor": "x2",
         "domain": [
          0,
          1
         ]
        }
       }
      },
      "text/html": [
       "<div>                            <div id=\"e20e3765-0783-44c7-8d46-959e8f9b8bc2\" class=\"plotly-graph-div\" style=\"height:1200px; width:1600px;\"></div>            <script type=\"text/javascript\">                require([\"plotly\"], function(Plotly) {                    window.PLOTLYENV=window.PLOTLYENV || {};                                    if (document.getElementById(\"e20e3765-0783-44c7-8d46-959e8f9b8bc2\")) {                    Plotly.newPlot(                        \"e20e3765-0783-44c7-8d46-959e8f9b8bc2\",                        [{\"marker\": {\"color\": \"green\"}, \"orientation\": \"h\", \"showlegend\": false, \"type\": \"bar\", \"x\": [106, 107, 109, 110, 110, 111, 114, 115, 116, 116, 118, 118, 121, 121, 121, 122, 123, 123, 124, 125, 127, 127, 130, 131, 132, 136, 140, 141, 141, 144, 152, 153, 158, 160, 163, 167, 178, 180, 180, 193, 194, 194, 197, 207, 227, 249, 276, 295, 452, 807], \"xaxis\": \"x\", \"y\": [\"\\\"i took pill\", \"severe side effects\", \"horrible side effects.\", \"bad side effects.\", \"didn&#039;t work me.\", \"2 weeks ago\", \"3 months now\", \"gained 10 pounds\", \"\\\"i took medicine\", \"first time took\", \"horrible side effects\", \"\\\"i got implant\", \"recommend birth control\", \"first started taking\", \"lo loestrin fe\", \"\\\"i took one\", \"first two weeks\", \"took one pill\", \"first 3 months\", \"i&#039;m going try\", \"gained 15 pounds\", \"ortho tri cyclen\", \"\\\"my doctor prescribed\", \"took first dose\", \"many side effects\", \"birth control i&#039;ve\", \"started birth control\", \"gained 20 pounds\", \"negative side effects\", \"will never use\", \"form birth control\", \"decided stop taking\", \"every single day\", \"i&#039;m going back\", \"started taking pill\", \"first birth control\", \"\\\"this birth control\", \"worst birth control\", \"stopped taking it.\", \"stop taking it.\", \"high blood pressure\", \"\\\"i got nexplanon\", \"\\\"i birth control\", \"side effects worth\", \"birth control pill\", \"bad side effects\", \"birth control pills\", \"taking birth control\", \"will never take\", \"\\\"i started taking\"], \"yaxis\": \"y\"}, {\"marker\": {\"color\": \"green\"}, \"orientation\": \"h\", \"showlegend\": false, \"type\": \"bar\", \"x\": [245, 248, 248, 250, 253, 254, 255, 256, 257, 261, 261, 264, 264, 264, 266, 270, 271, 278, 294, 294, 296, 296, 306, 308, 309, 320, 332, 353, 370, 377, 378, 382, 386, 386, 389, 391, 398, 434, 435, 437, 464, 485, 522, 535, 544, 587, 630, 634, 719, 1947], \"xaxis\": \"x2\", \"y\": [\"2 months ago\", \"first day took\", \"2 years now.\", \"side effects dry\", \"side effects -\", \"first 3 months\", \"experience side effects\", \"side effects experienced\", \"first couple days\", \"tried many different\", \"took first dose\", \"many side effects\", \"lower back pain\", \"small price pay\", \"haven&#039;t gained weight\", \"2 years now\", \"post traumatic stress\", \"sexual side effects\", \"best birth control\", \"\\\"i got nexplanon\", \"2 years ago\", \"form birth control\", \"3 months now\", \"year old male\", \"negative side effects.\", \"bad side effects.\", \"side effect i&#039;ve\", \"side effects first\", \"\\\"i started using\", \"year old female\", \"birth control i&#039;ve\", \"3 times day\", \"feel much better.\", \"first 2 weeks\", \"birth control pill\", \"first two weeks\", \"first started taking\", \"side effects i&#039;ve\", \"taking birth control\", \"first birth control\", \"high blood pressure\", \"experienced side effects\", \"feel much better\", \"negative side effects\", \"side effects all.\", \"side effects except\", \"birth control pills\", \"bad side effects\", \"took plan b\", \"\\\"i started taking\"], \"yaxis\": \"y2\"}],                        {\"annotations\": [{\"font\": {\"size\": 16}, \"showarrow\": false, \"text\": \"Frequent trigrams of rating 1 to 5\", \"x\": 0.2125, \"xanchor\": \"center\", \"xref\": \"paper\", \"y\": 1.0, \"yanchor\": \"bottom\", \"yref\": \"paper\"}, {\"font\": {\"size\": 16}, \"showarrow\": false, \"text\": \"Frequent trigrams of rating 6 to 10\", \"x\": 0.7875, \"xanchor\": \"center\", \"xref\": \"paper\", \"y\": 1.0, \"yanchor\": \"bottom\", \"yref\": \"paper\"}], \"height\": 1200, \"paper_bgcolor\": \"rgb(233,233,233)\", \"template\": {\"data\": {\"bar\": [{\"error_x\": {\"color\": \"#2a3f5f\"}, \"error_y\": {\"color\": \"#2a3f5f\"}, \"marker\": {\"line\": {\"color\": \"#E5ECF6\", \"width\": 0.5}}, \"type\": \"bar\"}], \"barpolar\": [{\"marker\": {\"line\": {\"color\": \"#E5ECF6\", \"width\": 0.5}}, \"type\": \"barpolar\"}], \"carpet\": [{\"aaxis\": {\"endlinecolor\": \"#2a3f5f\", \"gridcolor\": \"white\", \"linecolor\": \"white\", \"minorgridcolor\": \"white\", \"startlinecolor\": \"#2a3f5f\"}, \"baxis\": {\"endlinecolor\": \"#2a3f5f\", \"gridcolor\": \"white\", \"linecolor\": \"white\", \"minorgridcolor\": \"white\", \"startlinecolor\": \"#2a3f5f\"}, \"type\": \"carpet\"}], \"choropleth\": [{\"colorbar\": {\"outlinewidth\": 0, \"ticks\": \"\"}, \"type\": \"choropleth\"}], \"contour\": [{\"colorbar\": {\"outlinewidth\": 0, \"ticks\": \"\"}, \"colorscale\": [[0.0, \"#0d0887\"], [0.1111111111111111, \"#46039f\"], [0.2222222222222222, \"#7201a8\"], [0.3333333333333333, \"#9c179e\"], [0.4444444444444444, \"#bd3786\"], [0.5555555555555556, \"#d8576b\"], [0.6666666666666666, \"#ed7953\"], [0.7777777777777778, \"#fb9f3a\"], [0.8888888888888888, \"#fdca26\"], [1.0, \"#f0f921\"]], \"type\": \"contour\"}], \"contourcarpet\": [{\"colorbar\": {\"outlinewidth\": 0, \"ticks\": \"\"}, \"type\": \"contourcarpet\"}], \"heatmap\": [{\"colorbar\": {\"outlinewidth\": 0, \"ticks\": \"\"}, \"colorscale\": [[0.0, \"#0d0887\"], [0.1111111111111111, \"#46039f\"], [0.2222222222222222, \"#7201a8\"], [0.3333333333333333, \"#9c179e\"], [0.4444444444444444, \"#bd3786\"], [0.5555555555555556, \"#d8576b\"], [0.6666666666666666, \"#ed7953\"], [0.7777777777777778, \"#fb9f3a\"], [0.8888888888888888, \"#fdca26\"], [1.0, \"#f0f921\"]], \"type\": \"heatmap\"}], \"heatmapgl\": [{\"colorbar\": {\"outlinewidth\": 0, \"ticks\": \"\"}, \"colorscale\": [[0.0, \"#0d0887\"], [0.1111111111111111, \"#46039f\"], [0.2222222222222222, \"#7201a8\"], [0.3333333333333333, \"#9c179e\"], [0.4444444444444444, \"#bd3786\"], [0.5555555555555556, \"#d8576b\"], [0.6666666666666666, \"#ed7953\"], [0.7777777777777778, \"#fb9f3a\"], [0.8888888888888888, \"#fdca26\"], [1.0, \"#f0f921\"]], \"type\": \"heatmapgl\"}], \"histogram\": [{\"marker\": {\"colorbar\": {\"outlinewidth\": 0, \"ticks\": \"\"}}, \"type\": \"histogram\"}], \"histogram2d\": [{\"colorbar\": {\"outlinewidth\": 0, \"ticks\": \"\"}, \"colorscale\": [[0.0, \"#0d0887\"], [0.1111111111111111, \"#46039f\"], [0.2222222222222222, \"#7201a8\"], [0.3333333333333333, \"#9c179e\"], [0.4444444444444444, \"#bd3786\"], [0.5555555555555556, \"#d8576b\"], [0.6666666666666666, \"#ed7953\"], [0.7777777777777778, \"#fb9f3a\"], [0.8888888888888888, \"#fdca26\"], [1.0, \"#f0f921\"]], \"type\": \"histogram2d\"}], \"histogram2dcontour\": [{\"colorbar\": {\"outlinewidth\": 0, \"ticks\": \"\"}, \"colorscale\": [[0.0, \"#0d0887\"], [0.1111111111111111, \"#46039f\"], [0.2222222222222222, \"#7201a8\"], [0.3333333333333333, \"#9c179e\"], [0.4444444444444444, \"#bd3786\"], [0.5555555555555556, \"#d8576b\"], [0.6666666666666666, \"#ed7953\"], [0.7777777777777778, \"#fb9f3a\"], [0.8888888888888888, \"#fdca26\"], [1.0, \"#f0f921\"]], \"type\": \"histogram2dcontour\"}], \"mesh3d\": [{\"colorbar\": {\"outlinewidth\": 0, \"ticks\": \"\"}, \"type\": \"mesh3d\"}], \"parcoords\": [{\"line\": {\"colorbar\": {\"outlinewidth\": 0, \"ticks\": \"\"}}, \"type\": \"parcoords\"}], \"pie\": [{\"automargin\": true, \"type\": \"pie\"}], \"scatter\": [{\"marker\": {\"colorbar\": {\"outlinewidth\": 0, \"ticks\": \"\"}}, \"type\": \"scatter\"}], \"scatter3d\": [{\"line\": {\"colorbar\": {\"outlinewidth\": 0, \"ticks\": \"\"}}, \"marker\": {\"colorbar\": {\"outlinewidth\": 0, \"ticks\": \"\"}}, \"type\": \"scatter3d\"}], \"scattercarpet\": [{\"marker\": {\"colorbar\": {\"outlinewidth\": 0, \"ticks\": \"\"}}, \"type\": \"scattercarpet\"}], \"scattergeo\": [{\"marker\": {\"colorbar\": {\"outlinewidth\": 0, \"ticks\": \"\"}}, \"type\": \"scattergeo\"}], \"scattergl\": [{\"marker\": {\"colorbar\": {\"outlinewidth\": 0, \"ticks\": \"\"}}, \"type\": \"scattergl\"}], \"scattermapbox\": [{\"marker\": {\"colorbar\": {\"outlinewidth\": 0, \"ticks\": \"\"}}, \"type\": \"scattermapbox\"}], \"scatterpolar\": [{\"marker\": {\"colorbar\": {\"outlinewidth\": 0, \"ticks\": \"\"}}, \"type\": \"scatterpolar\"}], \"scatterpolargl\": [{\"marker\": {\"colorbar\": {\"outlinewidth\": 0, \"ticks\": \"\"}}, \"type\": \"scatterpolargl\"}], \"scatterternary\": [{\"marker\": {\"colorbar\": {\"outlinewidth\": 0, \"ticks\": \"\"}}, \"type\": \"scatterternary\"}], \"surface\": [{\"colorbar\": {\"outlinewidth\": 0, \"ticks\": \"\"}, \"colorscale\": [[0.0, \"#0d0887\"], [0.1111111111111111, \"#46039f\"], [0.2222222222222222, \"#7201a8\"], [0.3333333333333333, \"#9c179e\"], [0.4444444444444444, \"#bd3786\"], [0.5555555555555556, \"#d8576b\"], [0.6666666666666666, \"#ed7953\"], [0.7777777777777778, \"#fb9f3a\"], [0.8888888888888888, \"#fdca26\"], [1.0, \"#f0f921\"]], \"type\": \"surface\"}], \"table\": [{\"cells\": {\"fill\": {\"color\": \"#EBF0F8\"}, \"line\": {\"color\": \"white\"}}, \"header\": {\"fill\": {\"color\": \"#C8D4E3\"}, \"line\": {\"color\": \"white\"}}, \"type\": \"table\"}]}, \"layout\": {\"annotationdefaults\": {\"arrowcolor\": \"#2a3f5f\", \"arrowhead\": 0, \"arrowwidth\": 1}, \"coloraxis\": {\"colorbar\": {\"outlinewidth\": 0, \"ticks\": \"\"}}, \"colorscale\": {\"diverging\": [[0, \"#8e0152\"], [0.1, \"#c51b7d\"], [0.2, \"#de77ae\"], [0.3, \"#f1b6da\"], [0.4, \"#fde0ef\"], [0.5, \"#f7f7f7\"], [0.6, \"#e6f5d0\"], [0.7, \"#b8e186\"], [0.8, \"#7fbc41\"], [0.9, \"#4d9221\"], [1, \"#276419\"]], \"sequential\": [[0.0, \"#0d0887\"], [0.1111111111111111, \"#46039f\"], [0.2222222222222222, \"#7201a8\"], [0.3333333333333333, \"#9c179e\"], [0.4444444444444444, \"#bd3786\"], [0.5555555555555556, \"#d8576b\"], [0.6666666666666666, \"#ed7953\"], [0.7777777777777778, \"#fb9f3a\"], [0.8888888888888888, \"#fdca26\"], [1.0, \"#f0f921\"]], \"sequentialminus\": [[0.0, \"#0d0887\"], [0.1111111111111111, \"#46039f\"], [0.2222222222222222, \"#7201a8\"], [0.3333333333333333, \"#9c179e\"], [0.4444444444444444, \"#bd3786\"], [0.5555555555555556, \"#d8576b\"], [0.6666666666666666, \"#ed7953\"], [0.7777777777777778, \"#fb9f3a\"], [0.8888888888888888, \"#fdca26\"], [1.0, \"#f0f921\"]]}, \"colorway\": [\"#636efa\", \"#EF553B\", \"#00cc96\", \"#ab63fa\", \"#FFA15A\", \"#19d3f3\", \"#FF6692\", \"#B6E880\", \"#FF97FF\", \"#FECB52\"], \"font\": {\"color\": \"#2a3f5f\"}, \"geo\": {\"bgcolor\": \"white\", \"lakecolor\": \"white\", \"landcolor\": \"#E5ECF6\", \"showlakes\": true, \"showland\": true, \"subunitcolor\": \"white\"}, \"hoverlabel\": {\"align\": \"left\"}, \"hovermode\": \"closest\", \"mapbox\": {\"style\": \"light\"}, \"paper_bgcolor\": \"white\", \"plot_bgcolor\": \"#E5ECF6\", \"polar\": {\"angularaxis\": {\"gridcolor\": \"white\", \"linecolor\": \"white\", \"ticks\": \"\"}, \"bgcolor\": \"#E5ECF6\", \"radialaxis\": {\"gridcolor\": \"white\", \"linecolor\": \"white\", \"ticks\": \"\"}}, \"scene\": {\"xaxis\": {\"backgroundcolor\": \"#E5ECF6\", \"gridcolor\": \"white\", \"gridwidth\": 2, \"linecolor\": \"white\", \"showbackground\": true, \"ticks\": \"\", \"zerolinecolor\": \"white\"}, \"yaxis\": {\"backgroundcolor\": \"#E5ECF6\", \"gridcolor\": \"white\", \"gridwidth\": 2, \"linecolor\": \"white\", \"showbackground\": true, \"ticks\": \"\", \"zerolinecolor\": \"white\"}, \"zaxis\": {\"backgroundcolor\": \"#E5ECF6\", \"gridcolor\": \"white\", \"gridwidth\": 2, \"linecolor\": \"white\", \"showbackground\": true, \"ticks\": \"\", \"zerolinecolor\": \"white\"}}, \"shapedefaults\": {\"line\": {\"color\": \"#2a3f5f\"}}, \"ternary\": {\"aaxis\": {\"gridcolor\": \"white\", \"linecolor\": \"white\", \"ticks\": \"\"}, \"baxis\": {\"gridcolor\": \"white\", \"linecolor\": \"white\", \"ticks\": \"\"}, \"bgcolor\": \"#E5ECF6\", \"caxis\": {\"gridcolor\": \"white\", \"linecolor\": \"white\", \"ticks\": \"\"}}, \"title\": {\"x\": 0.05}, \"xaxis\": {\"automargin\": true, \"gridcolor\": \"white\", \"linecolor\": \"white\", \"ticks\": \"\", \"title\": {\"standoff\": 15}, \"zerolinecolor\": \"white\", \"zerolinewidth\": 2}, \"yaxis\": {\"automargin\": true, \"gridcolor\": \"white\", \"linecolor\": \"white\", \"ticks\": \"\", \"title\": {\"standoff\": 15}, \"zerolinecolor\": \"white\", \"zerolinewidth\": 2}}}, \"title\": {\"text\": \"Trigram Count Plots\"}, \"width\": 1600, \"xaxis\": {\"anchor\": \"y\", \"domain\": [0.0, 0.425]}, \"xaxis2\": {\"anchor\": \"y2\", \"domain\": [0.575, 1.0]}, \"yaxis\": {\"anchor\": \"x\", \"domain\": [0.0, 1.0]}, \"yaxis2\": {\"anchor\": \"x2\", \"domain\": [0.0, 1.0]}},                        {\"responsive\": true}                    ).then(function(){\n",
       "                            \n",
       "var gd = document.getElementById('e20e3765-0783-44c7-8d46-959e8f9b8bc2');\n",
       "var x = new MutationObserver(function (mutations, observer) {{\n",
       "        var display = window.getComputedStyle(gd).display;\n",
       "        if (!display || display === 'none') {{\n",
       "            console.log([gd, 'removed!']);\n",
       "            Plotly.purge(gd);\n",
       "            observer.disconnect();\n",
       "        }}\n",
       "}});\n",
       "\n",
       "// Listen for the removal of the full notebook cells\n",
       "var notebookContainer = gd.closest('#notebook-container');\n",
       "if (notebookContainer) {{\n",
       "    x.observe(notebookContainer, {childList: true});\n",
       "}}\n",
       "\n",
       "// Listen for the clearing of the current output cell\n",
       "var outputEl = gd.closest('.output');\n",
       "if (outputEl) {{\n",
       "    x.observe(outputEl, {childList: true});\n",
       "}}\n",
       "\n",
       "                        })                };                });            </script>        </div>"
      ]
     },
     "metadata": {},
     "output_type": "display_data"
    }
   ],
   "source": [
    "freq_dict = defaultdict(int)\n",
    "for sent in df_all_1_5[\"review\"]:\n",
    "    for word in generate_ngrams(sent,3):\n",
    "        freq_dict[word] += 1\n",
    "fd_sorted = pd.DataFrame(sorted(freq_dict.items(), key=lambda x: x[1])[::-1])\n",
    "fd_sorted.columns = [\"word\", \"wordcount\"]\n",
    "trace1 = horizontal_bar_chart(fd_sorted.head(50), 'green')\n",
    "\n",
    "freq_dict = defaultdict(int)\n",
    "for sent in df_all_6_10[\"review\"]:\n",
    "    for word in generate_ngrams(sent,3):\n",
    "        freq_dict[word] += 1\n",
    "fd_sorted = pd.DataFrame(sorted(freq_dict.items(), key=lambda x: x[1])[::-1])\n",
    "fd_sorted.columns = [\"word\", \"wordcount\"]\n",
    "trace2 = horizontal_bar_chart(fd_sorted.head(50), 'green')\n",
    "\n",
    "fig = tools.make_subplots(rows=1, cols=2, vertical_spacing=0.04,horizontal_spacing=0.15,\n",
    "                          subplot_titles=[\"Frequent trigrams of rating 1 to 5\", \n",
    "                                          \"Frequent trigrams of rating 6 to 10\"])\n",
    "fig.append_trace(trace1, 1, 1)\n",
    "fig.append_trace(trace2, 1, 2)\n",
    "fig['layout'].update(height=1200, width=1600, paper_bgcolor='rgb(233,233,233)', title=\"Trigram Count Plots\")\n",
    "py.iplot(fig, filename='word-plots')"
   ]
  },
  {
   "cell_type": "markdown",
   "metadata": {
    "_uuid": "d2ff80f6d7cf321f40f65c6330a2ad902f59659a"
   },
   "source": [
    "From 3-gram we saw that there is a difference between positive and negative corpus. Bad side effects, birth control pills, negative side effects are corpus that classify positive and negative."
   ]
  },
  {
   "cell_type": "code",
   "execution_count": 18,
   "metadata": {
    "_kg_hide-input": true,
    "_uuid": "b59a9e02961f89349684d69e793fc3270b103022"
   },
   "outputs": [
    {
     "name": "stderr",
     "output_type": "stream",
     "text": [
      "F:\\Anaconda\\lib\\site-packages\\plotly\\tools.py:465: DeprecationWarning:\n",
      "\n",
      "plotly.tools.make_subplots is deprecated, please use plotly.subplots.make_subplots instead\n",
      "\n"
     ]
    },
    {
     "data": {
      "application/vnd.plotly.v1+json": {
       "config": {
        "linkText": "Export to plot.ly",
        "plotlyServerURL": "https://plot.ly",
        "showLink": false
       },
       "data": [
        {
         "marker": {
          "color": "red"
         },
         "orientation": "h",
         "showlegend": false,
         "type": "bar",
         "x": [
          22,
          22,
          22,
          22,
          23,
          23,
          23,
          24,
          24,
          24,
          25,
          25,
          25,
          25,
          26,
          26,
          26,
          26,
          27,
          27,
          27,
          27,
          28,
          28,
          28,
          29,
          30,
          32,
          32,
          32,
          32,
          35,
          36,
          38,
          39,
          41,
          42,
          42,
          42,
          45,
          48,
          49,
          50,
          58,
          59,
          59,
          64,
          65,
          71,
          73
         ],
         "xaxis": "x",
         "y": [
          "\"i 21 years old",
          "\"i recommend birth control",
          "take pill every day",
          "took plan b within",
          "\"i got first shot",
          "\"i&#039;ve taking birth control",
          "recommend birth control anyone.",
          "first birth control i&#039;ve",
          "birth control side effects",
          "side effects will go",
          "birth control i&#039;ve on.",
          "stopped taking birth control",
          "\"i will never take",
          "taking birth control pills",
          "\"i got skyla inserted",
          "first started taking it,",
          "will never use product",
          "first time birth control.",
          "\"i took birth control",
          "will never take medication",
          "i&#039;ve gained 20 pounds",
          "\"this birth control made",
          "\"when first started taking",
          "i&#039;ve gained 10 pounds",
          "\"i took one pill",
          "will never take medicine",
          "side effects worth it.\"",
          "\"i started taking medicine",
          "\"i took first dose",
          "\"i got birth control",
          "\"i got depo shot",
          "\"this worst birth control",
          "mood swings, weight gain,",
          "will never take drug",
          "side effects aren&#039;t worth",
          "first birth control pill",
          "worst birth control i&#039;ve",
          "\"i got nexplanon inserted",
          "\"i taking birth control",
          "\"i started taking medication",
          "side effects go away",
          "i&#039;m going stop taking",
          "started taking birth control",
          "ortho tri cyclen lo",
          "will never take again.",
          "will never take again.\"",
          "side effects worth it.",
          "\"this first birth control",
          "\"i started taking pill",
          "\"i started birth control"
         ],
         "yaxis": "y"
        },
        {
         "marker": {
          "color": "red"
         },
         "orientation": "h",
         "showlegend": false,
         "type": "bar",
         "x": [
          48,
          49,
          51,
          51,
          52,
          53,
          54,
          54,
          55,
          55,
          55,
          56,
          56,
          58,
          59,
          60,
          60,
          61,
          62,
          64,
          64,
          65,
          66,
          66,
          68,
          69,
          72,
          72,
          73,
          73,
          74,
          75,
          78,
          79,
          80,
          80,
          86,
          90,
          90,
          92,
          93,
          93,
          93,
          94,
          102,
          104,
          105,
          109,
          110,
          118
         ],
         "xaxis": "x2",
         "y": [
          "months now love it!",
          "first started taking it,",
          "first time birth control",
          "remember take pill every",
          "birth control pill i&#039;ve",
          "don&#039;t worry taking pill",
          "say enough good things",
          "\"i started taking medicine",
          "haven&#039;t noticed side effects",
          "\"when first started taking",
          "\"i started taking pill",
          "can&#039;t say enough good",
          "years now love it.",
          "didn&#039;t experience side effects",
          "haven&#039;t noticed weight gain",
          "\"i got nexplanon inserted",
          "different birth control pills",
          "\"i got skyla inserted",
          "took plan b one",
          "side effects go away",
          "don&#039;t remember take pill",
          "experienced negative side effects",
          "\"i 20 years old",
          "haven&#039;t experienced side effects",
          "side effects i&#039;ve noticed",
          "best thing happened me.",
          "side effect dry mouth",
          "side effects dry mouth,",
          "mood swings, weight gain,",
          "\"i started taking adipex",
          "side effect i&#039;ve experienced",
          "side effects weight gain",
          "weight gain, mood swings,",
          "side effect i&#039;ve noticed",
          "took plan b within",
          "\"i love birth control.",
          "post traumatic stress disorder.",
          "plan b one step",
          "best birth control i&#039;ve",
          "first birth control pill",
          "\"i started taking phentermine",
          "first birth control i&#039;ve",
          "side effects i&#039;ve experienced",
          "side effects dry mouth",
          "side effects went away",
          "started taking birth control",
          "\"this first birth control",
          "\"i took plan b",
          "\"i started taking medication",
          "post traumatic stress disorder"
         ],
         "yaxis": "y2"
        }
       ],
       "layout": {
        "annotations": [
         {
          "font": {
           "size": 16
          },
          "showarrow": false,
          "text": "Frequent 4-grams of rating 1 to 5",
          "x": 0.2125,
          "xanchor": "center",
          "xref": "paper",
          "y": 1,
          "yanchor": "bottom",
          "yref": "paper"
         },
         {
          "font": {
           "size": 16
          },
          "showarrow": false,
          "text": "Frequent 4-grams of rating 6 to 10",
          "x": 0.7875,
          "xanchor": "center",
          "xref": "paper",
          "y": 1,
          "yanchor": "bottom",
          "yref": "paper"
         }
        ],
        "height": 1200,
        "paper_bgcolor": "rgb(233,233,233)",
        "template": {
         "data": {
          "bar": [
           {
            "error_x": {
             "color": "#2a3f5f"
            },
            "error_y": {
             "color": "#2a3f5f"
            },
            "marker": {
             "line": {
              "color": "#E5ECF6",
              "width": 0.5
             }
            },
            "type": "bar"
           }
          ],
          "barpolar": [
           {
            "marker": {
             "line": {
              "color": "#E5ECF6",
              "width": 0.5
             }
            },
            "type": "barpolar"
           }
          ],
          "carpet": [
           {
            "aaxis": {
             "endlinecolor": "#2a3f5f",
             "gridcolor": "white",
             "linecolor": "white",
             "minorgridcolor": "white",
             "startlinecolor": "#2a3f5f"
            },
            "baxis": {
             "endlinecolor": "#2a3f5f",
             "gridcolor": "white",
             "linecolor": "white",
             "minorgridcolor": "white",
             "startlinecolor": "#2a3f5f"
            },
            "type": "carpet"
           }
          ],
          "choropleth": [
           {
            "colorbar": {
             "outlinewidth": 0,
             "ticks": ""
            },
            "type": "choropleth"
           }
          ],
          "contour": [
           {
            "colorbar": {
             "outlinewidth": 0,
             "ticks": ""
            },
            "colorscale": [
             [
              0,
              "#0d0887"
             ],
             [
              0.1111111111111111,
              "#46039f"
             ],
             [
              0.2222222222222222,
              "#7201a8"
             ],
             [
              0.3333333333333333,
              "#9c179e"
             ],
             [
              0.4444444444444444,
              "#bd3786"
             ],
             [
              0.5555555555555556,
              "#d8576b"
             ],
             [
              0.6666666666666666,
              "#ed7953"
             ],
             [
              0.7777777777777778,
              "#fb9f3a"
             ],
             [
              0.8888888888888888,
              "#fdca26"
             ],
             [
              1,
              "#f0f921"
             ]
            ],
            "type": "contour"
           }
          ],
          "contourcarpet": [
           {
            "colorbar": {
             "outlinewidth": 0,
             "ticks": ""
            },
            "type": "contourcarpet"
           }
          ],
          "heatmap": [
           {
            "colorbar": {
             "outlinewidth": 0,
             "ticks": ""
            },
            "colorscale": [
             [
              0,
              "#0d0887"
             ],
             [
              0.1111111111111111,
              "#46039f"
             ],
             [
              0.2222222222222222,
              "#7201a8"
             ],
             [
              0.3333333333333333,
              "#9c179e"
             ],
             [
              0.4444444444444444,
              "#bd3786"
             ],
             [
              0.5555555555555556,
              "#d8576b"
             ],
             [
              0.6666666666666666,
              "#ed7953"
             ],
             [
              0.7777777777777778,
              "#fb9f3a"
             ],
             [
              0.8888888888888888,
              "#fdca26"
             ],
             [
              1,
              "#f0f921"
             ]
            ],
            "type": "heatmap"
           }
          ],
          "heatmapgl": [
           {
            "colorbar": {
             "outlinewidth": 0,
             "ticks": ""
            },
            "colorscale": [
             [
              0,
              "#0d0887"
             ],
             [
              0.1111111111111111,
              "#46039f"
             ],
             [
              0.2222222222222222,
              "#7201a8"
             ],
             [
              0.3333333333333333,
              "#9c179e"
             ],
             [
              0.4444444444444444,
              "#bd3786"
             ],
             [
              0.5555555555555556,
              "#d8576b"
             ],
             [
              0.6666666666666666,
              "#ed7953"
             ],
             [
              0.7777777777777778,
              "#fb9f3a"
             ],
             [
              0.8888888888888888,
              "#fdca26"
             ],
             [
              1,
              "#f0f921"
             ]
            ],
            "type": "heatmapgl"
           }
          ],
          "histogram": [
           {
            "marker": {
             "colorbar": {
              "outlinewidth": 0,
              "ticks": ""
             }
            },
            "type": "histogram"
           }
          ],
          "histogram2d": [
           {
            "colorbar": {
             "outlinewidth": 0,
             "ticks": ""
            },
            "colorscale": [
             [
              0,
              "#0d0887"
             ],
             [
              0.1111111111111111,
              "#46039f"
             ],
             [
              0.2222222222222222,
              "#7201a8"
             ],
             [
              0.3333333333333333,
              "#9c179e"
             ],
             [
              0.4444444444444444,
              "#bd3786"
             ],
             [
              0.5555555555555556,
              "#d8576b"
             ],
             [
              0.6666666666666666,
              "#ed7953"
             ],
             [
              0.7777777777777778,
              "#fb9f3a"
             ],
             [
              0.8888888888888888,
              "#fdca26"
             ],
             [
              1,
              "#f0f921"
             ]
            ],
            "type": "histogram2d"
           }
          ],
          "histogram2dcontour": [
           {
            "colorbar": {
             "outlinewidth": 0,
             "ticks": ""
            },
            "colorscale": [
             [
              0,
              "#0d0887"
             ],
             [
              0.1111111111111111,
              "#46039f"
             ],
             [
              0.2222222222222222,
              "#7201a8"
             ],
             [
              0.3333333333333333,
              "#9c179e"
             ],
             [
              0.4444444444444444,
              "#bd3786"
             ],
             [
              0.5555555555555556,
              "#d8576b"
             ],
             [
              0.6666666666666666,
              "#ed7953"
             ],
             [
              0.7777777777777778,
              "#fb9f3a"
             ],
             [
              0.8888888888888888,
              "#fdca26"
             ],
             [
              1,
              "#f0f921"
             ]
            ],
            "type": "histogram2dcontour"
           }
          ],
          "mesh3d": [
           {
            "colorbar": {
             "outlinewidth": 0,
             "ticks": ""
            },
            "type": "mesh3d"
           }
          ],
          "parcoords": [
           {
            "line": {
             "colorbar": {
              "outlinewidth": 0,
              "ticks": ""
             }
            },
            "type": "parcoords"
           }
          ],
          "pie": [
           {
            "automargin": true,
            "type": "pie"
           }
          ],
          "scatter": [
           {
            "marker": {
             "colorbar": {
              "outlinewidth": 0,
              "ticks": ""
             }
            },
            "type": "scatter"
           }
          ],
          "scatter3d": [
           {
            "line": {
             "colorbar": {
              "outlinewidth": 0,
              "ticks": ""
             }
            },
            "marker": {
             "colorbar": {
              "outlinewidth": 0,
              "ticks": ""
             }
            },
            "type": "scatter3d"
           }
          ],
          "scattercarpet": [
           {
            "marker": {
             "colorbar": {
              "outlinewidth": 0,
              "ticks": ""
             }
            },
            "type": "scattercarpet"
           }
          ],
          "scattergeo": [
           {
            "marker": {
             "colorbar": {
              "outlinewidth": 0,
              "ticks": ""
             }
            },
            "type": "scattergeo"
           }
          ],
          "scattergl": [
           {
            "marker": {
             "colorbar": {
              "outlinewidth": 0,
              "ticks": ""
             }
            },
            "type": "scattergl"
           }
          ],
          "scattermapbox": [
           {
            "marker": {
             "colorbar": {
              "outlinewidth": 0,
              "ticks": ""
             }
            },
            "type": "scattermapbox"
           }
          ],
          "scatterpolar": [
           {
            "marker": {
             "colorbar": {
              "outlinewidth": 0,
              "ticks": ""
             }
            },
            "type": "scatterpolar"
           }
          ],
          "scatterpolargl": [
           {
            "marker": {
             "colorbar": {
              "outlinewidth": 0,
              "ticks": ""
             }
            },
            "type": "scatterpolargl"
           }
          ],
          "scatterternary": [
           {
            "marker": {
             "colorbar": {
              "outlinewidth": 0,
              "ticks": ""
             }
            },
            "type": "scatterternary"
           }
          ],
          "surface": [
           {
            "colorbar": {
             "outlinewidth": 0,
             "ticks": ""
            },
            "colorscale": [
             [
              0,
              "#0d0887"
             ],
             [
              0.1111111111111111,
              "#46039f"
             ],
             [
              0.2222222222222222,
              "#7201a8"
             ],
             [
              0.3333333333333333,
              "#9c179e"
             ],
             [
              0.4444444444444444,
              "#bd3786"
             ],
             [
              0.5555555555555556,
              "#d8576b"
             ],
             [
              0.6666666666666666,
              "#ed7953"
             ],
             [
              0.7777777777777778,
              "#fb9f3a"
             ],
             [
              0.8888888888888888,
              "#fdca26"
             ],
             [
              1,
              "#f0f921"
             ]
            ],
            "type": "surface"
           }
          ],
          "table": [
           {
            "cells": {
             "fill": {
              "color": "#EBF0F8"
             },
             "line": {
              "color": "white"
             }
            },
            "header": {
             "fill": {
              "color": "#C8D4E3"
             },
             "line": {
              "color": "white"
             }
            },
            "type": "table"
           }
          ]
         },
         "layout": {
          "annotationdefaults": {
           "arrowcolor": "#2a3f5f",
           "arrowhead": 0,
           "arrowwidth": 1
          },
          "coloraxis": {
           "colorbar": {
            "outlinewidth": 0,
            "ticks": ""
           }
          },
          "colorscale": {
           "diverging": [
            [
             0,
             "#8e0152"
            ],
            [
             0.1,
             "#c51b7d"
            ],
            [
             0.2,
             "#de77ae"
            ],
            [
             0.3,
             "#f1b6da"
            ],
            [
             0.4,
             "#fde0ef"
            ],
            [
             0.5,
             "#f7f7f7"
            ],
            [
             0.6,
             "#e6f5d0"
            ],
            [
             0.7,
             "#b8e186"
            ],
            [
             0.8,
             "#7fbc41"
            ],
            [
             0.9,
             "#4d9221"
            ],
            [
             1,
             "#276419"
            ]
           ],
           "sequential": [
            [
             0,
             "#0d0887"
            ],
            [
             0.1111111111111111,
             "#46039f"
            ],
            [
             0.2222222222222222,
             "#7201a8"
            ],
            [
             0.3333333333333333,
             "#9c179e"
            ],
            [
             0.4444444444444444,
             "#bd3786"
            ],
            [
             0.5555555555555556,
             "#d8576b"
            ],
            [
             0.6666666666666666,
             "#ed7953"
            ],
            [
             0.7777777777777778,
             "#fb9f3a"
            ],
            [
             0.8888888888888888,
             "#fdca26"
            ],
            [
             1,
             "#f0f921"
            ]
           ],
           "sequentialminus": [
            [
             0,
             "#0d0887"
            ],
            [
             0.1111111111111111,
             "#46039f"
            ],
            [
             0.2222222222222222,
             "#7201a8"
            ],
            [
             0.3333333333333333,
             "#9c179e"
            ],
            [
             0.4444444444444444,
             "#bd3786"
            ],
            [
             0.5555555555555556,
             "#d8576b"
            ],
            [
             0.6666666666666666,
             "#ed7953"
            ],
            [
             0.7777777777777778,
             "#fb9f3a"
            ],
            [
             0.8888888888888888,
             "#fdca26"
            ],
            [
             1,
             "#f0f921"
            ]
           ]
          },
          "colorway": [
           "#636efa",
           "#EF553B",
           "#00cc96",
           "#ab63fa",
           "#FFA15A",
           "#19d3f3",
           "#FF6692",
           "#B6E880",
           "#FF97FF",
           "#FECB52"
          ],
          "font": {
           "color": "#2a3f5f"
          },
          "geo": {
           "bgcolor": "white",
           "lakecolor": "white",
           "landcolor": "#E5ECF6",
           "showlakes": true,
           "showland": true,
           "subunitcolor": "white"
          },
          "hoverlabel": {
           "align": "left"
          },
          "hovermode": "closest",
          "mapbox": {
           "style": "light"
          },
          "paper_bgcolor": "white",
          "plot_bgcolor": "#E5ECF6",
          "polar": {
           "angularaxis": {
            "gridcolor": "white",
            "linecolor": "white",
            "ticks": ""
           },
           "bgcolor": "#E5ECF6",
           "radialaxis": {
            "gridcolor": "white",
            "linecolor": "white",
            "ticks": ""
           }
          },
          "scene": {
           "xaxis": {
            "backgroundcolor": "#E5ECF6",
            "gridcolor": "white",
            "gridwidth": 2,
            "linecolor": "white",
            "showbackground": true,
            "ticks": "",
            "zerolinecolor": "white"
           },
           "yaxis": {
            "backgroundcolor": "#E5ECF6",
            "gridcolor": "white",
            "gridwidth": 2,
            "linecolor": "white",
            "showbackground": true,
            "ticks": "",
            "zerolinecolor": "white"
           },
           "zaxis": {
            "backgroundcolor": "#E5ECF6",
            "gridcolor": "white",
            "gridwidth": 2,
            "linecolor": "white",
            "showbackground": true,
            "ticks": "",
            "zerolinecolor": "white"
           }
          },
          "shapedefaults": {
           "line": {
            "color": "#2a3f5f"
           }
          },
          "ternary": {
           "aaxis": {
            "gridcolor": "white",
            "linecolor": "white",
            "ticks": ""
           },
           "baxis": {
            "gridcolor": "white",
            "linecolor": "white",
            "ticks": ""
           },
           "bgcolor": "#E5ECF6",
           "caxis": {
            "gridcolor": "white",
            "linecolor": "white",
            "ticks": ""
           }
          },
          "title": {
           "x": 0.05
          },
          "xaxis": {
           "automargin": true,
           "gridcolor": "white",
           "linecolor": "white",
           "ticks": "",
           "title": {
            "standoff": 15
           },
           "zerolinecolor": "white",
           "zerolinewidth": 2
          },
          "yaxis": {
           "automargin": true,
           "gridcolor": "white",
           "linecolor": "white",
           "ticks": "",
           "title": {
            "standoff": 15
           },
           "zerolinecolor": "white",
           "zerolinewidth": 2
          }
         }
        },
        "title": {
         "text": "4-grams Count Plots"
        },
        "width": 1600,
        "xaxis": {
         "anchor": "y",
         "domain": [
          0,
          0.425
         ]
        },
        "xaxis2": {
         "anchor": "y2",
         "domain": [
          0.575,
          1
         ]
        },
        "yaxis": {
         "anchor": "x",
         "domain": [
          0,
          1
         ]
        },
        "yaxis2": {
         "anchor": "x2",
         "domain": [
          0,
          1
         ]
        }
       }
      },
      "text/html": [
       "<div>                            <div id=\"e32f92fa-6a46-4cbb-880f-31eb54ed5b16\" class=\"plotly-graph-div\" style=\"height:1200px; width:1600px;\"></div>            <script type=\"text/javascript\">                require([\"plotly\"], function(Plotly) {                    window.PLOTLYENV=window.PLOTLYENV || {};                                    if (document.getElementById(\"e32f92fa-6a46-4cbb-880f-31eb54ed5b16\")) {                    Plotly.newPlot(                        \"e32f92fa-6a46-4cbb-880f-31eb54ed5b16\",                        [{\"marker\": {\"color\": \"red\"}, \"orientation\": \"h\", \"showlegend\": false, \"type\": \"bar\", \"x\": [22, 22, 22, 22, 23, 23, 23, 24, 24, 24, 25, 25, 25, 25, 26, 26, 26, 26, 27, 27, 27, 27, 28, 28, 28, 29, 30, 32, 32, 32, 32, 35, 36, 38, 39, 41, 42, 42, 42, 45, 48, 49, 50, 58, 59, 59, 64, 65, 71, 73], \"xaxis\": \"x\", \"y\": [\"\\\"i 21 years old\", \"\\\"i recommend birth control\", \"take pill every day\", \"took plan b within\", \"\\\"i got first shot\", \"\\\"i&#039;ve taking birth control\", \"recommend birth control anyone.\", \"first birth control i&#039;ve\", \"birth control side effects\", \"side effects will go\", \"birth control i&#039;ve on.\", \"stopped taking birth control\", \"\\\"i will never take\", \"taking birth control pills\", \"\\\"i got skyla inserted\", \"first started taking it,\", \"will never use product\", \"first time birth control.\", \"\\\"i took birth control\", \"will never take medication\", \"i&#039;ve gained 20 pounds\", \"\\\"this birth control made\", \"\\\"when first started taking\", \"i&#039;ve gained 10 pounds\", \"\\\"i took one pill\", \"will never take medicine\", \"side effects worth it.\\\"\", \"\\\"i started taking medicine\", \"\\\"i took first dose\", \"\\\"i got birth control\", \"\\\"i got depo shot\", \"\\\"this worst birth control\", \"mood swings, weight gain,\", \"will never take drug\", \"side effects aren&#039;t worth\", \"first birth control pill\", \"worst birth control i&#039;ve\", \"\\\"i got nexplanon inserted\", \"\\\"i taking birth control\", \"\\\"i started taking medication\", \"side effects go away\", \"i&#039;m going stop taking\", \"started taking birth control\", \"ortho tri cyclen lo\", \"will never take again.\", \"will never take again.\\\"\", \"side effects worth it.\", \"\\\"this first birth control\", \"\\\"i started taking pill\", \"\\\"i started birth control\"], \"yaxis\": \"y\"}, {\"marker\": {\"color\": \"red\"}, \"orientation\": \"h\", \"showlegend\": false, \"type\": \"bar\", \"x\": [48, 49, 51, 51, 52, 53, 54, 54, 55, 55, 55, 56, 56, 58, 59, 60, 60, 61, 62, 64, 64, 65, 66, 66, 68, 69, 72, 72, 73, 73, 74, 75, 78, 79, 80, 80, 86, 90, 90, 92, 93, 93, 93, 94, 102, 104, 105, 109, 110, 118], \"xaxis\": \"x2\", \"y\": [\"months now love it!\", \"first started taking it,\", \"first time birth control\", \"remember take pill every\", \"birth control pill i&#039;ve\", \"don&#039;t worry taking pill\", \"say enough good things\", \"\\\"i started taking medicine\", \"haven&#039;t noticed side effects\", \"\\\"when first started taking\", \"\\\"i started taking pill\", \"can&#039;t say enough good\", \"years now love it.\", \"didn&#039;t experience side effects\", \"haven&#039;t noticed weight gain\", \"\\\"i got nexplanon inserted\", \"different birth control pills\", \"\\\"i got skyla inserted\", \"took plan b one\", \"side effects go away\", \"don&#039;t remember take pill\", \"experienced negative side effects\", \"\\\"i 20 years old\", \"haven&#039;t experienced side effects\", \"side effects i&#039;ve noticed\", \"best thing happened me.\", \"side effect dry mouth\", \"side effects dry mouth,\", \"mood swings, weight gain,\", \"\\\"i started taking adipex\", \"side effect i&#039;ve experienced\", \"side effects weight gain\", \"weight gain, mood swings,\", \"side effect i&#039;ve noticed\", \"took plan b within\", \"\\\"i love birth control.\", \"post traumatic stress disorder.\", \"plan b one step\", \"best birth control i&#039;ve\", \"first birth control pill\", \"\\\"i started taking phentermine\", \"first birth control i&#039;ve\", \"side effects i&#039;ve experienced\", \"side effects dry mouth\", \"side effects went away\", \"started taking birth control\", \"\\\"this first birth control\", \"\\\"i took plan b\", \"\\\"i started taking medication\", \"post traumatic stress disorder\"], \"yaxis\": \"y2\"}],                        {\"annotations\": [{\"font\": {\"size\": 16}, \"showarrow\": false, \"text\": \"Frequent 4-grams of rating 1 to 5\", \"x\": 0.2125, \"xanchor\": \"center\", \"xref\": \"paper\", \"y\": 1.0, \"yanchor\": \"bottom\", \"yref\": \"paper\"}, {\"font\": {\"size\": 16}, \"showarrow\": false, \"text\": \"Frequent 4-grams of rating 6 to 10\", \"x\": 0.7875, \"xanchor\": \"center\", \"xref\": \"paper\", \"y\": 1.0, \"yanchor\": \"bottom\", \"yref\": \"paper\"}], \"height\": 1200, \"paper_bgcolor\": \"rgb(233,233,233)\", \"template\": {\"data\": {\"bar\": [{\"error_x\": {\"color\": \"#2a3f5f\"}, \"error_y\": {\"color\": \"#2a3f5f\"}, \"marker\": {\"line\": {\"color\": \"#E5ECF6\", \"width\": 0.5}}, \"type\": \"bar\"}], \"barpolar\": [{\"marker\": {\"line\": {\"color\": \"#E5ECF6\", \"width\": 0.5}}, \"type\": \"barpolar\"}], \"carpet\": [{\"aaxis\": {\"endlinecolor\": \"#2a3f5f\", \"gridcolor\": \"white\", \"linecolor\": \"white\", \"minorgridcolor\": \"white\", \"startlinecolor\": \"#2a3f5f\"}, \"baxis\": {\"endlinecolor\": \"#2a3f5f\", \"gridcolor\": \"white\", \"linecolor\": \"white\", \"minorgridcolor\": \"white\", \"startlinecolor\": \"#2a3f5f\"}, \"type\": \"carpet\"}], \"choropleth\": [{\"colorbar\": {\"outlinewidth\": 0, \"ticks\": \"\"}, \"type\": \"choropleth\"}], \"contour\": [{\"colorbar\": {\"outlinewidth\": 0, \"ticks\": \"\"}, \"colorscale\": [[0.0, \"#0d0887\"], [0.1111111111111111, \"#46039f\"], [0.2222222222222222, \"#7201a8\"], [0.3333333333333333, \"#9c179e\"], [0.4444444444444444, \"#bd3786\"], [0.5555555555555556, \"#d8576b\"], [0.6666666666666666, \"#ed7953\"], [0.7777777777777778, \"#fb9f3a\"], [0.8888888888888888, \"#fdca26\"], [1.0, \"#f0f921\"]], \"type\": \"contour\"}], \"contourcarpet\": [{\"colorbar\": {\"outlinewidth\": 0, \"ticks\": \"\"}, \"type\": \"contourcarpet\"}], \"heatmap\": [{\"colorbar\": {\"outlinewidth\": 0, \"ticks\": \"\"}, \"colorscale\": [[0.0, \"#0d0887\"], [0.1111111111111111, \"#46039f\"], [0.2222222222222222, \"#7201a8\"], [0.3333333333333333, \"#9c179e\"], [0.4444444444444444, \"#bd3786\"], [0.5555555555555556, \"#d8576b\"], [0.6666666666666666, \"#ed7953\"], [0.7777777777777778, \"#fb9f3a\"], [0.8888888888888888, \"#fdca26\"], [1.0, \"#f0f921\"]], \"type\": \"heatmap\"}], \"heatmapgl\": [{\"colorbar\": {\"outlinewidth\": 0, \"ticks\": \"\"}, \"colorscale\": [[0.0, \"#0d0887\"], [0.1111111111111111, \"#46039f\"], [0.2222222222222222, \"#7201a8\"], [0.3333333333333333, \"#9c179e\"], [0.4444444444444444, \"#bd3786\"], [0.5555555555555556, \"#d8576b\"], [0.6666666666666666, \"#ed7953\"], [0.7777777777777778, \"#fb9f3a\"], [0.8888888888888888, \"#fdca26\"], [1.0, \"#f0f921\"]], \"type\": \"heatmapgl\"}], \"histogram\": [{\"marker\": {\"colorbar\": {\"outlinewidth\": 0, \"ticks\": \"\"}}, \"type\": \"histogram\"}], \"histogram2d\": [{\"colorbar\": {\"outlinewidth\": 0, \"ticks\": \"\"}, \"colorscale\": [[0.0, \"#0d0887\"], [0.1111111111111111, \"#46039f\"], [0.2222222222222222, \"#7201a8\"], [0.3333333333333333, \"#9c179e\"], [0.4444444444444444, \"#bd3786\"], [0.5555555555555556, \"#d8576b\"], [0.6666666666666666, \"#ed7953\"], [0.7777777777777778, \"#fb9f3a\"], [0.8888888888888888, \"#fdca26\"], [1.0, \"#f0f921\"]], \"type\": \"histogram2d\"}], \"histogram2dcontour\": [{\"colorbar\": {\"outlinewidth\": 0, \"ticks\": \"\"}, \"colorscale\": [[0.0, \"#0d0887\"], [0.1111111111111111, \"#46039f\"], [0.2222222222222222, \"#7201a8\"], [0.3333333333333333, \"#9c179e\"], [0.4444444444444444, \"#bd3786\"], [0.5555555555555556, \"#d8576b\"], [0.6666666666666666, \"#ed7953\"], [0.7777777777777778, \"#fb9f3a\"], [0.8888888888888888, \"#fdca26\"], [1.0, \"#f0f921\"]], \"type\": \"histogram2dcontour\"}], \"mesh3d\": [{\"colorbar\": {\"outlinewidth\": 0, \"ticks\": \"\"}, \"type\": \"mesh3d\"}], \"parcoords\": [{\"line\": {\"colorbar\": {\"outlinewidth\": 0, \"ticks\": \"\"}}, \"type\": \"parcoords\"}], \"pie\": [{\"automargin\": true, \"type\": \"pie\"}], \"scatter\": [{\"marker\": {\"colorbar\": {\"outlinewidth\": 0, \"ticks\": \"\"}}, \"type\": \"scatter\"}], \"scatter3d\": [{\"line\": {\"colorbar\": {\"outlinewidth\": 0, \"ticks\": \"\"}}, \"marker\": {\"colorbar\": {\"outlinewidth\": 0, \"ticks\": \"\"}}, \"type\": \"scatter3d\"}], \"scattercarpet\": [{\"marker\": {\"colorbar\": {\"outlinewidth\": 0, \"ticks\": \"\"}}, \"type\": \"scattercarpet\"}], \"scattergeo\": [{\"marker\": {\"colorbar\": {\"outlinewidth\": 0, \"ticks\": \"\"}}, \"type\": \"scattergeo\"}], \"scattergl\": [{\"marker\": {\"colorbar\": {\"outlinewidth\": 0, \"ticks\": \"\"}}, \"type\": \"scattergl\"}], \"scattermapbox\": [{\"marker\": {\"colorbar\": {\"outlinewidth\": 0, \"ticks\": \"\"}}, \"type\": \"scattermapbox\"}], \"scatterpolar\": [{\"marker\": {\"colorbar\": {\"outlinewidth\": 0, \"ticks\": \"\"}}, \"type\": \"scatterpolar\"}], \"scatterpolargl\": [{\"marker\": {\"colorbar\": {\"outlinewidth\": 0, \"ticks\": \"\"}}, \"type\": \"scatterpolargl\"}], \"scatterternary\": [{\"marker\": {\"colorbar\": {\"outlinewidth\": 0, \"ticks\": \"\"}}, \"type\": \"scatterternary\"}], \"surface\": [{\"colorbar\": {\"outlinewidth\": 0, \"ticks\": \"\"}, \"colorscale\": [[0.0, \"#0d0887\"], [0.1111111111111111, \"#46039f\"], [0.2222222222222222, \"#7201a8\"], [0.3333333333333333, \"#9c179e\"], [0.4444444444444444, \"#bd3786\"], [0.5555555555555556, \"#d8576b\"], [0.6666666666666666, \"#ed7953\"], [0.7777777777777778, \"#fb9f3a\"], [0.8888888888888888, \"#fdca26\"], [1.0, \"#f0f921\"]], \"type\": \"surface\"}], \"table\": [{\"cells\": {\"fill\": {\"color\": \"#EBF0F8\"}, \"line\": {\"color\": \"white\"}}, \"header\": {\"fill\": {\"color\": \"#C8D4E3\"}, \"line\": {\"color\": \"white\"}}, \"type\": \"table\"}]}, \"layout\": {\"annotationdefaults\": {\"arrowcolor\": \"#2a3f5f\", \"arrowhead\": 0, \"arrowwidth\": 1}, \"coloraxis\": {\"colorbar\": {\"outlinewidth\": 0, \"ticks\": \"\"}}, \"colorscale\": {\"diverging\": [[0, \"#8e0152\"], [0.1, \"#c51b7d\"], [0.2, \"#de77ae\"], [0.3, \"#f1b6da\"], [0.4, \"#fde0ef\"], [0.5, \"#f7f7f7\"], [0.6, \"#e6f5d0\"], [0.7, \"#b8e186\"], [0.8, \"#7fbc41\"], [0.9, \"#4d9221\"], [1, \"#276419\"]], \"sequential\": [[0.0, \"#0d0887\"], [0.1111111111111111, \"#46039f\"], [0.2222222222222222, \"#7201a8\"], [0.3333333333333333, \"#9c179e\"], [0.4444444444444444, \"#bd3786\"], [0.5555555555555556, \"#d8576b\"], [0.6666666666666666, \"#ed7953\"], [0.7777777777777778, \"#fb9f3a\"], [0.8888888888888888, \"#fdca26\"], [1.0, \"#f0f921\"]], \"sequentialminus\": [[0.0, \"#0d0887\"], [0.1111111111111111, \"#46039f\"], [0.2222222222222222, \"#7201a8\"], [0.3333333333333333, \"#9c179e\"], [0.4444444444444444, \"#bd3786\"], [0.5555555555555556, \"#d8576b\"], [0.6666666666666666, \"#ed7953\"], [0.7777777777777778, \"#fb9f3a\"], [0.8888888888888888, \"#fdca26\"], [1.0, \"#f0f921\"]]}, \"colorway\": [\"#636efa\", \"#EF553B\", \"#00cc96\", \"#ab63fa\", \"#FFA15A\", \"#19d3f3\", \"#FF6692\", \"#B6E880\", \"#FF97FF\", \"#FECB52\"], \"font\": {\"color\": \"#2a3f5f\"}, \"geo\": {\"bgcolor\": \"white\", \"lakecolor\": \"white\", \"landcolor\": \"#E5ECF6\", \"showlakes\": true, \"showland\": true, \"subunitcolor\": \"white\"}, \"hoverlabel\": {\"align\": \"left\"}, \"hovermode\": \"closest\", \"mapbox\": {\"style\": \"light\"}, \"paper_bgcolor\": \"white\", \"plot_bgcolor\": \"#E5ECF6\", \"polar\": {\"angularaxis\": {\"gridcolor\": \"white\", \"linecolor\": \"white\", \"ticks\": \"\"}, \"bgcolor\": \"#E5ECF6\", \"radialaxis\": {\"gridcolor\": \"white\", \"linecolor\": \"white\", \"ticks\": \"\"}}, \"scene\": {\"xaxis\": {\"backgroundcolor\": \"#E5ECF6\", \"gridcolor\": \"white\", \"gridwidth\": 2, \"linecolor\": \"white\", \"showbackground\": true, \"ticks\": \"\", \"zerolinecolor\": \"white\"}, \"yaxis\": {\"backgroundcolor\": \"#E5ECF6\", \"gridcolor\": \"white\", \"gridwidth\": 2, \"linecolor\": \"white\", \"showbackground\": true, \"ticks\": \"\", \"zerolinecolor\": \"white\"}, \"zaxis\": {\"backgroundcolor\": \"#E5ECF6\", \"gridcolor\": \"white\", \"gridwidth\": 2, \"linecolor\": \"white\", \"showbackground\": true, \"ticks\": \"\", \"zerolinecolor\": \"white\"}}, \"shapedefaults\": {\"line\": {\"color\": \"#2a3f5f\"}}, \"ternary\": {\"aaxis\": {\"gridcolor\": \"white\", \"linecolor\": \"white\", \"ticks\": \"\"}, \"baxis\": {\"gridcolor\": \"white\", \"linecolor\": \"white\", \"ticks\": \"\"}, \"bgcolor\": \"#E5ECF6\", \"caxis\": {\"gridcolor\": \"white\", \"linecolor\": \"white\", \"ticks\": \"\"}}, \"title\": {\"x\": 0.05}, \"xaxis\": {\"automargin\": true, \"gridcolor\": \"white\", \"linecolor\": \"white\", \"ticks\": \"\", \"title\": {\"standoff\": 15}, \"zerolinecolor\": \"white\", \"zerolinewidth\": 2}, \"yaxis\": {\"automargin\": true, \"gridcolor\": \"white\", \"linecolor\": \"white\", \"ticks\": \"\", \"title\": {\"standoff\": 15}, \"zerolinecolor\": \"white\", \"zerolinewidth\": 2}}}, \"title\": {\"text\": \"4-grams Count Plots\"}, \"width\": 1600, \"xaxis\": {\"anchor\": \"y\", \"domain\": [0.0, 0.425]}, \"xaxis2\": {\"anchor\": \"y2\", \"domain\": [0.575, 1.0]}, \"yaxis\": {\"anchor\": \"x\", \"domain\": [0.0, 1.0]}, \"yaxis2\": {\"anchor\": \"x2\", \"domain\": [0.0, 1.0]}},                        {\"responsive\": true}                    ).then(function(){\n",
       "                            \n",
       "var gd = document.getElementById('e32f92fa-6a46-4cbb-880f-31eb54ed5b16');\n",
       "var x = new MutationObserver(function (mutations, observer) {{\n",
       "        var display = window.getComputedStyle(gd).display;\n",
       "        if (!display || display === 'none') {{\n",
       "            console.log([gd, 'removed!']);\n",
       "            Plotly.purge(gd);\n",
       "            observer.disconnect();\n",
       "        }}\n",
       "}});\n",
       "\n",
       "// Listen for the removal of the full notebook cells\n",
       "var notebookContainer = gd.closest('#notebook-container');\n",
       "if (notebookContainer) {{\n",
       "    x.observe(notebookContainer, {childList: true});\n",
       "}}\n",
       "\n",
       "// Listen for the clearing of the current output cell\n",
       "var outputEl = gd.closest('.output');\n",
       "if (outputEl) {{\n",
       "    x.observe(outputEl, {childList: true});\n",
       "}}\n",
       "\n",
       "                        })                };                });            </script>        </div>"
      ]
     },
     "metadata": {},
     "output_type": "display_data"
    }
   ],
   "source": [
    "freq_dict = defaultdict(int)\n",
    "for sent in df_all_1_5[\"review\"]:\n",
    "    for word in generate_ngrams(sent,4):\n",
    "        freq_dict[word] += 1\n",
    "fd_sorted = pd.DataFrame(sorted(freq_dict.items(), key=lambda x: x[1])[::-1])\n",
    "fd_sorted.columns = [\"word\", \"wordcount\"]\n",
    "trace1 = horizontal_bar_chart(fd_sorted.head(50), 'red')\n",
    "\n",
    "freq_dict = defaultdict(int)\n",
    "for sent in df_all_6_10[\"review\"]:\n",
    "    for word in generate_ngrams(sent,4):\n",
    "        freq_dict[word] += 1\n",
    "fd_sorted = pd.DataFrame(sorted(freq_dict.items(), key=lambda x: x[1])[::-1])\n",
    "fd_sorted.columns = [\"word\", \"wordcount\"]\n",
    "trace2 = horizontal_bar_chart(fd_sorted.head(50), 'red')\n",
    "\n",
    "fig = tools.make_subplots(rows=1, cols=2, vertical_spacing=0.04,horizontal_spacing=0.15,\n",
    "                          subplot_titles=[\"Frequent 4-grams of rating 1 to 5\", \n",
    "                                          \"Frequent 4-grams of rating 6 to 10\"])\n",
    "fig.append_trace(trace1, 1, 1)\n",
    "fig.append_trace(trace2, 1, 2)\n",
    "fig['layout'].update(height=1200, width=1600, paper_bgcolor='rgb(233,233,233)', title=\"4-grams Count Plots\")\n",
    "py.iplot(fig, filename='word-plots')"
   ]
  },
  {
   "cell_type": "markdown",
   "metadata": {
    "_uuid": "d2ce70ff984cda025a8edbd820f756bf6feacd5e"
   },
   "source": [
    "Clearly, 4-gram classifies emotions much betther than other grams. Therefore, we used 4-gram to build deep learning model."
   ]
  },
  {
   "cell_type": "markdown",
   "metadata": {
    "_uuid": "8617d65924307b6e97c5828b680a0f6bedf4a360"
   },
   "source": [
    "Next, we searched for relationship between rating and weather. First of all, we counted the number of ratings."
   ]
  },
  {
   "cell_type": "code",
   "execution_count": 19,
   "metadata": {
    "_uuid": "6d119068cf249e999a8f216e0167af8e628fd70a"
   },
   "outputs": [
    {
     "data": {
      "text/plain": [
       "Text(0.5,1,'Count of rating values')"
      ]
     },
     "execution_count": 19,
     "metadata": {},
     "output_type": "execute_result"
    },
    {
     "data": {
      "image/png": "[encoded data removed]",
      "text/plain": [
       "<Figure size 1008x432 with 1 Axes>"
      ]
     },
     "metadata": {
      "needs_background": "light"
     },
     "output_type": "display_data"
    }
   ],
   "source": [
    "rating = df_all['rating'].value_counts().sort_values(ascending=False)\n",
    "rating.plot(kind=\"bar\", figsize = (14,6), fontsize = 10)\n",
    "plt.xlabel(\"Ratings\", fontsize = 16)\n",
    "plt.ylabel(\"Count\", fontsize = 16)\n",
    "plt.title(\"Count of rating values\", fontsize = 16)"
   ]
  },
  {
   "cell_type": "markdown",
   "metadata": {
    "_uuid": "d23525d7fd8b400a4786f86216d663facc7c46ca"
   },
   "source": [
    "Most people choose four values; 10, 9, 1, 8, and the number of 10 is more than twice as many as the others. With this, we observed that the percentage of positives is higher than negative, and people's reactions are extreme."
   ]
  },
  {
   "cell_type": "markdown",
   "metadata": {
    "_uuid": "3f7386932ed0289c2623059e0636084af3ede94c"
   },
   "source": [
    "Next, we checked the number of reviews and percentage of ratings according to weather."
   ]
  },
  {
   "cell_type": "code",
   "execution_count": 20,
   "metadata": {
    "_uuid": "14b215ad07c7d5733a4d950043d17f905732c222"
   },
   "outputs": [
    {
     "data": {
      "image/png": "[encoded data removed]",
      "text/plain": [
       "<Figure size 1008x432 with 1 Axes>"
      ]
     },
     "metadata": {
      "needs_background": "light"
     },
     "output_type": "display_data"
    }
   ],
   "source": [
    "cnt_srs = df_all['date'].dt.year.value_counts()\n",
    "cnt_srs = cnt_srs.sort_index()\n",
    "\n",
    "plt.figure(figsize=(14,6))\n",
    "sns.barplot(cnt_srs.index, cnt_srs.values, alpha=0.8)\n",
    "plt.xticks(rotation='vertical')\n",
    "plt.xlabel('Year', fontsize=12)\n",
    "plt.ylabel('Count', fontsize=12)\n",
    "plt.title(\"Number of reviews in year\")\n",
    "plt.show()"
   ]
  },
  {
   "cell_type": "code",
   "execution_count": 21,
   "metadata": {
    "_uuid": "16dcf7a747d2eb06895c49ee6fd476e179aed2ba"
   },
   "outputs": [
    {
     "data": {
      "text/plain": [
       "Text(0.5,1,'Mean rating in year')"
      ]
     },
     "execution_count": 21,
     "metadata": {},
     "output_type": "execute_result"
    },
    {
     "data": {
      "image/png": "[encoded data removed]",
      "text/plain": [
       "<Figure size 1008x432 with 1 Axes>"
      ]
     },
     "metadata": {
      "needs_background": "light"
     },
     "output_type": "display_data"
    }
   ],
   "source": [
    "df_all['year'] = df_all['date'].dt.year\n",
    "rating = df_all.groupby('year')['rating'].mean()\n",
    "rating.plot(kind=\"bar\", figsize = (14,6), fontsize = 10)\n",
    "plt.xlabel(\"Year\", fontsize = 14)\n",
    "plt.title(\"Mean rating in year\", fontsize = 16)"
   ]
  },
  {
   "cell_type": "code",
   "execution_count": 22,
   "metadata": {
    "_uuid": "7dfdffd170217e7d753ea6d28a6630b7f494041c"
   },
   "outputs": [
    {
     "data": {
      "image/png": "[encoded data removed]",
      "text/plain": [
       "<Figure size 1008x432 with 1 Axes>"
      ]
     },
     "metadata": {
      "needs_background": "light"
     },
     "output_type": "display_data"
    }
   ],
   "source": [
    "cnt_srs = df_all['date'].dt.month.value_counts()\n",
    "cnt_srs = cnt_srs.sort_index()\n",
    "\n",
    "plt.figure(figsize=(14,6))\n",
    "sns.barplot(cnt_srs.index, cnt_srs.values, alpha=0.8)\n",
    "plt.xticks(rotation='vertical')\n",
    "plt.xlabel('month', fontsize=12)\n",
    "plt.title(\"Number of reviews in month\")\n",
    "plt.show()"
   ]
  },
  {
   "cell_type": "code",
   "execution_count": 23,
   "metadata": {
    "_uuid": "0a6c95402fb6d936ea4799d93f2c9eeab47585db"
   },
   "outputs": [
    {
     "data": {
      "text/plain": [
       "Text(0.5,1,'Mean rating in month')"
      ]
     },
     "execution_count": 23,
     "metadata": {},
     "output_type": "execute_result"
    },
    {
     "data": {
      "image/png": "[encoded data removed]",
      "text/plain": [
       "<Figure size 1008x432 with 1 Axes>"
      ]
     },
     "metadata": {
      "needs_background": "light"
     },
     "output_type": "display_data"
    }
   ],
   "source": [
    "df_all['month'] = df_all['date'].dt.month\n",
    "rating = df_all.groupby('month')['rating'].mean()\n",
    "rating.plot(kind=\"bar\", figsize = (14,6), fontsize = 10)\n",
    "plt.xlabel(\"Month\", fontsize = 12)\n",
    "plt.title(\"Mean rating in month\", fontsize = 14)"
   ]
  },
  {
   "cell_type": "markdown",
   "metadata": {
    "_uuid": "25da863d027db802c5e3cf11b6b77c6ecf606ebe"
   },
   "source": [
    "Interestingly, we see that the average rating differs by year, but it is similar by month."
   ]
  },
  {
   "cell_type": "code",
   "execution_count": 24,
   "metadata": {
    "_uuid": "808970cc32f9a7e573ab81b54b2afe12f86729c4"
   },
   "outputs": [
    {
     "data": {
      "text/plain": [
       "Text(0.5,1,'Mean rating in day')"
      ]
     },
     "execution_count": 24,
     "metadata": {},
     "output_type": "execute_result"
    },
    {
     "data": {
      "image/png": "[encoded data removed]",
      "text/plain": [
       "<Figure size 1008x432 with 1 Axes>"
      ]
     },
     "metadata": {
      "needs_background": "light"
     },
     "output_type": "display_data"
    }
   ],
   "source": [
    "df_all['day'] = df_all['date'].dt.day\n",
    "rating = df_all.groupby('day')['rating'].mean()\n",
    "rating.plot(kind=\"bar\", figsize = (14,6), fontsize = 10)\n",
    "plt.xlabel(\"Days of month\", fontsize = 14)\n",
    "plt.title(\"Mean rating in day\", fontsize = 12)"
   ]
  },
  {
   "cell_type": "markdown",
   "metadata": {
    "_uuid": "0049b5a13be3ddb3b0147ebc83ba42d1952eb109"
   },
   "source": [
    "We checked whether the day of the week affects the rating like salary day, but it does not make a big difference."
   ]
  },
  {
   "cell_type": "code",
   "execution_count": 25,
   "metadata": {
    "_uuid": "46c8c44e5e61e6a4139db9cbc9b0c10533923f7e"
   },
   "outputs": [
    {
     "data": {
      "image/png": "[encoded data removed]",
      "text/plain": [
       "<Figure size 1008x432 with 1 Axes>"
      ]
     },
     "metadata": {
      "needs_background": "light"
     },
     "output_type": "display_data"
    }
   ],
   "source": [
    "plt.figure(figsize=(14,6))\n",
    "sns.distplot(df_all[\"usefulCount\"].dropna())\n",
    "plt.xticks(rotation='vertical')\n",
    "plt.title(\"Distribution of usefulCount\")\n",
    "plt.show()"
   ]
  },
  {
   "cell_type": "code",
   "execution_count": 26,
   "metadata": {
    "_uuid": "0b8c382bf6e31efc48656e098dfefc76cf88deff"
   },
   "outputs": [
    {
     "data": {
      "text/plain": [
       "count    215061.000000\n",
       "mean         28.001037\n",
       "std          36.346236\n",
       "min           0.000000\n",
       "25%           6.000000\n",
       "50%          16.000000\n",
       "75%          36.000000\n",
       "max        1291.000000\n",
       "Name: usefulCount, dtype: float64"
      ]
     },
     "execution_count": 26,
     "metadata": {},
     "output_type": "execute_result"
    }
   ],
   "source": [
    "df_all[\"usefulCount\"].describe()"
   ]
  },
  {
   "cell_type": "markdown",
   "metadata": {
    "_uuid": "4bb7102e270fcfa98d9659a577de26ef9611e016"
   },
   "source": [
    "We observed in the distribution of usefulCount, that the difference between minimum and maximum is 1291, which is high. In addition, the deviation is huge, which is 36. The reason for this is that the more drugs people look for, the more people read the review no matter their contents are good or bad, which makes the usefulcount very high. So when we created the model, we normalized it by conditions, considering people's accessibility."
   ]
  },
  {
   "cell_type": "markdown",
   "metadata": {
    "_uuid": "541ea018457f9107abf3f2c11051b39b2b17198d"
   },
   "source": [
    "### 1.3 Missing value"
   ]
  },
  {
   "cell_type": "code",
   "execution_count": 27,
   "metadata": {
    "_uuid": "fe78d3aec92fbac8f64723535bb47c09a40231c3"
   },
   "outputs": [
    {
     "data": {
      "text/plain": [
       "Text(0.5,1,'Total Missing Value ')"
      ]
     },
     "execution_count": 27,
     "metadata": {},
     "output_type": "execute_result"
    },
    {
     "data": {
      "image/png": "[encoded data removed]",
      "text/plain": [
       "<Figure size 1008x432 with 1 Axes>"
      ]
     },
     "metadata": {
      "needs_background": "light"
     },
     "output_type": "display_data"
    }
   ],
   "source": [
    "percent = (df_all.isnull().sum()).sort_values(ascending=False)\n",
    "percent.plot(kind=\"bar\", figsize = (14,6))\n",
    "plt.xlabel(\"Columns\", fontsize = 12)\n",
    "plt.title(\"Total Missing Value \", fontsize = 14)"
   ]
  },
  {
   "cell_type": "code",
   "execution_count": 28,
   "metadata": {
    "_uuid": "bcbd81bf2a4013c6ce9cb81067ab15684171203c"
   },
   "outputs": [
    {
     "name": "stdout",
     "output_type": "stream",
     "text": [
      "Missing value (%): 0.5579812239318147\n"
     ]
    }
   ],
   "source": [
    "print(\"Missing value (%):\", 1200/df_all.shape[0] *100)"
   ]
  },
  {
   "cell_type": "markdown",
   "metadata": {
    "_uuid": "97c340b894003a1ad2fc0b6e589ae351cbd3e253"
   },
   "source": [
    "We deleted the records because the percentage is lower than 1%."
   ]
  },
  {
   "cell_type": "markdown",
   "metadata": {
    "_uuid": "0c9a363d9fc7b266ee9c8a390d3c841b71126037"
   },
   "source": [
    "## 2. Date Preprocessing"
   ]
  },
  {
   "cell_type": "markdown",
   "metadata": {
    "_uuid": "32e167512298155137e85532b01158049819c100"
   },
   "source": [
    "### 2.1. Missing Values Removal"
   ]
  },
  {
   "cell_type": "code",
   "execution_count": 29,
   "metadata": {
    "_uuid": "af5d3f3c7fccd92a93413514030b6a33b0a89052"
   },
   "outputs": [],
   "source": [
    "df_train = df_train.dropna(axis=0)\n",
    "df_test = df_test.dropna(axis=0)"
   ]
  },
  {
   "cell_type": "code",
   "execution_count": 30,
   "metadata": {
    "_uuid": "1012e7c255ad73cf21048fd6534cb20bbcf6f1ce"
   },
   "outputs": [
    {
     "data": {
      "text/plain": [
       "Text(0.5,1,'Total Missing Value ')"
      ]
     },
     "execution_count": 30,
     "metadata": {},
     "output_type": "execute_result"
    },
    {
     "data": {
      "image/png": "[encoded data removed]",
      "text/plain": [
       "<Figure size 1008x432 with 1 Axes>"
      ]
     },
     "metadata": {
      "needs_background": "light"
     },
     "output_type": "display_data"
    }
   ],
   "source": [
    "df_all = pd.concat([df_train,df_test]).reset_index()\n",
    "del df_all['index']\n",
    "percent = (df_all.isnull().sum()).sort_values(ascending=False)\n",
    "percent.plot(kind=\"bar\", figsize = (14,6))\n",
    "plt.xlabel(\"Columns\")\n",
    "plt.title(\"Total Missing Value \", fontsize = 14)"
   ]
  },
  {
   "cell_type": "markdown",
   "metadata": {
    "_uuid": "aaceaccc91bf0a846df8a6377558d89824a01c9c"
   },
   "source": [
    "### 2.2 Condition Preprocessing"
   ]
  },
  {
   "cell_type": "markdown",
   "metadata": {
    "_uuid": "127f1391018fc3049ea14df7e5ea43c96812a9c3"
   },
   "source": [
    "We will delete the sentences with the form above."
   ]
  },
  {
   "cell_type": "code",
   "execution_count": 31,
   "metadata": {
    "_uuid": "f4269e93fb9a64b79f9e74db338d4df28e2ba0f8"
   },
   "outputs": [],
   "source": [
    "all_list = set(df_all.index)\n",
    "span_list = []\n",
    "for i,j in enumerate(df_all['condition']):\n",
    "    if '</span>' in j:\n",
    "        span_list.append(i)"
   ]
  },
  {
   "cell_type": "code",
   "execution_count": 32,
   "metadata": {
    "_uuid": "8545b5cdc904897a886bfad95fadf0196515f420"
   },
   "outputs": [],
   "source": [
    "new_idx = all_list.difference(set(span_list))\n",
    "df_all = df_all.iloc[list(new_idx)].reset_index()\n",
    "del df_all['index']"
   ]
  },
  {
   "cell_type": "markdown",
   "metadata": {
    "_uuid": "b1a5f5508ba8367b0e1fe86bbd9356965d104a98"
   },
   "source": [
    "We deleted conditions with only one drug."
   ]
  },
  {
   "cell_type": "code",
   "execution_count": 33,
   "metadata": {
    "_uuid": "13324f1aaed4de4d20c53cd52a6ee2dca301d42a"
   },
   "outputs": [
    {
     "data": {
      "text/html": [
       "<div>\n",
       "<style scoped>\n",
       "    .dataframe tbody tr th:only-of-type {\n",
       "        vertical-align: middle;\n",
       "    }\n",
       "\n",
       "    .dataframe tbody tr th {\n",
       "        vertical-align: top;\n",
       "    }\n",
       "\n",
       "    .dataframe thead th {\n",
       "        text-align: right;\n",
       "    }\n",
       "</style>\n",
       "<table border=\"1\" class=\"dataframe\">\n",
       "  <thead>\n",
       "    <tr style=\"text-align: right;\">\n",
       "      <th></th>\n",
       "      <th>condition</th>\n",
       "      <th>drugName</th>\n",
       "    </tr>\n",
       "  </thead>\n",
       "  <tbody>\n",
       "    <tr>\n",
       "      <th>816</th>\n",
       "      <td>Hemangioma</td>\n",
       "      <td>1</td>\n",
       "    </tr>\n",
       "    <tr>\n",
       "      <th>817</th>\n",
       "      <td>Q Feve</td>\n",
       "      <td>1</td>\n",
       "    </tr>\n",
       "    <tr>\n",
       "      <th>818</th>\n",
       "      <td>Urinary Retention</td>\n",
       "      <td>1</td>\n",
       "    </tr>\n",
       "    <tr>\n",
       "      <th>819</th>\n",
       "      <td>Diagnostic Bronchograms</td>\n",
       "      <td>1</td>\n",
       "    </tr>\n",
       "    <tr>\n",
       "      <th>820</th>\n",
       "      <td>Steroid Responsive Inflammatory Conditions</td>\n",
       "      <td>1</td>\n",
       "    </tr>\n",
       "    <tr>\n",
       "      <th>821</th>\n",
       "      <td>Cluster-Tic Syndrome</td>\n",
       "      <td>1</td>\n",
       "    </tr>\n",
       "    <tr>\n",
       "      <th>822</th>\n",
       "      <td>Nausea (phosphorated carbohydrate solution)</td>\n",
       "      <td>1</td>\n",
       "    </tr>\n",
       "    <tr>\n",
       "      <th>823</th>\n",
       "      <td>Ramsay Hunt Syndrome</td>\n",
       "      <td>1</td>\n",
       "    </tr>\n",
       "    <tr>\n",
       "      <th>824</th>\n",
       "      <td>Rat-bite Feve</td>\n",
       "      <td>1</td>\n",
       "    </tr>\n",
       "    <tr>\n",
       "      <th>825</th>\n",
       "      <td>Hemorrhoids (pramoxine / zinc oxide)</td>\n",
       "      <td>1</td>\n",
       "    </tr>\n",
       "    <tr>\n",
       "      <th>826</th>\n",
       "      <td>Myotonia Congenita</td>\n",
       "      <td>1</td>\n",
       "    </tr>\n",
       "    <tr>\n",
       "      <th>827</th>\n",
       "      <td>Sepsis</td>\n",
       "      <td>1</td>\n",
       "    </tr>\n",
       "    <tr>\n",
       "      <th>828</th>\n",
       "      <td>ailure to Thrive</td>\n",
       "      <td>1</td>\n",
       "    </tr>\n",
       "    <tr>\n",
       "      <th>829</th>\n",
       "      <td>Hepatitis B Prevention</td>\n",
       "      <td>1</td>\n",
       "    </tr>\n",
       "    <tr>\n",
       "      <th>830</th>\n",
       "      <td>Transverse Myelitis</td>\n",
       "      <td>1</td>\n",
       "    </tr>\n",
       "    <tr>\n",
       "      <th>831</th>\n",
       "      <td>Tympanostomy Tube Placement Surgery</td>\n",
       "      <td>1</td>\n",
       "    </tr>\n",
       "    <tr>\n",
       "      <th>832</th>\n",
       "      <td>Muscle Twitching</td>\n",
       "      <td>1</td>\n",
       "    </tr>\n",
       "    <tr>\n",
       "      <th>833</th>\n",
       "      <td>Somatoform Pain Disorde</td>\n",
       "      <td>1</td>\n",
       "    </tr>\n",
       "    <tr>\n",
       "      <th>834</th>\n",
       "      <td>acial Lipoatrophy</td>\n",
       "      <td>1</td>\n",
       "    </tr>\n",
       "    <tr>\n",
       "      <th>835</th>\n",
       "      <td>Rabies Prophylaxis</td>\n",
       "      <td>1</td>\n",
       "    </tr>\n",
       "  </tbody>\n",
       "</table>\n",
       "</div>"
      ],
      "text/plain": [
       "                                       condition  drugName\n",
       "816                                   Hemangioma         1\n",
       "817                                       Q Feve         1\n",
       "818                            Urinary Retention         1\n",
       "819                      Diagnostic Bronchograms         1\n",
       "820   Steroid Responsive Inflammatory Conditions         1\n",
       "821                         Cluster-Tic Syndrome         1\n",
       "822  Nausea (phosphorated carbohydrate solution)         1\n",
       "823                         Ramsay Hunt Syndrome         1\n",
       "824                                Rat-bite Feve         1\n",
       "825         Hemorrhoids (pramoxine / zinc oxide)         1\n",
       "826                           Myotonia Congenita         1\n",
       "827                                       Sepsis         1\n",
       "828                             ailure to Thrive         1\n",
       "829                       Hepatitis B Prevention         1\n",
       "830                          Transverse Myelitis         1\n",
       "831          Tympanostomy Tube Placement Surgery         1\n",
       "832                             Muscle Twitching         1\n",
       "833                      Somatoform Pain Disorde         1\n",
       "834                            acial Lipoatrophy         1\n",
       "835                           Rabies Prophylaxis         1"
      ]
     },
     "execution_count": 33,
     "metadata": {},
     "output_type": "execute_result"
    }
   ],
   "source": [
    "df_condition = df_all.groupby(['condition'])['drugName'].nunique().sort_values(ascending=False)\n",
    "df_condition = pd.DataFrame(df_condition).reset_index()\n",
    "df_condition.tail(20)"
   ]
  },
  {
   "cell_type": "code",
   "execution_count": 34,
   "metadata": {
    "_uuid": "3a1341f12498cbbd65e8e7cd1ab9789e94f5468e"
   },
   "outputs": [
    {
     "data": {
      "text/plain": [
       "0                           Uveitis, Posteri\n",
       "1                    Pseudogout, Prophylaxis\n",
       "2                        Infectious Diarrhea\n",
       "3                   Thyroid Suppression Test\n",
       "4                                 Angioedema\n",
       "5                                Scleroderma\n",
       "6                                        mis\n",
       "7            Anti NMDA Receptor Encephalitis\n",
       "8                                     mist (\n",
       "9    Pruritus of Partial Biliary Obstruction\n",
       "Name: condition, dtype: object"
      ]
     },
     "execution_count": 34,
     "metadata": {},
     "output_type": "execute_result"
    }
   ],
   "source": [
    "df_condition_1 = df_condition[df_condition['drugName']==1].reset_index()\n",
    "df_condition_1['condition'][0:10]"
   ]
  },
  {
   "cell_type": "code",
   "execution_count": 35,
   "metadata": {
    "_uuid": "edf19fcd7a99264a5436034d648b20d0bff2fa7b"
   },
   "outputs": [],
   "source": [
    "all_list = set(df_all.index)\n",
    "condition_list = []\n",
    "for i,j in enumerate(df_all['condition']):\n",
    "    for c in list(df_condition_1['condition']):\n",
    "        if j == c:\n",
    "            condition_list.append(i)\n",
    "            \n",
    "new_idx = all_list.difference(set(condition_list))\n",
    "df_all = df_all.iloc[list(new_idx)].reset_index()\n",
    "del df_all['index']"
   ]
  },
  {
   "cell_type": "markdown",
   "metadata": {
    "_uuid": "cb80a22040f4f9ca03311ce9e1ea782eb8ee89ad"
   },
   "source": [
    "### 2.3 Review Preprocessing"
   ]
  },
  {
   "cell_type": "markdown",
   "metadata": {
    "_uuid": "da532e45210e8a15eb1361aad88fc749eebea620"
   },
   "source": [
    "- \\r\\n : We converted the text into html grammer\n",
    "- ... , &#039; : deal with not alphabet"
   ]
  },
  {
   "cell_type": "code",
   "execution_count": 37,
   "metadata": {
    "_kg_hide-output": true,
    "_uuid": "6f546ffb47ae31a30903d4075e8c514a45c7a951"
   },
   "outputs": [],
   "source": [
    "stops = set(stopwords.words('english'))"
   ]
  },
  {
   "cell_type": "code",
   "execution_count": 38,
   "metadata": {
    "_kg_hide-input": true,
    "_uuid": "dde27caf5b374b0f3f0c2acd9d038daba43c4c31"
   },
   "outputs": [
    {
     "data": {
      "image/png": "[encoded data removed]",
      "text/plain": [
       "<Figure size 1728x1152 with 1 Axes>"
      ]
     },
     "metadata": {
      "needs_background": "light"
     },
     "output_type": "display_data"
    }
   ],
   "source": [
    "def plot_wordcloud(text, mask=None, max_words=200, max_font_size=100, image_color=False):\n",
    "    stopwords = set(STOPWORDS)\n",
    "    more_stopwords = {'one', 'br', 'Po', 'th', 'sayi', 'fo', 'Unknown'}\n",
    "    stopwords = stopwords.union(more_stopwords)\n",
    "\n",
    "    wordcloud = WordCloud(background_color='white',\n",
    "                    stopwords = stopwords,\n",
    "                    max_words = max_words,\n",
    "                    max_font_size = max_font_size, \n",
    "                    random_state = 42,\n",
    "                    width=800, \n",
    "                    height=400,\n",
    "                    mask = mask)\n",
    "    wordcloud.generate(str(text))\n",
    "    \n",
    "    plt.figure(figsize=(24,16))\n",
    "    \n",
    "    plt.imshow(wordcloud);\n",
    "    plt.title(\"Word Cloud of stops\", fontdict={'size': 32, 'color': 'black', 'verticalalignment': 'bottom'})\n",
    "    plt.axis('off');\n",
    "    plt.tight_layout()  \n",
    "    \n",
    "plot_wordcloud(stops)"
   ]
  },
  {
   "cell_type": "markdown",
   "metadata": {
    "_uuid": "85cf983ca3865accc2b5630f8ef4430c4fd70e92"
   },
   "source": [
    "We saw what words are used as stopwords. There are many words that include not, like needn't. These words are key parts of emotional analysis, so we removed them from stopwords."
   ]
  },
  {
   "cell_type": "code",
   "execution_count": 39,
   "metadata": {
    "_uuid": "275f9e83f9935d0891fa11a6440b6caf4604e5d3"
   },
   "outputs": [],
   "source": [
    "not_stop = [\"aren't\",\"couldn't\",\"didn't\",\"doesn't\",\"don't\",\"hadn't\",\"hasn't\",\"haven't\",\"isn't\",\"mightn't\",\"mustn't\",\"needn't\",\"no\",\"nor\",\"not\",\"shan't\",\"shouldn't\",\"wasn't\",\"weren't\",\"wouldn't\"]\n",
    "for i in not_stop:\n",
    "    stops.remove(i)"
   ]
  },
  {
   "cell_type": "code",
   "execution_count": 42,
   "metadata": {
    "_uuid": "8368a97c8e435adb9f07d144f494fc60a083a5a1"
   },
   "outputs": [],
   "source": [
    "stemmer = SnowballStemmer('english')\n",
    "\n",
    "def review_to_words(raw_review):\n",
    "    review_text = BeautifulSoup(raw_review, 'html.parser').get_text()\n",
    "    letters_only = re.sub('[^a-zA-Z]', ' ', review_text)\n",
    "    words = letters_only.lower().split()\n",
    "    meaningful_words = [w for w in words if not w in stops]\n",
    "    stemming_words = [stemmer.stem(w) for w in meaningful_words]\n",
    "    return( ' '.join(stemming_words))"
   ]
  },
  {
   "cell_type": "code",
   "execution_count": 43,
   "metadata": {
    "_uuid": "be46dc37dd26328efedf9ca166b5635e0f13fb53"
   },
   "outputs": [
    {
     "name": "stdout",
     "output_type": "stream",
     "text": [
      "Wall time: 4min 35s\n"
     ]
    }
   ],
   "source": [
    "%time df_all['review_clean'] = df_all['review'].apply(review_to_words)"
   ]
  },
  {
   "cell_type": "markdown",
   "metadata": {
    "_uuid": "1bdd3b519e1df8d4959c77274910f24fb0d35440"
   },
   "source": [
    "## 3. Model"
   ]
  },
  {
   "cell_type": "markdown",
   "metadata": {
    "_uuid": "6f6301c9d03a198e3ce7b22b172970152ee21b6a"
   },
   "source": [
    "### 3.1. Deep Learning Model Using N-gram"
   ]
  },
  {
   "cell_type": "code",
   "execution_count": 44,
   "metadata": {
    "_uuid": "6adae84cb2d9d4e0588cb10033c17447bf976d58"
   },
   "outputs": [],
   "source": [
    "df_all['sentiment'] = df_all[\"rating\"].apply(lambda x: 1 if x > 5 else 0)"
   ]
  },
  {
   "cell_type": "code",
   "execution_count": 45,
   "metadata": {
    "_uuid": "ba7f1a884407f9247915b3b6757219501cf13a15"
   },
   "outputs": [],
   "source": [
    "df_train, df_test = train_test_split(df_all, test_size=0.33, random_state=42) "
   ]
  },
  {
   "cell_type": "code",
   "execution_count": 46,
   "metadata": {
    "_uuid": "d6a9555e8c90e09fab2edaf2107c6b6bfcb588fd"
   },
   "outputs": [
    {
     "data": {
      "text/plain": [
       "CountVectorizer(max_features=20000, min_df=2, ngram_range=(4, 4))"
      ]
     },
     "execution_count": 46,
     "metadata": {},
     "output_type": "execute_result"
    }
   ],
   "source": [
    "vectorizer = CountVectorizer(analyzer = 'word', \n",
    "                             tokenizer = None,\n",
    "                             preprocessor = None, \n",
    "                             stop_words = None, \n",
    "                             min_df = 2,\n",
    "                             ngram_range=(4, 4),\n",
    "                             max_features = 20000\n",
    "                            )\n",
    "vectorizer"
   ]
  },
  {
   "cell_type": "code",
   "execution_count": 47,
   "metadata": {
    "_uuid": "1b983fc4de6f9e7e3be07445c418ef1060d6f02f"
   },
   "outputs": [],
   "source": [
    "pipeline = Pipeline([\n",
    "    ('vect', vectorizer),\n",
    "])"
   ]
  },
  {
   "cell_type": "code",
   "execution_count": 48,
   "metadata": {
    "_uuid": "3b1e9c628a7dec80e1e863f7acffdae64e3ae7ab"
   },
   "outputs": [
    {
     "name": "stdout",
     "output_type": "stream",
     "text": [
      "Wall time: 38.2 s\n",
      "Wall time: 22.8 s\n"
     ]
    }
   ],
   "source": [
    "%time train_data_features = pipeline.fit_transform(df_train['review_clean'])\n",
    "%time test_data_features = pipeline.fit_transform(df_test['review_clean'])"
   ]
  },
  {
   "cell_type": "code",
   "execution_count": 49,
   "metadata": {
    "_uuid": "ce3dfe83a105f9628b61ee107c3fed27f252fb40"
   },
   "outputs": [],
   "source": [
    "y_train = df_train['sentiment']\n",
    "y_test = df_test['sentiment']\n",
    "solution = y_test.copy()\n",
    "\n",
    "# 2. Model Structure\n",
    "model = keras.models.Sequential()\n",
    "\n",
    "model.add(keras.layers.Dense(200, input_shape=(20000,)))\n",
    "model.add(keras.layers.BatchNormalization())\n",
    "model.add(keras.layers.Activation('relu'))\n",
    "model.add(keras.layers.Dropout(0.5))\n",
    "\n",
    "model.add(keras.layers.Dense(300))\n",
    "model.add(keras.layers.BatchNormalization())\n",
    "model.add(keras.layers.Activation('relu'))\n",
    "model.add(keras.layers.Dropout(0.5))\n",
    "\n",
    "model.add(keras.layers.Dense(100, activation='relu'))\n",
    "model.add(keras.layers.Dense(1, activation='sigmoid'))\n",
    "\n",
    "# 3. Model compile\n",
    "model.compile(optimizer='adam', loss='binary_crossentropy', metrics=['accuracy'])"
   ]
  },
  {
   "cell_type": "code",
   "execution_count": 50,
   "metadata": {
    "_uuid": "ea8db26bcd3cba382ff381684b3f229d381bca5f"
   },
   "outputs": [
    {
     "name": "stdout",
     "output_type": "stream",
     "text": [
      "_________________________________________________________________\n",
      "Layer (type)                 Output Shape              Param #   \n",
      "=================================================================\n",
      "dense_1 (Dense)              (None, 200)               4000200   \n",
      "_________________________________________________________________\n",
      "batch_normalization_1 (Batch (None, 200)               800       \n",
      "_________________________________________________________________\n",
      "activation_1 (Activation)    (None, 200)               0         \n",
      "_________________________________________________________________\n",
      "dropout_1 (Dropout)          (None, 200)               0         \n",
      "_________________________________________________________________\n",
      "dense_2 (Dense)              (None, 300)               60300     \n",
      "_________________________________________________________________\n",
      "batch_normalization_2 (Batch (None, 300)               1200      \n",
      "_________________________________________________________________\n",
      "activation_2 (Activation)    (None, 300)               0         \n",
      "_________________________________________________________________\n",
      "dropout_2 (Dropout)          (None, 300)               0         \n",
      "_________________________________________________________________\n",
      "dense_3 (Dense)              (None, 100)               30100     \n",
      "_________________________________________________________________\n",
      "dense_4 (Dense)              (None, 1)                 101       \n",
      "=================================================================\n",
      "Total params: 4,092,701\n",
      "Trainable params: 4,091,701\n",
      "Non-trainable params: 1,000\n",
      "_________________________________________________________________\n"
     ]
    }
   ],
   "source": [
    "model.summary()"
   ]
  },
  {
   "cell_type": "code",
   "execution_count": 51,
   "metadata": {
    "_uuid": "48b6724a5d7b994c15bd4505bccdb6b3e602ba21"
   },
   "outputs": [
    {
     "name": "stdout",
     "output_type": "stream",
     "text": [
      "Epoch 1/10\n",
      "142075/142075 [==============================] - 169s 1ms/step - loss: 0.5794 - acc: 0.7153\n",
      "Epoch 2/10\n",
      "142075/142075 [==============================] - 168s 1ms/step - loss: 0.4976 - acc: 0.7595\n",
      "Epoch 3/10\n",
      "142075/142075 [==============================] - 167s 1ms/step - loss: 0.4606 - acc: 0.7758\n",
      "Epoch 4/10\n",
      "142075/142075 [==============================] - 167s 1ms/step - loss: 0.4410 - acc: 0.7847\n",
      "Epoch 5/10\n",
      "142075/142075 [==============================] - 167s 1ms/step - loss: 0.4269 - acc: 0.7908\n",
      "Epoch 6/10\n",
      "142075/142075 [==============================] - 167s 1ms/step - loss: 0.4179 - acc: 0.7947\n",
      "Epoch 7/10\n",
      "142075/142075 [==============================] - 167s 1ms/step - loss: 0.4114 - acc: 0.7972\n",
      "Epoch 8/10\n",
      "142075/142075 [==============================] - 167s 1ms/step - loss: 0.4058 - acc: 0.7991\n",
      "Epoch 9/10\n",
      "142075/142075 [==============================] - 169s 1ms/step - loss: 0.4009 - acc: 0.8017\n",
      "Epoch 10/10\n",
      "142075/142075 [==============================] - 169s 1ms/step - loss: 0.3970 - acc: 0.8037\n"
     ]
    },
    {
     "data": {
      "image/png": "[encoded data removed]",
      "text/plain": [
       "<Figure size 432x288 with 2 Axes>"
      ]
     },
     "metadata": {
      "needs_background": "light"
     },
     "output_type": "display_data"
    },
    {
     "name": "stdout",
     "output_type": "stream",
     "text": [
      "69978/69978 [==============================] - 24s 347us/step\n",
      "loss_and_metrics : [1.0609793764520936, 0.6445311383543625]\n"
     ]
    }
   ],
   "source": [
    "hist = model.fit(train_data_features, y_train, epochs=10, batch_size=64)\n",
    "\n",
    "fig, loss_ax = plt.subplots()\n",
    "\n",
    "acc_ax = loss_ax.twinx()\n",
    "\n",
    "loss_ax.set_ylim([0.0, 1.0])\n",
    "acc_ax.set_ylim([0.0, 1.0])\n",
    "\n",
    "loss_ax.plot(hist.history['loss'], 'y', label='train loss')\n",
    "acc_ax.plot(hist.history['acc'], 'b', label='train acc')\n",
    "\n",
    "loss_ax.set_xlabel('epoch')\n",
    "loss_ax.set_ylabel('loss')\n",
    "acc_ax.set_ylabel('accuray')\n",
    "\n",
    "loss_ax.legend(loc='upper left')\n",
    "acc_ax.legend(loc='lower left')\n",
    "\n",
    "plt.show()\n",
    "\n",
    "loss_and_metrics = model.evaluate(test_data_features, y_test, batch_size=32)\n",
    "print('loss_and_metrics : ' + str(loss_and_metrics))"
   ]
  },
  {
   "cell_type": "code",
   "execution_count": 52,
   "metadata": {
    "_uuid": "d678d5dd391fc455de2cad0b4b8f6fe76374583c"
   },
   "outputs": [],
   "source": [
    "sub_preds_deep = model.predict(test_data_features,batch_size=32)"
   ]
  },
  {
   "cell_type": "markdown",
   "metadata": {
    "_uuid": "603ee53139269ed2a9b009a65a9b026b9ce11bf4"
   },
   "source": [
    "### 3.2 Lightgbm"
   ]
  },
  {
   "cell_type": "markdown",
   "metadata": {
    "_uuid": "fee63f2564ce6ad240d6b2e3d1aaf028e98c15a8"
   },
   "source": [
    "To improve the low accuracy, we will use machine learning. First of all, this is the sentiment analysis model using only usefulCount."
   ]
  },
  {
   "cell_type": "code",
   "execution_count": 53,
   "metadata": {
    "_kg_hide-input": true,
    "_uuid": "2c4d7f24d1f25d99979687c2101f60bf202d2f04"
   },
   "outputs": [
    {
     "name": "stdout",
     "output_type": "stream",
     "text": [
      "Training until validation scores don't improve for 100 rounds.\n",
      "[100]\ttraining's binary_logloss: 0.570406\tvalid_1's binary_logloss: 0.572234\n",
      "[200]\ttraining's binary_logloss: 0.570206\tvalid_1's binary_logloss: 0.572221\n",
      "Early stopping, best iteration is:\n",
      "[168]\ttraining's binary_logloss: 0.570241\tvalid_1's binary_logloss: 0.572209\n"
     ]
    }
   ],
   "source": [
    "target = df_train['sentiment']\n",
    "feats = ['usefulCount']\n",
    "\n",
    "sub_preds = np.zeros(df_test.shape[0])\n",
    "\n",
    "trn_x, val_x, trn_y, val_y = train_test_split(df_train[feats], target, test_size=0.2, random_state=42) \n",
    "feature_importance_df = pd.DataFrame() \n",
    "    \n",
    "clf = LGBMClassifier(\n",
    "        n_estimators=2000,\n",
    "        learning_rate=0.05,\n",
    "        num_leaves=30,\n",
    "        #colsample_bytree=.9,\n",
    "        subsample=.9,\n",
    "        max_depth=7,\n",
    "        reg_alpha=.1,\n",
    "        reg_lambda=.1,\n",
    "        min_split_gain=.01,\n",
    "        min_child_weight=2,\n",
    "        silent=-1,\n",
    "        verbose=-1,\n",
    "        )\n",
    "        \n",
    "clf.fit(trn_x, trn_y, \n",
    "        eval_set= [(trn_x, trn_y), (val_x, val_y)], \n",
    "        verbose=100, early_stopping_rounds=100  #30\n",
    "    )\n",
    "\n",
    "sub_preds = clf.predict(df_test[feats])\n",
    "        \n",
    "fold_importance_df = pd.DataFrame()\n",
    "fold_importance_df[\"feature\"] = feats\n",
    "fold_importance_df[\"importance\"] = clf.feature_importances_\n",
    "feature_importance_df = pd.concat([feature_importance_df, fold_importance_df], axis=0)"
   ]
  },
  {
   "cell_type": "code",
   "execution_count": 54,
   "metadata": {
    "_uuid": "1684caab656ca830228cc230871ac3e3d961352a"
   },
   "outputs": [
    {
     "data": {
      "text/plain": [
       "array([[    0, 21009],\n",
       "       [    0, 48969]])"
      ]
     },
     "execution_count": 54,
     "metadata": {},
     "output_type": "execute_result"
    }
   ],
   "source": [
    "solution = df_test['sentiment']\n",
    "confusion_matrix(y_pred=sub_preds, y_true=solution)"
   ]
  },
  {
   "cell_type": "markdown",
   "metadata": {
    "_uuid": "29474d09e5ec8832fbacc39d5738472c8470d768"
   },
   "source": [
    "We will add variables for higher accuracy."
   ]
  },
  {
   "cell_type": "code",
   "execution_count": 55,
   "metadata": {
    "_uuid": "8e6032557347dab3092ecfa45baec6f214b49017"
   },
   "outputs": [
    {
     "data": {
      "text/plain": [
       "3437"
      ]
     },
     "execution_count": 55,
     "metadata": {},
     "output_type": "execute_result"
    }
   ],
   "source": [
    "len_train = df_train.shape[0]\n",
    "df_all = pd.concat([df_train,df_test])\n",
    "del df_train, df_test;\n",
    "gc.collect()"
   ]
  },
  {
   "cell_type": "code",
   "execution_count": 56,
   "metadata": {
    "_uuid": "0ae19226fc6ec7c02e0510a51ec7dd05724da876"
   },
   "outputs": [],
   "source": [
    "df_all['date'] = pd.to_datetime(df_all['date'])\n",
    "df_all['day'] = df_all['date'].dt.day\n",
    "df_all['year'] = df_all['date'].dt.year\n",
    "df_all['month'] = df_all['date'].dt.month"
   ]
  },
  {
   "cell_type": "code",
   "execution_count": 57,
   "metadata": {
    "_uuid": "bd4f0e2c792a6d084979c548596df92848d06856"
   },
   "outputs": [
    {
     "name": "stderr",
     "output_type": "stream",
     "text": [
      "100%|██████████| 212053/212053 [03:04<00:00, 1146.58it/s]\n"
     ]
    },
    {
     "data": {
      "text/html": [
       "<div>\n",
       "<style scoped>\n",
       "    .dataframe tbody tr th:only-of-type {\n",
       "        vertical-align: middle;\n",
       "    }\n",
       "\n",
       "    .dataframe tbody tr th {\n",
       "        vertical-align: top;\n",
       "    }\n",
       "\n",
       "    .dataframe thead th {\n",
       "        text-align: right;\n",
       "    }\n",
       "</style>\n",
       "<table border=\"1\" class=\"dataframe\">\n",
       "  <thead>\n",
       "    <tr style=\"text-align: right;\">\n",
       "      <th></th>\n",
       "      <th>uniqueID</th>\n",
       "      <th>drugName</th>\n",
       "      <th>condition</th>\n",
       "      <th>review</th>\n",
       "      <th>rating</th>\n",
       "      <th>date</th>\n",
       "      <th>usefulCount</th>\n",
       "      <th>review_clean</th>\n",
       "      <th>sentiment</th>\n",
       "      <th>day</th>\n",
       "      <th>year</th>\n",
       "      <th>month</th>\n",
       "      <th>Predict_Sentiment</th>\n",
       "    </tr>\n",
       "  </thead>\n",
       "  <tbody>\n",
       "    <tr>\n",
       "      <th>130185</th>\n",
       "      <td>66913</td>\n",
       "      <td>Seroquel</td>\n",
       "      <td>Generalized Anxiety Disorde</td>\n",
       "      <td>\"After trying nearly every SSRI on the market ...</td>\n",
       "      <td>9</td>\n",
       "      <td>2010-11-26</td>\n",
       "      <td>102</td>\n",
       "      <td>tri near everi ssri market place pristiq impro...</td>\n",
       "      <td>1</td>\n",
       "      <td>26</td>\n",
       "      <td>2010</td>\n",
       "      <td>11</td>\n",
       "      <td>0.023958</td>\n",
       "    </tr>\n",
       "    <tr>\n",
       "      <th>155501</th>\n",
       "      <td>222222</td>\n",
       "      <td>Fluconazole</td>\n",
       "      <td>Onychomycosis, Toenail</td>\n",
       "      <td>\"This takes 6+ months, but did clear up a deca...</td>\n",
       "      <td>9</td>\n",
       "      <td>2008-05-03</td>\n",
       "      <td>39</td>\n",
       "      <td>take month clear decad long infect</td>\n",
       "      <td>1</td>\n",
       "      <td>3</td>\n",
       "      <td>2008</td>\n",
       "      <td>5</td>\n",
       "      <td>0.025000</td>\n",
       "    </tr>\n",
       "    <tr>\n",
       "      <th>75325</th>\n",
       "      <td>75807</td>\n",
       "      <td>Temazepam</td>\n",
       "      <td>Insomnia</td>\n",
       "      <td>\"Worked for awhile pretty well but then went b...</td>\n",
       "      <td>2</td>\n",
       "      <td>2016-04-21</td>\n",
       "      <td>15</td>\n",
       "      <td>work awhil pretti well went back mayb get hour...</td>\n",
       "      <td>0</td>\n",
       "      <td>21</td>\n",
       "      <td>2016</td>\n",
       "      <td>4</td>\n",
       "      <td>-0.125000</td>\n",
       "    </tr>\n",
       "    <tr>\n",
       "      <th>19174</th>\n",
       "      <td>229747</td>\n",
       "      <td>Ketamine</td>\n",
       "      <td>Pain</td>\n",
       "      <td>\"I was given this after surgery for pain as I ...</td>\n",
       "      <td>1</td>\n",
       "      <td>2016-04-16</td>\n",
       "      <td>19</td>\n",
       "      <td>given surgeri pain morphin tri drug sort omg w...</td>\n",
       "      <td>0</td>\n",
       "      <td>16</td>\n",
       "      <td>2016</td>\n",
       "      <td>4</td>\n",
       "      <td>0.166667</td>\n",
       "    </tr>\n",
       "    <tr>\n",
       "      <th>209735</th>\n",
       "      <td>102495</td>\n",
       "      <td>Aripiprazole</td>\n",
       "      <td>Major Depressive Disorde</td>\n",
       "      <td>\"Abilify served me well over a two month perio...</td>\n",
       "      <td>9</td>\n",
       "      <td>2016-12-16</td>\n",
       "      <td>5</td>\n",
       "      <td>abilifi serv well two month period antidepress...</td>\n",
       "      <td>1</td>\n",
       "      <td>16</td>\n",
       "      <td>2016</td>\n",
       "      <td>12</td>\n",
       "      <td>0.038889</td>\n",
       "    </tr>\n",
       "  </tbody>\n",
       "</table>\n",
       "</div>"
      ],
      "text/plain": [
       "        uniqueID      drugName                    condition  \\\n",
       "130185     66913      Seroquel  Generalized Anxiety Disorde   \n",
       "155501    222222   Fluconazole       Onychomycosis, Toenail   \n",
       "75325      75807     Temazepam                     Insomnia   \n",
       "19174     229747      Ketamine                         Pain   \n",
       "209735    102495  Aripiprazole     Major Depressive Disorde   \n",
       "\n",
       "                                                   review  rating       date  \\\n",
       "130185  \"After trying nearly every SSRI on the market ...       9 2010-11-26   \n",
       "155501  \"This takes 6+ months, but did clear up a deca...       9 2008-05-03   \n",
       "75325   \"Worked for awhile pretty well but then went b...       2 2016-04-21   \n",
       "19174   \"I was given this after surgery for pain as I ...       1 2016-04-16   \n",
       "209735  \"Abilify served me well over a two month perio...       9 2016-12-16   \n",
       "\n",
       "        usefulCount                                       review_clean  \\\n",
       "130185          102  tri near everi ssri market place pristiq impro...   \n",
       "155501           39                 take month clear decad long infect   \n",
       "75325            15  work awhil pretti well went back mayb get hour...   \n",
       "19174            19  given surgeri pain morphin tri drug sort omg w...   \n",
       "209735            5  abilifi serv well two month period antidepress...   \n",
       "\n",
       "        sentiment  day  year  month  Predict_Sentiment  \n",
       "130185          1   26  2010     11           0.023958  \n",
       "155501          1    3  2008      5           0.025000  \n",
       "75325           0   21  2016      4          -0.125000  \n",
       "19174           0   16  2016      4           0.166667  \n",
       "209735          1   16  2016     12           0.038889  "
      ]
     },
     "execution_count": 57,
     "metadata": {},
     "output_type": "execute_result"
    }
   ],
   "source": [
    "reviews = df_all['review_clean']\n",
    "\n",
    "Predict_Sentiment = []\n",
    "for review in tqdm(reviews):\n",
    "    blob = TextBlob(review)\n",
    "    Predict_Sentiment += [blob.sentiment.polarity]\n",
    "df_all[\"Predict_Sentiment\"] = Predict_Sentiment\n",
    "df_all.head()"
   ]
  },
  {
   "cell_type": "code",
   "execution_count": 58,
   "metadata": {
    "_uuid": "1091f4a36ae81c2973ecdb6fac964c646d93ba0f"
   },
   "outputs": [
    {
     "data": {
      "text/plain": [
       "array([[1.        , 0.25709864],\n",
       "       [0.25709864, 1.        ]])"
      ]
     },
     "execution_count": 58,
     "metadata": {},
     "output_type": "execute_result"
    }
   ],
   "source": [
    "np.corrcoef(df_all[\"Predict_Sentiment\"], df_all[\"rating\"])"
   ]
  },
  {
   "cell_type": "code",
   "execution_count": 59,
   "metadata": {
    "_uuid": "6deb741f0941fa04ac1a87e9343f9079b5c1a83c"
   },
   "outputs": [
    {
     "data": {
      "text/plain": [
       "array([[1.        , 0.23518272],\n",
       "       [0.23518272, 1.        ]])"
      ]
     },
     "execution_count": 59,
     "metadata": {},
     "output_type": "execute_result"
    }
   ],
   "source": [
    "np.corrcoef(df_all[\"Predict_Sentiment\"], df_all[\"sentiment\"])"
   ]
  },
  {
   "cell_type": "code",
   "execution_count": 60,
   "metadata": {
    "_uuid": "38f83afcdd82bb469b8d6b6b90e9b60b6921219e"
   },
   "outputs": [
    {
     "name": "stderr",
     "output_type": "stream",
     "text": [
      "100%|██████████| 212053/212053 [04:57<00:00, 713.75it/s]\n"
     ]
    }
   ],
   "source": [
    "reviews = df_all['review']\n",
    "\n",
    "Predict_Sentiment = []\n",
    "for review in tqdm(reviews):\n",
    "    blob = TextBlob(review)\n",
    "    Predict_Sentiment += [blob.sentiment.polarity]\n",
    "df_all[\"Predict_Sentiment2\"] = Predict_Sentiment"
   ]
  },
  {
   "cell_type": "code",
   "execution_count": 61,
   "metadata": {
    "_uuid": "8952070fd762f0d27667940b8a9c764a75eff67e"
   },
   "outputs": [
    {
     "data": {
      "text/plain": [
       "array([[1.        , 0.34831213],\n",
       "       [0.34831213, 1.        ]])"
      ]
     },
     "execution_count": 61,
     "metadata": {},
     "output_type": "execute_result"
    }
   ],
   "source": [
    "np.corrcoef(df_all[\"Predict_Sentiment2\"], df_all[\"rating\"])"
   ]
  },
  {
   "cell_type": "code",
   "execution_count": 62,
   "metadata": {
    "_uuid": "69fa8972589337694b89e823a10e8134cd0b8ed2"
   },
   "outputs": [
    {
     "data": {
      "text/plain": [
       "array([[1.        , 0.31714515],\n",
       "       [0.31714515, 1.        ]])"
      ]
     },
     "execution_count": 62,
     "metadata": {},
     "output_type": "execute_result"
    }
   ],
   "source": [
    "np.corrcoef(df_all[\"Predict_Sentiment2\"], df_all[\"sentiment\"])"
   ]
  },
  {
   "cell_type": "code",
   "execution_count": 63,
   "metadata": {
    "_uuid": "6488abff05ebf6698e01cfae7550d977fb8a6b02"
   },
   "outputs": [],
   "source": [
    "df_all['count_sent']=df_all[\"review\"].apply(lambda x: len(re.findall(\"\\n\",str(x)))+1)\n",
    "\n",
    "#Word count in each comment\n",
    "df_all['count_word']=df_all[\"review_clean\"].apply(lambda x: len(str(x).split()))\n",
    "\n",
    "#Unique word count\n",
    "df_all['count_unique_word']=df_all[\"review_clean\"].apply(lambda x: len(set(str(x).split())))\n",
    "\n",
    "#Letter count\n",
    "df_all['count_letters']=df_all[\"review_clean\"].apply(lambda x: len(str(x)))\n",
    "\n",
    "#punctuation count\n",
    "df_all[\"count_punctuations\"] = df_all[\"review\"].apply(lambda x: len([c for c in str(x) if c in string.punctuation]))\n",
    "\n",
    "#upper case words count\n",
    "df_all[\"count_words_upper\"] = df_all[\"review\"].apply(lambda x: len([w for w in str(x).split() if w.isupper()]))\n",
    "\n",
    "#title case words count\n",
    "df_all[\"count_words_title\"] = df_all[\"review\"].apply(lambda x: len([w for w in str(x).split() if w.istitle()]))\n",
    "\n",
    "#Number of stopwords\n",
    "df_all[\"count_stopwords\"] = df_all[\"review\"].apply(lambda x: len([w for w in str(x).lower().split() if w in stops]))\n",
    "\n",
    "#Average length of the words\n",
    "df_all[\"mean_word_len\"] = df_all[\"review_clean\"].apply(lambda x: np.mean([len(w) for w in str(x).split()]))"
   ]
  },
  {
   "cell_type": "markdown",
   "metadata": {
    "_uuid": "cfeeba96c727574a58ade17ffdab2f1d7d7ebf62"
   },
   "source": [
    "We added a season variable."
   ]
  },
  {
   "cell_type": "code",
   "execution_count": 64,
   "metadata": {
    "_uuid": "6a4129d1c7c60b57014db60a990bbeef5e73e223"
   },
   "outputs": [],
   "source": [
    "df_all['season'] = df_all[\"month\"].apply(lambda x: 1 if ((x>2) & (x<6)) else(2 if (x>5) & (x<9) else (3 if (x>8) & (x<12) else 4)))"
   ]
  },
  {
   "cell_type": "markdown",
   "metadata": {
    "_uuid": "025efc594ab90e1c2e4c0f32a3eca56aa063976c"
   },
   "source": [
    "We normalized useful count."
   ]
  },
  {
   "cell_type": "code",
   "execution_count": 65,
   "metadata": {
    "_kg_hide-input": true,
    "_uuid": "d001d32f4216747d3ad768c3d136ab4974c21f0f"
   },
   "outputs": [],
   "source": [
    "df_train = df_all[:len_train]\n",
    "df_test = df_all[len_train:]"
   ]
  },
  {
   "cell_type": "code",
   "execution_count": 66,
   "metadata": {
    "_kg_hide-input": true,
    "_uuid": "99577a2f98a7e997ff0d1c317da32219cbadf506"
   },
   "outputs": [
    {
     "name": "stdout",
     "output_type": "stream",
     "text": [
      "Training until validation scores don't improve for 100 rounds.\n",
      "[100]\ttraining's binary_logloss: 0.481279\tvalid_1's binary_logloss: 0.494978\n",
      "[200]\ttraining's binary_logloss: 0.464017\tvalid_1's binary_logloss: 0.489836\n",
      "[300]\ttraining's binary_logloss: 0.448687\tvalid_1's binary_logloss: 0.485795\n",
      "[400]\ttraining's binary_logloss: 0.434477\tvalid_1's binary_logloss: 0.481708\n",
      "[500]\ttraining's binary_logloss: 0.422172\tvalid_1's binary_logloss: 0.478113\n",
      "[600]\ttraining's binary_logloss: 0.410153\tvalid_1's binary_logloss: 0.4747\n",
      "[700]\ttraining's binary_logloss: 0.399379\tvalid_1's binary_logloss: 0.471887\n",
      "[800]\ttraining's binary_logloss: 0.388203\tvalid_1's binary_logloss: 0.468779\n",
      "[900]\ttraining's binary_logloss: 0.377657\tvalid_1's binary_logloss: 0.465732\n",
      "[1000]\ttraining's binary_logloss: 0.367101\tvalid_1's binary_logloss: 0.462981\n",
      "[1100]\ttraining's binary_logloss: 0.357608\tvalid_1's binary_logloss: 0.460332\n",
      "[1200]\ttraining's binary_logloss: 0.348188\tvalid_1's binary_logloss: 0.457833\n",
      "[1300]\ttraining's binary_logloss: 0.339333\tvalid_1's binary_logloss: 0.455505\n",
      "[1400]\ttraining's binary_logloss: 0.3308\tvalid_1's binary_logloss: 0.452876\n",
      "[1500]\ttraining's binary_logloss: 0.322571\tvalid_1's binary_logloss: 0.450271\n",
      "[1600]\ttraining's binary_logloss: 0.314523\tvalid_1's binary_logloss: 0.447521\n",
      "[1700]\ttraining's binary_logloss: 0.30683\tvalid_1's binary_logloss: 0.445272\n",
      "[1800]\ttraining's binary_logloss: 0.299902\tvalid_1's binary_logloss: 0.442985\n",
      "[1900]\ttraining's binary_logloss: 0.292878\tvalid_1's binary_logloss: 0.440813\n",
      "[2000]\ttraining's binary_logloss: 0.286391\tvalid_1's binary_logloss: 0.439022\n",
      "[2100]\ttraining's binary_logloss: 0.279798\tvalid_1's binary_logloss: 0.437461\n",
      "[2200]\ttraining's binary_logloss: 0.273216\tvalid_1's binary_logloss: 0.43553\n",
      "[2300]\ttraining's binary_logloss: 0.267114\tvalid_1's binary_logloss: 0.433628\n",
      "[2400]\ttraining's binary_logloss: 0.260879\tvalid_1's binary_logloss: 0.432172\n",
      "[2500]\ttraining's binary_logloss: 0.255223\tvalid_1's binary_logloss: 0.430448\n",
      "[2600]\ttraining's binary_logloss: 0.249595\tvalid_1's binary_logloss: 0.428833\n",
      "[2700]\ttraining's binary_logloss: 0.244094\tvalid_1's binary_logloss: 0.427271\n",
      "[2800]\ttraining's binary_logloss: 0.238678\tvalid_1's binary_logloss: 0.425821\n",
      "[2900]\ttraining's binary_logloss: 0.233193\tvalid_1's binary_logloss: 0.424003\n",
      "[3000]\ttraining's binary_logloss: 0.22774\tvalid_1's binary_logloss: 0.422476\n",
      "[3100]\ttraining's binary_logloss: 0.222546\tvalid_1's binary_logloss: 0.421128\n",
      "[3200]\ttraining's binary_logloss: 0.217182\tvalid_1's binary_logloss: 0.419837\n",
      "[3300]\ttraining's binary_logloss: 0.212582\tvalid_1's binary_logloss: 0.418584\n",
      "[3400]\ttraining's binary_logloss: 0.207872\tvalid_1's binary_logloss: 0.417177\n",
      "[3500]\ttraining's binary_logloss: 0.20318\tvalid_1's binary_logloss: 0.415465\n",
      "[3600]\ttraining's binary_logloss: 0.19881\tvalid_1's binary_logloss: 0.414296\n",
      "[3700]\ttraining's binary_logloss: 0.194574\tvalid_1's binary_logloss: 0.413357\n",
      "[3800]\ttraining's binary_logloss: 0.190084\tvalid_1's binary_logloss: 0.412226\n",
      "[3900]\ttraining's binary_logloss: 0.185752\tvalid_1's binary_logloss: 0.41124\n",
      "[4000]\ttraining's binary_logloss: 0.181641\tvalid_1's binary_logloss: 0.410157\n",
      "[4100]\ttraining's binary_logloss: 0.177666\tvalid_1's binary_logloss: 0.409236\n",
      "[4200]\ttraining's binary_logloss: 0.173646\tvalid_1's binary_logloss: 0.408272\n",
      "[4300]\ttraining's binary_logloss: 0.169929\tvalid_1's binary_logloss: 0.407405\n",
      "[4400]\ttraining's binary_logloss: 0.165956\tvalid_1's binary_logloss: 0.406168\n",
      "[4500]\ttraining's binary_logloss: 0.16243\tvalid_1's binary_logloss: 0.405496\n",
      "[4600]\ttraining's binary_logloss: 0.158864\tvalid_1's binary_logloss: 0.404793\n",
      "[4700]\ttraining's binary_logloss: 0.155165\tvalid_1's binary_logloss: 0.403937\n",
      "[4800]\ttraining's binary_logloss: 0.151448\tvalid_1's binary_logloss: 0.403068\n",
      "[4900]\ttraining's binary_logloss: 0.148384\tvalid_1's binary_logloss: 0.402691\n",
      "[5000]\ttraining's binary_logloss: 0.145498\tvalid_1's binary_logloss: 0.4019\n",
      "[5100]\ttraining's binary_logloss: 0.142466\tvalid_1's binary_logloss: 0.401213\n",
      "[5200]\ttraining's binary_logloss: 0.139651\tvalid_1's binary_logloss: 0.400643\n",
      "[5300]\ttraining's binary_logloss: 0.136603\tvalid_1's binary_logloss: 0.400254\n",
      "[5400]\ttraining's binary_logloss: 0.133609\tvalid_1's binary_logloss: 0.399834\n",
      "[5500]\ttraining's binary_logloss: 0.13088\tvalid_1's binary_logloss: 0.399401\n",
      "[5600]\ttraining's binary_logloss: 0.127999\tvalid_1's binary_logloss: 0.398774\n",
      "[5700]\ttraining's binary_logloss: 0.125435\tvalid_1's binary_logloss: 0.398372\n",
      "[5800]\ttraining's binary_logloss: 0.122862\tvalid_1's binary_logloss: 0.397779\n",
      "[5900]\ttraining's binary_logloss: 0.120402\tvalid_1's binary_logloss: 0.397536\n",
      "[6000]\ttraining's binary_logloss: 0.117785\tvalid_1's binary_logloss: 0.397047\n",
      "[6100]\ttraining's binary_logloss: 0.115336\tvalid_1's binary_logloss: 0.396874\n",
      "[6200]\ttraining's binary_logloss: 0.11312\tvalid_1's binary_logloss: 0.396778\n",
      "[6300]\ttraining's binary_logloss: 0.110779\tvalid_1's binary_logloss: 0.39663\n",
      "[6400]\ttraining's binary_logloss: 0.108439\tvalid_1's binary_logloss: 0.396546\n",
      "[6500]\ttraining's binary_logloss: 0.106091\tvalid_1's binary_logloss: 0.39677\n",
      "Early stopping, best iteration is:\n",
      "[6409]\ttraining's binary_logloss: 0.108243\tvalid_1's binary_logloss: 0.396525\n"
     ]
    }
   ],
   "source": [
    "target = df_train['sentiment']\n",
    "feats = ['usefulCount','day','year','month','Predict_Sentiment','Predict_Sentiment2', 'count_sent',\n",
    " 'count_word', 'count_unique_word', 'count_letters', 'count_punctuations',\n",
    " 'count_words_upper', 'count_words_title', 'count_stopwords', 'mean_word_len', 'season']\n",
    "\n",
    "sub_preds = np.zeros(df_test.shape[0])\n",
    "\n",
    "trn_x, val_x, trn_y, val_y = train_test_split(df_train[feats], target, test_size=0.2, random_state=42) \n",
    "feature_importance_df = pd.DataFrame() \n",
    "    \n",
    "clf = LGBMClassifier(\n",
    "        n_estimators=10000,\n",
    "        learning_rate=0.10,\n",
    "        num_leaves=30,\n",
    "        #colsample_bytree=.9,\n",
    "        subsample=.9,\n",
    "        max_depth=7,\n",
    "        reg_alpha=.1,\n",
    "        reg_lambda=.1,\n",
    "        min_split_gain=.01,\n",
    "        min_child_weight=2,\n",
    "        silent=-1,\n",
    "        verbose=-1,\n",
    "        )\n",
    "        \n",
    "clf.fit(trn_x, trn_y, \n",
    "        eval_set= [(trn_x, trn_y), (val_x, val_y)], \n",
    "        verbose=100, early_stopping_rounds=100  #30\n",
    "    )\n",
    "\n",
    "sub_preds = clf.predict(df_test[feats])\n",
    "        \n",
    "fold_importance_df = pd.DataFrame()\n",
    "fold_importance_df[\"feature\"] = feats\n",
    "fold_importance_df[\"importance\"] = clf.feature_importances_\n",
    "feature_importance_df = pd.concat([feature_importance_df, fold_importance_df], axis=0)"
   ]
  },
  {
   "cell_type": "code",
   "execution_count": 67,
   "metadata": {
    "_uuid": "a666baea3f58fe9c6d5292cfe24391f0ebb903e8"
   },
   "outputs": [
    {
     "data": {
      "text/plain": [
       "array([[13698,  7311],\n",
       "       [ 3664, 45305]])"
      ]
     },
     "execution_count": 67,
     "metadata": {},
     "output_type": "execute_result"
    }
   ],
   "source": [
    "confusion_matrix(y_pred=sub_preds, y_true=solution)"
   ]
  },
  {
   "cell_type": "code",
   "execution_count": 68,
   "metadata": {
    "_uuid": "208f503ba23bc2d8412b27c61772371315ffef78"
   },
   "outputs": [
    {
     "data": {
      "image/png": "[encoded data removed]",
      "text/plain": [
       "<Figure size 1008x720 with 1 Axes>"
      ]
     },
     "metadata": {
      "needs_background": "light"
     },
     "output_type": "display_data"
    }
   ],
   "source": [
    "cols = feature_importance_df[[\"feature\", \"importance\"]].groupby(\"feature\").mean().sort_values(\n",
    "    by=\"importance\", ascending=False)[:50].index\n",
    "\n",
    "best_features = feature_importance_df.loc[feature_importance_df.feature.isin(cols)]\n",
    "\n",
    "plt.figure(figsize=(14,10))\n",
    "sns.barplot(x=\"importance\", y=\"feature\", data=best_features.sort_values(by=\"importance\", ascending=False))\n",
    "plt.title('LightGBM Features (avg over folds)')\n",
    "plt.tight_layout()\n",
    "plt.savefig('lgbm_importances.png')"
   ]
  },
  {
   "cell_type": "markdown",
   "metadata": {
    "_uuid": "c8feb72b512e8032016da05083eebe80c184c58a"
   },
   "source": [
    "### 3.3 Dictionary_Sentiment_Analysis"
   ]
  },
  {
   "cell_type": "markdown",
   "metadata": {
    "_uuid": "6d26dbb8f59e4a7d4d9518e6b14e485cd79b6a08"
   },
   "source": [
    "Because the package used for prediction of 'Predict value' is formed with movie review data, it can be unsuitable for this project which analyzes reviews for drugs. To make up for this, we conducted additional emotional analysis using the Harvard emotional dictionary."
   ]
  },
  {
   "cell_type": "code",
   "execution_count": 69,
   "metadata": {
    "_uuid": "62f0f62033a5f3661c119213ed322b880a545da4"
   },
   "outputs": [],
   "source": [
    "word_table = pd.read_csv(\"Datasets/inquirerbasic.csv\")"
   ]
  },
  {
   "cell_type": "code",
   "execution_count": 70,
   "metadata": {
    "_uuid": "e3ea9c71d4d8c47a991b2ddd11143699af5c6ac0"
   },
   "outputs": [
    {
     "data": {
      "text/html": [
       "<div>\n",
       "<style scoped>\n",
       "    .dataframe tbody tr th:only-of-type {\n",
       "        vertical-align: middle;\n",
       "    }\n",
       "\n",
       "    .dataframe tbody tr th {\n",
       "        vertical-align: top;\n",
       "    }\n",
       "\n",
       "    .dataframe thead th {\n",
       "        text-align: right;\n",
       "    }\n",
       "</style>\n",
       "<table border=\"1\" class=\"dataframe\">\n",
       "  <thead>\n",
       "    <tr style=\"text-align: right;\">\n",
       "      <th></th>\n",
       "      <th>Entry</th>\n",
       "      <th>Source</th>\n",
       "      <th>Positiv</th>\n",
       "      <th>Negativ</th>\n",
       "    </tr>\n",
       "  </thead>\n",
       "  <tbody>\n",
       "    <tr>\n",
       "      <th>0</th>\n",
       "      <td>A</td>\n",
       "      <td>H4Lvd</td>\n",
       "      <td>NaN</td>\n",
       "      <td>NaN</td>\n",
       "    </tr>\n",
       "    <tr>\n",
       "      <th>1</th>\n",
       "      <td>ABANDON</td>\n",
       "      <td>H4Lvd</td>\n",
       "      <td>NaN</td>\n",
       "      <td>Negativ</td>\n",
       "    </tr>\n",
       "    <tr>\n",
       "      <th>2</th>\n",
       "      <td>ABANDONMENT</td>\n",
       "      <td>H4</td>\n",
       "      <td>NaN</td>\n",
       "      <td>Negativ</td>\n",
       "    </tr>\n",
       "    <tr>\n",
       "      <th>3</th>\n",
       "      <td>ABATE</td>\n",
       "      <td>H4Lvd</td>\n",
       "      <td>NaN</td>\n",
       "      <td>Negativ</td>\n",
       "    </tr>\n",
       "    <tr>\n",
       "      <th>4</th>\n",
       "      <td>ABATEMENT</td>\n",
       "      <td>Lvd</td>\n",
       "      <td>NaN</td>\n",
       "      <td>NaN</td>\n",
       "    </tr>\n",
       "  </tbody>\n",
       "</table>\n",
       "</div>"
      ],
      "text/plain": [
       "         Entry Source Positiv  Negativ\n",
       "0            A  H4Lvd     NaN      NaN\n",
       "1      ABANDON  H4Lvd     NaN  Negativ\n",
       "2  ABANDONMENT     H4     NaN  Negativ\n",
       "3        ABATE  H4Lvd     NaN  Negativ\n",
       "4    ABATEMENT    Lvd     NaN      NaN"
      ]
     },
     "execution_count": 70,
     "metadata": {},
     "output_type": "execute_result"
    }
   ],
   "source": [
    "word_table.head()"
   ]
  },
  {
   "cell_type": "code",
   "execution_count": 71,
   "metadata": {
    "_uuid": "384ba6b02f776f9080d57c18a7f3740b3a2236d3"
   },
   "outputs": [
    {
     "data": {
      "text/plain": [
       "2006"
      ]
     },
     "execution_count": 71,
     "metadata": {},
     "output_type": "execute_result"
    }
   ],
   "source": [
    "temp_Positiv = []\n",
    "Positiv_word_list = []\n",
    "for i in range(0,len(word_table.Positiv)):\n",
    "    if word_table.iloc[i,2] == \"Positiv\":\n",
    "        temp = word_table.iloc[i,0].lower()\n",
    "        temp1 = re.sub('\\d+', '', temp)\n",
    "        temp2 = re.sub('#', '', temp1) \n",
    "        temp_Positiv.append(temp2)\n",
    "\n",
    "Positiv_word_list = list(set(temp_Positiv))\n",
    "len(temp_Positiv)\n",
    "len(Positiv_word_list)\n",
    "\n",
    "temp_Negativ = []\n",
    "Negativ_word_list = []\n",
    "for i in range(0,len(word_table.Negativ)):\n",
    "    if word_table.iloc[i,3] == \"Negativ\":\n",
    "        temp = word_table.iloc[i,0].lower()\n",
    "        temp1 = re.sub('\\d+', '', temp)\n",
    "        temp2 = re.sub('#', '', temp1) \n",
    "        temp_Negativ.append(temp2)\n",
    "\n",
    "Negativ_word_list = list(set(temp_Negativ))\n",
    "len(temp_Negativ)\n",
    "len(Negativ_word_list)"
   ]
  },
  {
   "cell_type": "markdown",
   "metadata": {
    "_uuid": "73ac447f7fad4fdef122155d74cbe58e00fc57ec"
   },
   "source": [
    "We counted the number of words in review_clean which are included in dictionary."
   ]
  },
  {
   "cell_type": "code",
   "execution_count": 72,
   "metadata": {
    "_uuid": "bddbe0aacbe8480869d1935d49bac6397827cd6c"
   },
   "outputs": [],
   "source": [
    "vectorizer = CountVectorizer(vocabulary = Positiv_word_list)\n",
    "content = df_test['review_clean']\n",
    "X = vectorizer.fit_transform(content)\n",
    "f = X.toarray()\n",
    "f = pd.DataFrame(f)\n",
    "f.columns=Positiv_word_list\n",
    "df_test[\"num_Positiv_word\"] = f.sum(axis=1)\n",
    "\n",
    "vectorizer2 = CountVectorizer(vocabulary = Negativ_word_list)\n",
    "content = df_test['review_clean']\n",
    "X2 = vectorizer2.fit_transform(content)\n",
    "f2 = X2.toarray()\n",
    "f2 = pd.DataFrame(f2)\n",
    "f2.columns=Negativ_word_list\n",
    "df_test[\"num_Negativ_word\"] = f2.sum(axis=1)"
   ]
  },
  {
   "cell_type": "code",
   "execution_count": 73,
   "metadata": {
    "_uuid": "63f678116cb243d737982bb6ae8e9dbd3da49094",
    "scrolled": true
   },
   "outputs": [
    {
     "data": {
      "text/html": [
       "<div>\n",
       "<style scoped>\n",
       "    .dataframe tbody tr th:only-of-type {\n",
       "        vertical-align: middle;\n",
       "    }\n",
       "\n",
       "    .dataframe tbody tr th {\n",
       "        vertical-align: top;\n",
       "    }\n",
       "\n",
       "    .dataframe thead th {\n",
       "        text-align: right;\n",
       "    }\n",
       "</style>\n",
       "<table border=\"1\" class=\"dataframe\">\n",
       "  <thead>\n",
       "    <tr style=\"text-align: right;\">\n",
       "      <th></th>\n",
       "      <th>uniqueID</th>\n",
       "      <th>drugName</th>\n",
       "      <th>condition</th>\n",
       "      <th>review</th>\n",
       "      <th>rating</th>\n",
       "      <th>date</th>\n",
       "      <th>usefulCount</th>\n",
       "      <th>review_clean</th>\n",
       "      <th>sentiment</th>\n",
       "      <th>day</th>\n",
       "      <th>year</th>\n",
       "      <th>month</th>\n",
       "      <th>Predict_Sentiment</th>\n",
       "      <th>Predict_Sentiment2</th>\n",
       "      <th>count_sent</th>\n",
       "      <th>count_word</th>\n",
       "      <th>count_unique_word</th>\n",
       "      <th>count_letters</th>\n",
       "      <th>count_punctuations</th>\n",
       "      <th>count_words_upper</th>\n",
       "      <th>count_words_title</th>\n",
       "      <th>count_stopwords</th>\n",
       "      <th>mean_word_len</th>\n",
       "      <th>season</th>\n",
       "      <th>num_Positiv_word</th>\n",
       "      <th>num_Negativ_word</th>\n",
       "      <th>Positiv_ratio</th>\n",
       "      <th>sentiment_by_dic</th>\n",
       "    </tr>\n",
       "  </thead>\n",
       "  <tbody>\n",
       "    <tr>\n",
       "      <th>147354</th>\n",
       "      <td>126702</td>\n",
       "      <td>Brimonidine</td>\n",
       "      <td>Rosacea</td>\n",
       "      <td>\"Never , never , never use this cream !!!!!! I...</td>\n",
       "      <td>1</td>\n",
       "      <td>2015-08-31</td>\n",
       "      <td>17</td>\n",
       "      <td>never never never use cream help way angri dis...</td>\n",
       "      <td>0</td>\n",
       "      <td>31</td>\n",
       "      <td>2015</td>\n",
       "      <td>8</td>\n",
       "      <td>0.116667</td>\n",
       "      <td>-0.157955</td>\n",
       "      <td>1</td>\n",
       "      <td>58</td>\n",
       "      <td>41</td>\n",
       "      <td>335</td>\n",
       "      <td>58</td>\n",
       "      <td>5</td>\n",
       "      <td>11</td>\n",
       "      <td>54</td>\n",
       "      <td>4.793103</td>\n",
       "      <td>2</td>\n",
       "      <td>NaN</td>\n",
       "      <td>NaN</td>\n",
       "      <td>NaN</td>\n",
       "      <td>0.5</td>\n",
       "    </tr>\n",
       "    <tr>\n",
       "      <th>195249</th>\n",
       "      <td>84765</td>\n",
       "      <td>Ethinyl estradiol / norgestimate</td>\n",
       "      <td>Birth Control</td>\n",
       "      <td>\"I was switched to this after about 9 months o...</td>\n",
       "      <td>10</td>\n",
       "      <td>2016-05-01</td>\n",
       "      <td>3</td>\n",
       "      <td>switch month mononessa ask switch happen anywa...</td>\n",
       "      <td>1</td>\n",
       "      <td>1</td>\n",
       "      <td>2016</td>\n",
       "      <td>5</td>\n",
       "      <td>-0.257407</td>\n",
       "      <td>-0.210916</td>\n",
       "      <td>1</td>\n",
       "      <td>50</td>\n",
       "      <td>42</td>\n",
       "      <td>314</td>\n",
       "      <td>27</td>\n",
       "      <td>6</td>\n",
       "      <td>14</td>\n",
       "      <td>50</td>\n",
       "      <td>5.300000</td>\n",
       "      <td>1</td>\n",
       "      <td>NaN</td>\n",
       "      <td>NaN</td>\n",
       "      <td>NaN</td>\n",
       "      <td>0.5</td>\n",
       "    </tr>\n",
       "    <tr>\n",
       "      <th>86265</th>\n",
       "      <td>71559</td>\n",
       "      <td>Vraylar</td>\n",
       "      <td>Bipolar Disorde</td>\n",
       "      <td>\"I began at 1.5 then titrated to 3mg dosage. A...</td>\n",
       "      <td>3</td>\n",
       "      <td>2016-08-17</td>\n",
       "      <td>17</td>\n",
       "      <td>began titrat mg dosag first love medicin compl...</td>\n",
       "      <td>0</td>\n",
       "      <td>17</td>\n",
       "      <td>2016</td>\n",
       "      <td>8</td>\n",
       "      <td>0.041667</td>\n",
       "      <td>0.139815</td>\n",
       "      <td>1</td>\n",
       "      <td>41</td>\n",
       "      <td>38</td>\n",
       "      <td>251</td>\n",
       "      <td>20</td>\n",
       "      <td>6</td>\n",
       "      <td>9</td>\n",
       "      <td>41</td>\n",
       "      <td>5.146341</td>\n",
       "      <td>2</td>\n",
       "      <td>NaN</td>\n",
       "      <td>NaN</td>\n",
       "      <td>NaN</td>\n",
       "      <td>0.5</td>\n",
       "    </tr>\n",
       "    <tr>\n",
       "      <th>44172</th>\n",
       "      <td>132320</td>\n",
       "      <td>Ativan</td>\n",
       "      <td>Anxiety</td>\n",
       "      <td>\"Ativan 0.5mg calms me down considerably withi...</td>\n",
       "      <td>5</td>\n",
       "      <td>2012-01-12</td>\n",
       "      <td>26</td>\n",
       "      <td>ativan mg calm consider within minut side effe...</td>\n",
       "      <td>0</td>\n",
       "      <td>12</td>\n",
       "      <td>2012</td>\n",
       "      <td>1</td>\n",
       "      <td>-0.170530</td>\n",
       "      <td>-0.061481</td>\n",
       "      <td>1</td>\n",
       "      <td>62</td>\n",
       "      <td>54</td>\n",
       "      <td>353</td>\n",
       "      <td>27</td>\n",
       "      <td>7</td>\n",
       "      <td>8</td>\n",
       "      <td>55</td>\n",
       "      <td>4.709677</td>\n",
       "      <td>4</td>\n",
       "      <td>0.0</td>\n",
       "      <td>4.0</td>\n",
       "      <td>0.0</td>\n",
       "      <td>0.0</td>\n",
       "    </tr>\n",
       "    <tr>\n",
       "      <th>90569</th>\n",
       "      <td>177278</td>\n",
       "      <td>Duloxetine</td>\n",
       "      <td>Generalized Anxiety Disorde</td>\n",
       "      <td>\"My thoughts on Cymbalta: Cymbalta has left me...</td>\n",
       "      <td>1</td>\n",
       "      <td>2017-05-03</td>\n",
       "      <td>29</td>\n",
       "      <td>thought cymbalta cymbalta left fog no feel non...</td>\n",
       "      <td>0</td>\n",
       "      <td>3</td>\n",
       "      <td>2017</td>\n",
       "      <td>5</td>\n",
       "      <td>0.071429</td>\n",
       "      <td>-0.122253</td>\n",
       "      <td>2</td>\n",
       "      <td>68</td>\n",
       "      <td>61</td>\n",
       "      <td>395</td>\n",
       "      <td>38</td>\n",
       "      <td>12</td>\n",
       "      <td>19</td>\n",
       "      <td>65</td>\n",
       "      <td>4.823529</td>\n",
       "      <td>1</td>\n",
       "      <td>NaN</td>\n",
       "      <td>NaN</td>\n",
       "      <td>NaN</td>\n",
       "      <td>0.5</td>\n",
       "    </tr>\n",
       "  </tbody>\n",
       "</table>\n",
       "</div>"
      ],
      "text/plain": [
       "        uniqueID                          drugName  \\\n",
       "147354    126702                       Brimonidine   \n",
       "195249     84765  Ethinyl estradiol / norgestimate   \n",
       "86265      71559                           Vraylar   \n",
       "44172     132320                            Ativan   \n",
       "90569     177278                        Duloxetine   \n",
       "\n",
       "                          condition  \\\n",
       "147354                      Rosacea   \n",
       "195249                Birth Control   \n",
       "86265               Bipolar Disorde   \n",
       "44172                       Anxiety   \n",
       "90569   Generalized Anxiety Disorde   \n",
       "\n",
       "                                                   review  rating       date  \\\n",
       "147354  \"Never , never , never use this cream !!!!!! I...       1 2015-08-31   \n",
       "195249  \"I was switched to this after about 9 months o...      10 2016-05-01   \n",
       "86265   \"I began at 1.5 then titrated to 3mg dosage. A...       3 2016-08-17   \n",
       "44172   \"Ativan 0.5mg calms me down considerably withi...       5 2012-01-12   \n",
       "90569   \"My thoughts on Cymbalta: Cymbalta has left me...       1 2017-05-03   \n",
       "\n",
       "        usefulCount                                       review_clean  \\\n",
       "147354           17  never never never use cream help way angri dis...   \n",
       "195249            3  switch month mononessa ask switch happen anywa...   \n",
       "86265            17  began titrat mg dosag first love medicin compl...   \n",
       "44172            26  ativan mg calm consider within minut side effe...   \n",
       "90569            29  thought cymbalta cymbalta left fog no feel non...   \n",
       "\n",
       "        sentiment  day  year  month  Predict_Sentiment  Predict_Sentiment2  \\\n",
       "147354          0   31  2015      8           0.116667           -0.157955   \n",
       "195249          1    1  2016      5          -0.257407           -0.210916   \n",
       "86265           0   17  2016      8           0.041667            0.139815   \n",
       "44172           0   12  2012      1          -0.170530           -0.061481   \n",
       "90569           0    3  2017      5           0.071429           -0.122253   \n",
       "\n",
       "        count_sent  count_word  count_unique_word  count_letters  \\\n",
       "147354           1          58                 41            335   \n",
       "195249           1          50                 42            314   \n",
       "86265            1          41                 38            251   \n",
       "44172            1          62                 54            353   \n",
       "90569            2          68                 61            395   \n",
       "\n",
       "        count_punctuations  count_words_upper  count_words_title  \\\n",
       "147354                  58                  5                 11   \n",
       "195249                  27                  6                 14   \n",
       "86265                   20                  6                  9   \n",
       "44172                   27                  7                  8   \n",
       "90569                   38                 12                 19   \n",
       "\n",
       "        count_stopwords  mean_word_len  season  num_Positiv_word  \\\n",
       "147354               54       4.793103       2               NaN   \n",
       "195249               50       5.300000       1               NaN   \n",
       "86265                41       5.146341       2               NaN   \n",
       "44172                55       4.709677       4               0.0   \n",
       "90569                65       4.823529       1               NaN   \n",
       "\n",
       "        num_Negativ_word  Positiv_ratio  sentiment_by_dic  \n",
       "147354               NaN            NaN               0.5  \n",
       "195249               NaN            NaN               0.5  \n",
       "86265                NaN            NaN               0.5  \n",
       "44172                4.0            0.0               0.0  \n",
       "90569                NaN            NaN               0.5  "
      ]
     },
     "execution_count": 73,
     "metadata": {},
     "output_type": "execute_result"
    }
   ],
   "source": [
    "df_test[\"Positiv_ratio\"] = df_test[\"num_Positiv_word\"]/(df_test[\"num_Positiv_word\"]+df_test[\"num_Negativ_word\"])\n",
    "df_test[\"sentiment_by_dic\"] = df_test[\"Positiv_ratio\"].apply(lambda x: 1 if (x>=0.5) else (0 if (x<0.5) else 0.5))\n",
    "\n",
    "df_test.head()"
   ]
  },
  {
   "cell_type": "markdown",
   "metadata": {
    "_uuid": "da172c9523937834f34ba3d2a137d73c0ad41443"
   },
   "source": [
    "We defined Positiv_ratio = the number of positive words / (the number of positive words + the number of negative words) If the ratio is lower than 0.5, we classified as negative and if it's higher than 0.5, we classified as positive. With remainders, we classified as neutral, which includes the sentence without either positive or negative words."
   ]
  },
  {
   "cell_type": "markdown",
   "metadata": {
    "_uuid": "ebc76b1ffbc7eafc6632f8c89949040812a704eb"
   },
   "source": [
    "As mentioned earlier, we have normalized usefulCount by condition to solve the problem that usefulCount shows bias depending on condition. We then added three predicted emotion values and multiply them by the normalized usefulCount to get the predicted value.\n",
    "\n",
    "With this we were able to recommend drug by condition in order of final predicted value."
   ]
  },
  {
   "cell_type": "code",
   "execution_count": 74,
   "metadata": {
    "_uuid": "85cf8b344e09601d6fb5951ece7c9e2601c3ed8d"
   },
   "outputs": [],
   "source": [
    "def userful_count(data):\n",
    "    grouped = data.groupby(['condition']).size().reset_index(name='user_size')\n",
    "    data = pd.merge(data,grouped,on='condition',how='left')\n",
    "    return data\n",
    "\n",
    "df_test =  userful_count(df_test) \n",
    "df_test['usefulCount'] = df_test['usefulCount']/df_test['user_size']"
   ]
  },
  {
   "cell_type": "code",
   "execution_count": 75,
   "metadata": {
    "_uuid": "ff0e4b2e3a4c9d6b82b2f32a9ac8601f2a18573d"
   },
   "outputs": [],
   "source": [
    "df_test['deep_pred'] = sub_preds_deep\n",
    "df_test['machine_pred'] = sub_preds\n",
    "\n",
    "df_test['total_pred'] = (df_test['deep_pred'] + df_test['machine_pred'] + df_test['sentiment_by_dic'])*df_test['usefulCount']"
   ]
  },
  {
   "cell_type": "code",
   "execution_count": 76,
   "metadata": {
    "_uuid": "46e8ff4f7569243d85c489e5034e37850ce623f3",
    "scrolled": true
   },
   "outputs": [
    {
     "data": {
      "text/html": [
       "<div>\n",
       "<style scoped>\n",
       "    .dataframe tbody tr th:only-of-type {\n",
       "        vertical-align: middle;\n",
       "    }\n",
       "\n",
       "    .dataframe tbody tr th {\n",
       "        vertical-align: top;\n",
       "    }\n",
       "\n",
       "    .dataframe thead tr th {\n",
       "        text-align: left;\n",
       "    }\n",
       "\n",
       "    .dataframe thead tr:last-of-type th {\n",
       "        text-align: right;\n",
       "    }\n",
       "</style>\n",
       "<table border=\"1\" class=\"dataframe\">\n",
       "  <thead>\n",
       "    <tr>\n",
       "      <th></th>\n",
       "      <th></th>\n",
       "      <th>total_pred</th>\n",
       "    </tr>\n",
       "    <tr>\n",
       "      <th></th>\n",
       "      <th></th>\n",
       "      <th>mean</th>\n",
       "    </tr>\n",
       "    <tr>\n",
       "      <th>condition</th>\n",
       "      <th>drugName</th>\n",
       "      <th></th>\n",
       "    </tr>\n",
       "  </thead>\n",
       "  <tbody>\n",
       "    <tr>\n",
       "      <th rowspan=\"30\" valign=\"top\">ADHD</th>\n",
       "      <th>Adderall</th>\n",
       "      <td>0.070023</td>\n",
       "    </tr>\n",
       "    <tr>\n",
       "      <th>Adderall XR</th>\n",
       "      <td>0.042444</td>\n",
       "    </tr>\n",
       "    <tr>\n",
       "      <th>Adzenys XR-ODT</th>\n",
       "      <td>0.010508</td>\n",
       "    </tr>\n",
       "    <tr>\n",
       "      <th>Amantadine</th>\n",
       "      <td>0.011038</td>\n",
       "    </tr>\n",
       "    <tr>\n",
       "      <th>Amphetamine</th>\n",
       "      <td>0.013946</td>\n",
       "    </tr>\n",
       "    <tr>\n",
       "      <th>Amphetamine / dextroamphetamine</th>\n",
       "      <td>0.046797</td>\n",
       "    </tr>\n",
       "    <tr>\n",
       "      <th>Aptensio XR</th>\n",
       "      <td>0.005855</td>\n",
       "    </tr>\n",
       "    <tr>\n",
       "      <th>Armodafinil</th>\n",
       "      <td>0.027926</td>\n",
       "    </tr>\n",
       "    <tr>\n",
       "      <th>Atomoxetine</th>\n",
       "      <td>0.047760</td>\n",
       "    </tr>\n",
       "    <tr>\n",
       "      <th>Bupropion</th>\n",
       "      <td>0.084859</td>\n",
       "    </tr>\n",
       "    <tr>\n",
       "      <th>Catapres</th>\n",
       "      <td>0.044392</td>\n",
       "    </tr>\n",
       "    <tr>\n",
       "      <th>Clonidine</th>\n",
       "      <td>0.058757</td>\n",
       "    </tr>\n",
       "    <tr>\n",
       "      <th>Concerta</th>\n",
       "      <td>0.058632</td>\n",
       "    </tr>\n",
       "    <tr>\n",
       "      <th>Cylert</th>\n",
       "      <td>0.014638</td>\n",
       "    </tr>\n",
       "    <tr>\n",
       "      <th>Daytrana</th>\n",
       "      <td>0.031663</td>\n",
       "    </tr>\n",
       "    <tr>\n",
       "      <th>Desoxyn</th>\n",
       "      <td>0.130644</td>\n",
       "    </tr>\n",
       "    <tr>\n",
       "      <th>Desvenlafaxine</th>\n",
       "      <td>0.006061</td>\n",
       "    </tr>\n",
       "    <tr>\n",
       "      <th>Dexedrine</th>\n",
       "      <td>0.064782</td>\n",
       "    </tr>\n",
       "    <tr>\n",
       "      <th>Dexmethylphenidate</th>\n",
       "      <td>0.041749</td>\n",
       "    </tr>\n",
       "    <tr>\n",
       "      <th>Dextroamphetamine</th>\n",
       "      <td>0.052349</td>\n",
       "    </tr>\n",
       "    <tr>\n",
       "      <th>Dextrostat</th>\n",
       "      <td>0.045377</td>\n",
       "    </tr>\n",
       "    <tr>\n",
       "      <th>Dyanavel XR</th>\n",
       "      <td>0.016378</td>\n",
       "    </tr>\n",
       "    <tr>\n",
       "      <th>Evekeo</th>\n",
       "      <td>0.008560</td>\n",
       "    </tr>\n",
       "    <tr>\n",
       "      <th>Focalin</th>\n",
       "      <td>0.046721</td>\n",
       "    </tr>\n",
       "    <tr>\n",
       "      <th>Focalin XR</th>\n",
       "      <td>0.044702</td>\n",
       "    </tr>\n",
       "    <tr>\n",
       "      <th>Guanfacine</th>\n",
       "      <td>0.069605</td>\n",
       "    </tr>\n",
       "    <tr>\n",
       "      <th>Intuniv</th>\n",
       "      <td>0.078113</td>\n",
       "    </tr>\n",
       "    <tr>\n",
       "      <th>Kapvay</th>\n",
       "      <td>0.127608</td>\n",
       "    </tr>\n",
       "    <tr>\n",
       "      <th>Lisdexamfetamine</th>\n",
       "      <td>0.045251</td>\n",
       "    </tr>\n",
       "    <tr>\n",
       "      <th>Metadate CD</th>\n",
       "      <td>0.037593</td>\n",
       "    </tr>\n",
       "    <tr>\n",
       "      <th>...</th>\n",
       "      <th>...</th>\n",
       "      <td>...</td>\n",
       "    </tr>\n",
       "    <tr>\n",
       "      <th rowspan=\"17\" valign=\"top\">ibromyalgia</th>\n",
       "      <th>Nuvigil</th>\n",
       "      <td>0.257571</td>\n",
       "    </tr>\n",
       "    <tr>\n",
       "      <th>Prednisone</th>\n",
       "      <td>0.082614</td>\n",
       "    </tr>\n",
       "    <tr>\n",
       "      <th>Pregabalin</th>\n",
       "      <td>0.130479</td>\n",
       "    </tr>\n",
       "    <tr>\n",
       "      <th>Pristiq</th>\n",
       "      <td>0.079282</td>\n",
       "    </tr>\n",
       "    <tr>\n",
       "      <th>Prozac</th>\n",
       "      <td>0.185853</td>\n",
       "    </tr>\n",
       "    <tr>\n",
       "      <th>Savella</th>\n",
       "      <td>0.113673</td>\n",
       "    </tr>\n",
       "    <tr>\n",
       "      <th>Skelaxin</th>\n",
       "      <td>0.084142</td>\n",
       "    </tr>\n",
       "    <tr>\n",
       "      <th>Sodium oxybate</th>\n",
       "      <td>0.103717</td>\n",
       "    </tr>\n",
       "    <tr>\n",
       "      <th>Sterapred DS</th>\n",
       "      <td>0.056891</td>\n",
       "    </tr>\n",
       "    <tr>\n",
       "      <th>Topamax</th>\n",
       "      <td>0.043799</td>\n",
       "    </tr>\n",
       "    <tr>\n",
       "      <th>Topiramate</th>\n",
       "      <td>0.060077</td>\n",
       "    </tr>\n",
       "    <tr>\n",
       "      <th>Tramadol</th>\n",
       "      <td>0.109870</td>\n",
       "    </tr>\n",
       "    <tr>\n",
       "      <th>Trazodone</th>\n",
       "      <td>0.054645</td>\n",
       "    </tr>\n",
       "    <tr>\n",
       "      <th>Ultram</th>\n",
       "      <td>0.079947</td>\n",
       "    </tr>\n",
       "    <tr>\n",
       "      <th>Ultram ER</th>\n",
       "      <td>0.086489</td>\n",
       "    </tr>\n",
       "    <tr>\n",
       "      <th>Venlafaxine</th>\n",
       "      <td>0.068417</td>\n",
       "    </tr>\n",
       "    <tr>\n",
       "      <th>Xyrem</th>\n",
       "      <td>0.246492</td>\n",
       "    </tr>\n",
       "    <tr>\n",
       "      <th rowspan=\"2\" valign=\"top\">lic Acid Deficiency</th>\n",
       "      <th>Deplin</th>\n",
       "      <td>9.561251</td>\n",
       "    </tr>\n",
       "    <tr>\n",
       "      <th>L-methylfolate</th>\n",
       "      <td>6.035506</td>\n",
       "    </tr>\n",
       "    <tr>\n",
       "      <th>m Pain Disorde</th>\n",
       "      <th>Milnacipran</th>\n",
       "      <td>0.000000</td>\n",
       "    </tr>\n",
       "    <tr>\n",
       "      <th rowspan=\"5\" valign=\"top\">min)</th>\n",
       "      <th>Alogliptin / metformin</th>\n",
       "      <td>0.229274</td>\n",
       "    </tr>\n",
       "    <tr>\n",
       "      <th>Dapagliflozin / metformin</th>\n",
       "      <td>0.210445</td>\n",
       "    </tr>\n",
       "    <tr>\n",
       "      <th>Empagliflozin / metformin</th>\n",
       "      <td>1.130246</td>\n",
       "    </tr>\n",
       "    <tr>\n",
       "      <th>Linagliptin / metformin</th>\n",
       "      <td>0.932860</td>\n",
       "    </tr>\n",
       "    <tr>\n",
       "      <th>Metformin</th>\n",
       "      <td>9.299290</td>\n",
       "    </tr>\n",
       "    <tr>\n",
       "      <th rowspan=\"2\" valign=\"top\">moterol)</th>\n",
       "      <th>Arformoterol</th>\n",
       "      <td>2.049977</td>\n",
       "    </tr>\n",
       "    <tr>\n",
       "      <th>Budesonide / formoterol</th>\n",
       "      <td>2.231980</td>\n",
       "    </tr>\n",
       "    <tr>\n",
       "      <th>von Willebrand's Disease</th>\n",
       "      <th>Stimate</th>\n",
       "      <td>7.674806</td>\n",
       "    </tr>\n",
       "    <tr>\n",
       "      <th rowspan=\"2\" valign=\"top\">zen Shoulde</th>\n",
       "      <th>Nabumetone</th>\n",
       "      <td>28.262744</td>\n",
       "    </tr>\n",
       "    <tr>\n",
       "      <th>Naproxen</th>\n",
       "      <td>1.452067</td>\n",
       "    </tr>\n",
       "  </tbody>\n",
       "</table>\n",
       "<p>5773 rows × 1 columns</p>\n",
       "</div>"
      ],
      "text/plain": [
       "                                                         total_pred\n",
       "                                                               mean\n",
       "condition                drugName                                  \n",
       "ADHD                     Adderall                          0.070023\n",
       "                         Adderall XR                       0.042444\n",
       "                         Adzenys XR-ODT                    0.010508\n",
       "                         Amantadine                        0.011038\n",
       "                         Amphetamine                       0.013946\n",
       "                         Amphetamine / dextroamphetamine   0.046797\n",
       "                         Aptensio XR                       0.005855\n",
       "                         Armodafinil                       0.027926\n",
       "                         Atomoxetine                       0.047760\n",
       "                         Bupropion                         0.084859\n",
       "                         Catapres                          0.044392\n",
       "                         Clonidine                         0.058757\n",
       "                         Concerta                          0.058632\n",
       "                         Cylert                            0.014638\n",
       "                         Daytrana                          0.031663\n",
       "                         Desoxyn                           0.130644\n",
       "                         Desvenlafaxine                    0.006061\n",
       "                         Dexedrine                         0.064782\n",
       "                         Dexmethylphenidate                0.041749\n",
       "                         Dextroamphetamine                 0.052349\n",
       "                         Dextrostat                        0.045377\n",
       "                         Dyanavel XR                       0.016378\n",
       "                         Evekeo                            0.008560\n",
       "                         Focalin                           0.046721\n",
       "                         Focalin XR                        0.044702\n",
       "                         Guanfacine                        0.069605\n",
       "                         Intuniv                           0.078113\n",
       "                         Kapvay                            0.127608\n",
       "                         Lisdexamfetamine                  0.045251\n",
       "                         Metadate CD                       0.037593\n",
       "...                                                             ...\n",
       "ibromyalgia              Nuvigil                           0.257571\n",
       "                         Prednisone                        0.082614\n",
       "                         Pregabalin                        0.130479\n",
       "                         Pristiq                           0.079282\n",
       "                         Prozac                            0.185853\n",
       "                         Savella                           0.113673\n",
       "                         Skelaxin                          0.084142\n",
       "                         Sodium oxybate                    0.103717\n",
       "                         Sterapred DS                      0.056891\n",
       "                         Topamax                           0.043799\n",
       "                         Topiramate                        0.060077\n",
       "                         Tramadol                          0.109870\n",
       "                         Trazodone                         0.054645\n",
       "                         Ultram                            0.079947\n",
       "                         Ultram ER                         0.086489\n",
       "                         Venlafaxine                       0.068417\n",
       "                         Xyrem                             0.246492\n",
       "lic Acid Deficiency      Deplin                            9.561251\n",
       "                         L-methylfolate                    6.035506\n",
       "m Pain Disorde           Milnacipran                       0.000000\n",
       "min)                     Alogliptin / metformin            0.229274\n",
       "                         Dapagliflozin / metformin         0.210445\n",
       "                         Empagliflozin / metformin         1.130246\n",
       "                         Linagliptin / metformin           0.932860\n",
       "                         Metformin                         9.299290\n",
       "moterol)                 Arformoterol                      2.049977\n",
       "                         Budesonide / formoterol           2.231980\n",
       "von Willebrand's Disease Stimate                           7.674806\n",
       "zen Shoulde              Nabumetone                       28.262744\n",
       "                         Naproxen                          1.452067\n",
       "\n",
       "[5773 rows x 1 columns]"
      ]
     },
     "execution_count": 76,
     "metadata": {},
     "output_type": "execute_result"
    }
   ],
   "source": [
    "df_test = df_test.groupby(['condition','drugName']).agg({'total_pred' : ['mean']})\n",
    "df_test"
   ]
  },
  {
   "cell_type": "markdown",
   "metadata": {
    "_uuid": "24aedde8fec7cde0d040d027ba5e9ff76667de70"
   },
   "source": [
    "## 4. Conclusion"
   ]
  },
  {
   "cell_type": "markdown",
   "metadata": {
    "_uuid": "959209a6bc1c99eb5526699b8fc60702521e5bfe"
   },
   "source": [
    "The team performed the analysis and recommended the medicine/drug name for the patient's condition. The reviews were analyzed, and as we moved further in the project, we worked with data preprocessing and modelling. In conclusion, there were some points which we observed:\n",
    "1. When we implemented the sentiment word dictionary, it had low reliability when the positive and negative words were small. For example, if there were 0 positive words in the sentence and one negative word, the sentence was negative. Hence, if the number of sentiment words was five or less, we removed the observations.\n",
    "2. As we have considered the normalized usefulCount to determine the predicted values. The parameter may tend to be higher for the older reviews as the number of visitors increased. Hence, we can consider the time parameter as well.\n"
   ]
  }
 ],
 "metadata": {
  "kernelspec": {
   "display_name": "Python 3",
   "language": "python",
   "name": "python3"
  },
  "language_info": {
   "codemirror_mode": {
    "name": "ipython",
    "version": 3
   },
   "file_extension": ".py",
   "mimetype": "text/x-python",
   "name": "python",
   "nbconvert_exporter": "python",
   "pygments_lexer": "ipython3",
   "version": "3.8.3"
  }
 },
 "nbformat": 4,
 "nbformat_minor": 4
}
